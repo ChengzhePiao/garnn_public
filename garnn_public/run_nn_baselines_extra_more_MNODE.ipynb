{
 "cells": [
  {
   "cell_type": "code",
   "execution_count": 2,
   "metadata": {},
   "outputs": [],
   "source": [
    "def select_conf(version, dataset, seed, method):\n",
    "    if dataset == 'ohio':\n",
    "        CONF = {\n",
    "            'data_path':f'../../code_data/{dataset}/{version}/',\n",
    "            'log_path': f'../../code_log/{version}/{dataset}',\n",
    "            'dataset': dataset,\n",
    "            'n_prev' : 48,\n",
    "            'pred_window' : 6,\n",
    "            'seq_len': 48,\n",
    "            'mix_test_and_valid_2018': False,\n",
    "\n",
    "            'attri_list': [ 'bolus', 'meal',  'basis_heart_rate', 'basis_steps'],\n",
    "            \n",
    "            'time_attri_list' : [],     \n",
    "\n",
    "            'model_name': method, \n",
    "\n",
    "\n",
    "            'lr': 1e-3,  # 1e-4\n",
    "            'tuning_lr':1e-5,\n",
    "            'epochs': 30,\n",
    "            'local_epochs': 500,\n",
    "            'tuning_epochs': 30, \n",
    "            'tuning_local_epochs': 80,\n",
    "\n",
    "\n",
    "            'weight_decay': 1e-4,\n",
    "            'batch_size': 128,\n",
    "            'device': 'cuda',\n",
    "\n",
    "\n",
    "            'print_every':2,\n",
    "            'comments': f'pred_6_all_features_seed_{seed}',\n",
    "            'save_model': True,\n",
    "            'all_edges': True,\n",
    "\n",
    "            \n",
    "            'interval': 5,\n",
    "            'log_epoch_vari_imp': False,\n",
    "\n",
    "            'rewrite':False,\n",
    "        }\n",
    "    elif dataset == 'arises':\n",
    "        CONF = {\n",
    "            'data_path':f'../../code_data/{dataset}/{version}/',\n",
    "            'log_path': f'../../code_log/{version}/{dataset}',\n",
    "            'dataset': dataset,\n",
    "            'n_prev' : 48,\n",
    "            'pred_window' : 6,\n",
    "            'seq_len': 48,\n",
    "            'mix_test_and_valid_2018': False,\n",
    "\n",
    "            'attri_list': ['bolus', 'meal',  'HR'],\n",
    "            'time_attri_list' : [],     \n",
    "            'model_name': method, \n",
    "\n",
    "\n",
    "            'lr': 1e-3,  # 1e-4\n",
    "            'tuning_lr':1e-5,\n",
    "            'epochs': 30,\n",
    "            'local_epochs': 500,\n",
    "            'tuning_epochs': 30, \n",
    "            'tuning_local_epochs': 80,\n",
    "            'weight_decay': 1e-4,\n",
    "            'batch_size': 128,\n",
    "            'device': 'cuda',\n",
    "\n",
    "\n",
    "            'print_every':2,\n",
    "            'comments': f'pred_6_all_features_seed_{seed}',\n",
    "            'save_model': True,\n",
    "            'all_edges': True,\n",
    "\n",
    "\n",
    "            'interval': 5,\n",
    "            'log_epoch_vari_imp': False,\n",
    "\n",
    "            'rewrite':False,\n",
    "        }\n",
    "    elif dataset == 'shanghai_t2dm':\n",
    "        CONF = {\n",
    "            'data_path':f'../../code_data/{dataset}/{version}/',\n",
    "            'log_path': f'../../code_log/{version}/{dataset}',\n",
    "            'dataset': dataset,\n",
    "            'n_prev' : 16,\n",
    "            'pred_window' : 2,\n",
    "            'seq_len': 16,\n",
    "\n",
    "            'attri_list': ['bolus', 'meal'], \n",
    "            'time_attri_list' : [],  \n",
    "\n",
    "            'model_name':method, \n",
    "\n",
    "            'lr': 1e-3,  # 1e-4\n",
    "            'tuning_lr':1e-5,\n",
    "            'epochs': 30,\n",
    "            'local_epochs': 500,\n",
    "            'tuning_epochs': 10, \n",
    "            'tuning_local_epochs': 80,\n",
    "            'weight_decay': 1e-4,\n",
    "            'batch_size': 128,\n",
    "            'device': 'cuda',\n",
    "\n",
    "\n",
    "            'print_every':2,\n",
    "            'comments': f'pred_2_all_features_seed_{seed}',\n",
    "            'save_model': True,\n",
    "            'all_edges':True,\n",
    "\n",
    "\n",
    "            'interval': 15,\n",
    "            'log_epoch_vari_imp': False,\n",
    "            'rewrite':False,\n",
    "\n",
    "        }\n",
    "    elif dataset == 'shanghai_t1dm':\n",
    "\n",
    "        CONF = {\n",
    "            'data_path':f'../../code_data/{dataset}/{version}/',\n",
    "            'log_path': f'../../code_log/{version}/{dataset}',\n",
    "            'dataset': dataset,\n",
    "            'n_prev' : 16,\n",
    "            'pred_window' : 2,\n",
    "            'seq_len': 16,\n",
    "\n",
    "\n",
    "            'attri_list': ['bolus', 'meal'],\n",
    "            'time_attri_list' : [],    \n",
    "\n",
    "            'model_name':method, \n",
    "\n",
    "            'lr': 1e-3,  # 1e-4\n",
    "            'tuning_lr':1e-5,\n",
    "\n",
    "            'epochs': 20,\n",
    "            'local_epochs': 500,\n",
    "            'tuning_epochs': 20, \n",
    "            'tuning_local_epochs': 80,\n",
    "\n",
    "\n",
    "            'weight_decay': 1e-4,\n",
    "            'batch_size': 128,\n",
    "            'device': 'cuda',\n",
    "\n",
    "\n",
    "            'print_every':2,\n",
    "            'comments': f'pred_2_all_features_seed_{seed}',\n",
    "            'save_model': True,\n",
    "\n",
    "            'interval': 15,\n",
    "            'log_epoch_vari_imp': False,\n",
    "            'rewrite':False,\n",
    "        }\n",
    "    return CONF"
   ]
  },
  {
   "cell_type": "code",
   "execution_count": 4,
   "metadata": {},
   "outputs": [
    {
     "name": "stdout",
     "output_type": "stream",
     "text": [
      "############################### MNODE #############################\n",
      "----------------seed=1--dataset='shanghai_t1dm'------------------------\n"
     ]
    },
    {
     "name": "stderr",
     "output_type": "stream",
     "text": [
      "global_loop: 100%|██████████| 20/20 [01:40<00:00,  5.03s/it]\n"
     ]
    },
    {
     "name": "stdout",
     "output_type": "stream",
     "text": [
      " \n",
      " Results after 20 global rounds of training:\n",
      "rmse, 13.83959, 2.64655\n",
      "mape, 8.82089, 3.03561\n",
      "mae, 10.61908, 2.23090\n",
      "grmse, 16.53456, 3.92135\n",
      "time_lag, -3.75000, 6.49519\n",
      "[10.679358878448065, 10.645785118237706, 11.591416280872858, 14.268060850192807, 18.77233695536134, 16.04950113917583, 11.645145147982404, 12.19237495150177, 14.02857289762381, 13.283888754406712, 14.48309656322053, 18.435511181135325]\n"
     ]
    },
    {
     "name": "stderr",
     "output_type": "stream",
     "text": [
      "tune_loop: 100%|██████████| 10/10 [01:36<00:00,  9.69s/it]\n"
     ]
    },
    {
     "name": "stdout",
     "output_type": "stream",
     "text": [
      " \n",
      " Results after 10 of fine tuning:\n",
      "rmse, 13.96576, 2.71214\n",
      "mape, 9.21766, 3.63209\n",
      "mae, 10.80317, 2.38132\n",
      "grmse, 17.02843, 4.24978\n",
      "time_lag, -3.75000, 6.49519\n",
      "[10.603959736681762, 10.592796800428856, 11.432685547504795, 14.2738501411344, 19.25389475869509, 15.930422179907165, 11.592895147266184, 12.065827064037418, 15.96470994102231, 13.905168058332439, 14.276431550031484, 17.69643949915535]\n",
      "models have been saved...\n",
      "end\n",
      "----------------seed=10--dataset='shanghai_t1dm'------------------------\n"
     ]
    },
    {
     "name": "stderr",
     "output_type": "stream",
     "text": [
      "global_loop: 100%|██████████| 20/20 [01:38<00:00,  4.95s/it]\n"
     ]
    },
    {
     "name": "stdout",
     "output_type": "stream",
     "text": [
      " \n",
      " Results after 20 global rounds of training:\n",
      "rmse, 14.08824, 2.70614\n",
      "mape, 9.42590, 3.57448\n",
      "mae, 10.96870, 2.39094\n",
      "grmse, 17.17255, 4.23265\n",
      "time_lag, -2.50000, 5.59017\n",
      "[10.783613305287275, 10.416349075562168, 11.370905212495726, 14.344170192306677, 19.329417303452672, 16.090534607497606, 11.731243990783291, 12.703017493587215, 15.510371522173779, 14.63764133401424, 14.21521086191242, 17.926409013986007]\n"
     ]
    },
    {
     "name": "stderr",
     "output_type": "stream",
     "text": [
      "tune_loop: 100%|██████████| 10/10 [01:38<00:00,  9.89s/it]\n"
     ]
    },
    {
     "name": "stdout",
     "output_type": "stream",
     "text": [
      " \n",
      " Results after 10 of fine tuning:\n",
      "rmse, 13.98304, 2.72969\n",
      "mape, 9.22473, 3.54328\n",
      "mae, 10.83528, 2.42849\n",
      "grmse, 17.08442, 4.15057\n",
      "time_lag, -2.50000, 5.59017\n",
      "[10.63237443704056, 10.535125110029988, 11.235754191028342, 14.191205721298623, 18.719470588175362, 15.80164842336102, 11.65118412663427, 12.128528828668857, 16.98235257766914, 13.85227796639955, 14.207055415672325, 17.859533060597585]\n",
      "models have been saved...\n",
      "end\n",
      "----------------seed=20--dataset='shanghai_t1dm'------------------------\n"
     ]
    },
    {
     "name": "stderr",
     "output_type": "stream",
     "text": [
      "global_loop: 100%|██████████| 20/20 [01:44<00:00,  5.21s/it]\n"
     ]
    },
    {
     "name": "stdout",
     "output_type": "stream",
     "text": [
      " \n",
      " Results after 20 global rounds of training:\n",
      "rmse, 13.64421, 2.49595\n",
      "mape, 8.41909, 2.48696\n",
      "mae, 10.38453, 2.07952\n",
      "grmse, 16.58629, 3.81556\n",
      "time_lag, -3.75000, 6.49519\n",
      "[10.698419357915098, 10.620572233426488, 11.814256648484069, 14.251253307172506, 18.36883815291241, 15.997376226824764, 11.943101776913355, 12.364174163055736, 13.396661917698355, 12.3550994846811, 13.913876617406597, 18.006838029490698]\n"
     ]
    },
    {
     "name": "stderr",
     "output_type": "stream",
     "text": [
      "tune_loop: 100%|██████████| 10/10 [01:36<00:00,  9.64s/it]\n"
     ]
    },
    {
     "name": "stdout",
     "output_type": "stream",
     "text": [
      " \n",
      " Results after 10 of fine tuning:\n",
      "rmse, 13.78353, 2.38301\n",
      "mape, 8.81397, 2.98037\n",
      "mae, 10.57170, 2.04010\n",
      "grmse, 16.63392, 3.63324\n",
      "time_lag, -2.50000, 5.59017\n",
      "[10.685873699820508, 10.614102867765132, 11.98002296814922, 14.344543036185998, 18.196634941476386, 15.460273285062852, 12.029691203808365, 12.591476197299047, 14.987227024268137, 12.954748772055378, 13.772100824071774, 17.785626829789148]\n",
      "models have been saved...\n",
      "end\n",
      "----------------seed=100--dataset='shanghai_t1dm'------------------------\n"
     ]
    },
    {
     "name": "stderr",
     "output_type": "stream",
     "text": [
      "global_loop: 100%|██████████| 20/20 [01:42<00:00,  5.11s/it]\n"
     ]
    },
    {
     "name": "stdout",
     "output_type": "stream",
     "text": [
      " \n",
      " Results after 20 global rounds of training:\n",
      "rmse, 13.91382, 2.59341\n",
      "mape, 9.15900, 3.33906\n",
      "mae, 10.77890, 2.26031\n",
      "grmse, 16.85231, 3.96314\n",
      "time_lag, -2.50000, 5.59017\n",
      "[10.823329199283124, 10.505467762326123, 11.693490354671898, 14.52659378105834, 18.821599134880667, 15.357546444275725, 11.626635364641988, 11.973078729291498, 15.184267053183135, 14.211734189460307, 14.168984855519378, 18.07309293486928]\n"
     ]
    },
    {
     "name": "stderr",
     "output_type": "stream",
     "text": [
      "tune_loop: 100%|██████████| 10/10 [01:39<00:00,  9.93s/it]\n"
     ]
    },
    {
     "name": "stdout",
     "output_type": "stream",
     "text": [
      " \n",
      " Results after 10 of fine tuning:\n",
      "rmse, 13.95952, 2.67271\n",
      "mape, 9.20554, 3.53167\n",
      "mae, 10.81884, 2.36753\n",
      "grmse, 16.96644, 4.02562\n",
      "time_lag, -2.50000, 5.59017\n",
      "[10.748010140712712, 10.624126802354159, 11.709779118410095, 14.469483985162533, 18.512206303586897, 15.311247856170507, 11.673626667420562, 11.43705773671059, 17.062306832697768, 13.981378978122395, 14.131830505028411, 17.85317193921057]\n",
      "models have been saved...\n",
      "end\n",
      "----------------seed=1--dataset='ohio'------------------------\n",
      "exists.... don't rewrite\n",
      "end\n",
      "----------------seed=10--dataset='ohio'------------------------\n",
      "exists.... don't rewrite\n",
      "end\n",
      "----------------seed=20--dataset='ohio'------------------------\n",
      "exists.... don't rewrite\n",
      "end\n",
      "----------------seed=100--dataset='ohio'------------------------\n",
      "exists.... don't rewrite\n",
      "end\n",
      "----------------seed=1--dataset='arises'------------------------\n",
      "exists.... don't rewrite\n",
      "end\n",
      "----------------seed=10--dataset='arises'------------------------\n",
      "exists.... don't rewrite\n",
      "end\n",
      "----------------seed=20--dataset='arises'------------------------\n",
      "exists.... don't rewrite\n",
      "end\n",
      "----------------seed=100--dataset='arises'------------------------\n",
      "exists.... don't rewrite\n",
      "end\n",
      "----------------seed=1--dataset='shanghai_t2dm'------------------------\n",
      "exists.... don't rewrite\n",
      "end\n",
      "----------------seed=10--dataset='shanghai_t2dm'------------------------\n",
      "exists.... don't rewrite\n",
      "end\n",
      "----------------seed=20--dataset='shanghai_t2dm'------------------------\n",
      "exists.... don't rewrite\n",
      "end\n",
      "----------------seed=100--dataset='shanghai_t2dm'------------------------\n",
      "exists.... don't rewrite\n",
      "end\n"
     ]
    }
   ],
   "source": [
    "for method in ['MNODE']:\n",
    "    print(f'############################### {method} #############################')\n",
    "    for dataset in ['shanghai_t1dm', 'ohio', 'arises', 'shanghai_t2dm', ]:\n",
    "        for seed in [1, 10, 20, 100]:\n",
    "            \n",
    "            print(f'----------------{seed=}--{dataset=}------------------------')\n",
    "            from gat_mem_org_log.train import *\n",
    "            random.seed(seed)\n",
    "            np.random.seed(seed)\n",
    "            torch.manual_seed(seed)\n",
    "            torch.cuda.manual_seed(seed)\n",
    "            torch.backends.cudnn.deterministic = True\n",
    "            torch.backends.cudnn.benchmark = False\n",
    "            os.environ['PYTHONHASHSEED'] = str(seed)\n",
    "\n",
    "            version = 'nips_23'\n",
    "\n",
    "            CONF = select_conf(dataset=dataset, version=version, seed=seed, method=method)\n",
    "            pid2model = train(CONF)\n",
    "            print('end')"
   ]
  }
 ],
 "metadata": {
  "kernelspec": {
   "display_name": "base",
   "language": "python",
   "name": "python3"
  },
  "language_info": {
   "codemirror_mode": {
    "name": "ipython",
    "version": 3
   },
   "file_extension": ".py",
   "mimetype": "text/x-python",
   "name": "python",
   "nbconvert_exporter": "python",
   "pygments_lexer": "ipython3",
   "version": "3.9.18"
  },
  "orig_nbformat": 4
 },
 "nbformat": 4,
 "nbformat_minor": 2
}
