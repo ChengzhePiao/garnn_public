{
 "cells": [
  {
   "cell_type": "code",
   "execution_count": 3,
   "metadata": {},
   "outputs": [
    {
     "name": "stdout",
     "output_type": "stream",
     "text": [
      "----------------alpha=0.0------------------------\n"
     ]
    },
    {
     "name": "stderr",
     "output_type": "stream",
     "text": [
      "global_loop: 100%|██████████| 30/30 [46:59<00:00, 93.99s/it]\n"
     ]
    },
    {
     "name": "stdout",
     "output_type": "stream",
     "text": [
      " \n",
      " Results after 30 global rounds of training:\n",
      "rmse, 19.28548, 2.58944\n",
      "mape, 9.47597, 1.82558\n",
      "mae, 13.73422, 1.76292\n",
      "grmse, 24.08267, 3.31432\n",
      "time_lag, -6.56944, 4.67284\n",
      "[18.41481655488319, 18.20193715947349, 16.448434420121778, 22.449715946838836, 17.203059363521472, 20.650929191318337, 22.423451055235954, 17.1047965834765, 16.612510177115485, 21.28380884143691, 23.949570125154388, 16.68278385341036]\n"
     ]
    },
    {
     "name": "stderr",
     "output_type": "stream",
     "text": [
      "tune_loop: 100%|██████████| 30/30 [1:25:13<00:00, 170.47s/it]\n"
     ]
    },
    {
     "name": "stdout",
     "output_type": "stream",
     "text": [
      " \n",
      " Results after 30 of fine tuning:\n",
      "(10, 48, 16, 16)\n",
      "(10, 16, 48)\n",
      "rmse, 18.89214, 2.47665\n",
      "mape, 9.04689, 1.81966\n",
      "mae, 13.28738, 1.70930\n",
      "grmse, 23.56261, 3.24852\n",
      "time_lag, -6.50694, 4.77751\n",
      "[18.19567729212465, 18.104675262412798, 15.833130416908341, 22.657653512561986, 16.90131050762041, 20.38278180694316, 21.552618886329686, 16.06098853692397, 16.896193469529333, 20.968125631073196, 22.613959047429713, 16.538507090934026]\n",
      "(10, 48, 16, 16)\n",
      "(10, 16, 48)\n"
     ]
    },
    {
     "name": "stderr",
     "output_type": "stream",
     "text": [
      "c:\\code\\fornips23\\gat_mem_org_log\\log.py:191: RuntimeWarning: More than 20 figures have been opened. Figures created through the pyplot interface (`matplotlib.pyplot.figure`) are retained until explicitly closed and may consume too much memory. (To control this warning, see the rcParam `figure.max_open_warning`).\n",
      "  fig, axs = plt.subplots(figsize = (20, 10), ncols=1, nrows=nrows, sharex = sharex)\n"
     ]
    },
    {
     "name": "stdout",
     "output_type": "stream",
     "text": [
      "models have been saved...\n",
      "end\n",
      "----------------alpha=0.4------------------------\n"
     ]
    },
    {
     "name": "stderr",
     "output_type": "stream",
     "text": [
      "global_loop: 100%|██████████| 30/30 [45:54<00:00, 91.82s/it]\n"
     ]
    },
    {
     "name": "stdout",
     "output_type": "stream",
     "text": [
      " \n",
      " Results after 30 global rounds of training:\n",
      "rmse, 19.50802, 2.51242\n",
      "mape, 9.65783, 1.77403\n",
      "mae, 13.97695, 1.71417\n",
      "grmse, 24.40312, 3.24317\n",
      "time_lag, -6.63889, 4.70462\n",
      "[18.950062226769532, 18.176772267067335, 16.853557159128624, 22.736200528081312, 17.439429391748046, 20.589105247261536, 23.074074257313796, 17.11176050008033, 17.375414507195938, 21.42351465050655, 23.586174280444464, 16.780133371834758]\n"
     ]
    },
    {
     "name": "stderr",
     "output_type": "stream",
     "text": [
      "tune_loop: 100%|██████████| 30/30 [1:24:21<00:00, 168.71s/it]\n"
     ]
    },
    {
     "name": "stdout",
     "output_type": "stream",
     "text": [
      " \n",
      " Results after 30 of fine tuning:\n",
      "(10, 48, 16, 16)\n",
      "(10, 16, 48)\n",
      "rmse, 18.99398, 2.43420\n",
      "mape, 9.02710, 1.76094\n",
      "mae, 13.29705, 1.66312\n",
      "grmse, 23.74277, 3.24908\n",
      "time_lag, -5.95139, 4.11080\n",
      "[18.23396830362651, 17.893882754703142, 16.184241950119258, 22.698027215005382, 17.302228944989825, 20.217820961315986, 21.931568876368747, 16.17304400213274, 17.089462049308796, 21.061459659952643, 22.586548223323796, 16.55551334065653]\n",
      "(10, 48, 16, 16)\n",
      "(10, 16, 48)\n",
      "models have been saved...\n",
      "end\n",
      "----------------alpha=0.6------------------------\n"
     ]
    },
    {
     "name": "stderr",
     "output_type": "stream",
     "text": [
      "global_loop: 100%|██████████| 30/30 [46:08<00:00, 92.30s/it]\n"
     ]
    },
    {
     "name": "stdout",
     "output_type": "stream",
     "text": [
      " \n",
      " Results after 30 global rounds of training:\n",
      "rmse, 19.56621, 2.60739\n",
      "mape, 9.63810, 1.81614\n",
      "mae, 13.99292, 1.79036\n",
      "grmse, 24.52986, 3.37027\n",
      "time_lag, -6.88194, 5.20933\n",
      "[18.89027847464429, 18.335751090871796, 17.23425547471019, 22.47114238284815, 17.17686194220704, 21.082191567043765, 23.194858586414146, 16.805243191649108, 17.458502696573095, 21.652105906482788, 23.93566536907124, 16.557690191937628]\n"
     ]
    },
    {
     "name": "stderr",
     "output_type": "stream",
     "text": [
      "tune_loop: 100%|██████████| 30/30 [1:24:25<00:00, 168.86s/it]\n"
     ]
    },
    {
     "name": "stdout",
     "output_type": "stream",
     "text": [
      " \n",
      " Results after 30 of fine tuning:\n",
      "(10, 48, 16, 16)\n",
      "(10, 16, 48)\n",
      "rmse, 18.88930, 2.39751\n",
      "mape, 9.01118, 1.78344\n",
      "mae, 13.26727, 1.67975\n",
      "grmse, 23.58773, 3.18199\n",
      "time_lag, -6.40278, 4.79557\n",
      "[18.35320541283678, 17.907105536935262, 16.160083072562138, 22.046668059136863, 17.060164854230326, 20.493274608983768, 22.11820301889727, 16.093841967273637, 16.95113485582575, 20.92791802080529, 22.274196540907344, 16.28585287623126]\n",
      "(10, 48, 16, 16)\n",
      "(10, 16, 48)\n",
      "models have been saved...\n",
      "end\n",
      "----------------alpha=0.8------------------------\n"
     ]
    },
    {
     "name": "stderr",
     "output_type": "stream",
     "text": [
      "global_loop: 100%|██████████| 30/30 [45:54<00:00, 91.80s/it]\n"
     ]
    },
    {
     "name": "stdout",
     "output_type": "stream",
     "text": [
      " \n",
      " Results after 30 global rounds of training:\n",
      "rmse, 19.83137, 3.02414\n",
      "mape, 9.33636, 1.75692\n",
      "mae, 13.80610, 1.86303\n",
      "grmse, 24.97001, 4.09869\n",
      "time_lag, -6.67361, 4.65057\n",
      "[18.757594490611496, 18.539515178312378, 17.777307271029372, 23.42493413144421, 17.324013967927222, 20.47917941595271, 26.00898704729891, 16.6485758954243, 17.259482610734146, 21.479624474792967, 23.69321052744132, 16.583993460904647]\n"
     ]
    },
    {
     "name": "stderr",
     "output_type": "stream",
     "text": [
      "tune_loop: 100%|██████████| 30/30 [1:25:40<00:00, 171.35s/it]\n"
     ]
    },
    {
     "name": "stdout",
     "output_type": "stream",
     "text": [
      " \n",
      " Results after 30 of fine tuning:\n",
      "(10, 48, 16, 16)\n",
      "(10, 16, 48)\n",
      "rmse, 19.17815, 2.51438\n",
      "mape, 9.05319, 1.76015\n",
      "mae, 13.35710, 1.69728\n",
      "grmse, 24.01389, 3.41516\n",
      "time_lag, -6.50694, 4.77751\n",
      "[18.275545818146497, 18.29693087496806, 17.177122222072917, 22.904989626819034, 16.98779307401025, 20.377019676787945, 22.877447945776616, 16.187056958826123, 17.070264230480955, 20.90579382793612, 22.687370867401096, 16.39041925961198]\n",
      "(10, 48, 16, 16)\n",
      "(10, 16, 48)\n",
      "models have been saved...\n",
      "end\n",
      "----------------alpha=1.0------------------------\n"
     ]
    },
    {
     "name": "stderr",
     "output_type": "stream",
     "text": [
      "global_loop: 100%|██████████| 30/30 [45:45<00:00, 91.52s/it]\n"
     ]
    },
    {
     "name": "stdout",
     "output_type": "stream",
     "text": [
      " \n",
      " Results after 30 global rounds of training:\n",
      "rmse, 19.38595, 2.65713\n",
      "mape, 9.62586, 1.88848\n",
      "mae, 13.88452, 1.82800\n",
      "grmse, 24.18478, 3.36625\n",
      "time_lag, -6.77778, 4.87261\n",
      "[18.62142520879217, 17.81821540022536, 16.37575383671552, 22.747520898578156, 17.09380177380185, 20.61503591581996, 22.430635810238694, 17.190258123868716, 17.27272195770328, 21.595848588780466, 24.237316472035946, 16.632921669146196]\n"
     ]
    },
    {
     "name": "stderr",
     "output_type": "stream",
     "text": [
      "tune_loop: 100%|██████████| 30/30 [1:24:16<00:00, 168.55s/it]\n"
     ]
    },
    {
     "name": "stdout",
     "output_type": "stream",
     "text": [
      " \n",
      " Results after 30 of fine tuning:\n",
      "(10, 48, 16, 16)\n",
      "(10, 16, 48)\n",
      "rmse, 18.95823, 2.50253\n",
      "mape, 9.09825, 1.83627\n",
      "mae, 13.35067, 1.73809\n",
      "grmse, 23.68168, 3.28098\n",
      "time_lag, -6.40278, 4.79557\n",
      "[18.35859040876709, 17.884404622769456, 15.662465824172111, 22.859306914201408, 17.101760577313378, 20.32475817021532, 21.520711459626877, 16.35915487554866, 17.158949120272762, 21.142463282742373, 22.73983235615288, 16.386381198102626]\n",
      "(10, 48, 16, 16)\n",
      "(10, 16, 48)\n",
      "models have been saved...\n",
      "end\n"
     ]
    },
    {
     "data": {
      "text/plain": [
       "<Figure size 1440x1080 with 0 Axes>"
      ]
     },
     "metadata": {},
     "output_type": "display_data"
    },
    {
     "data": {
      "text/plain": [
       "<Figure size 1440x1080 with 0 Axes>"
      ]
     },
     "metadata": {},
     "output_type": "display_data"
    },
    {
     "data": {
      "text/plain": [
       "<Figure size 1440x720 with 0 Axes>"
      ]
     },
     "metadata": {},
     "output_type": "display_data"
    },
    {
     "data": {
      "text/plain": [
       "<Figure size 1440x720 with 0 Axes>"
      ]
     },
     "metadata": {},
     "output_type": "display_data"
    },
    {
     "data": {
      "text/plain": [
       "<Figure size 1440x720 with 0 Axes>"
      ]
     },
     "metadata": {},
     "output_type": "display_data"
    },
    {
     "data": {
      "text/plain": [
       "<Figure size 1440x720 with 0 Axes>"
      ]
     },
     "metadata": {},
     "output_type": "display_data"
    },
    {
     "data": {
      "text/plain": [
       "<Figure size 1440x720 with 0 Axes>"
      ]
     },
     "metadata": {},
     "output_type": "display_data"
    },
    {
     "data": {
      "text/plain": [
       "<Figure size 1440x720 with 0 Axes>"
      ]
     },
     "metadata": {},
     "output_type": "display_data"
    },
    {
     "data": {
      "text/plain": [
       "<Figure size 1440x720 with 0 Axes>"
      ]
     },
     "metadata": {},
     "output_type": "display_data"
    },
    {
     "data": {
      "text/plain": [
       "<Figure size 1440x720 with 0 Axes>"
      ]
     },
     "metadata": {},
     "output_type": "display_data"
    },
    {
     "data": {
      "text/plain": [
       "<Figure size 1440x720 with 0 Axes>"
      ]
     },
     "metadata": {},
     "output_type": "display_data"
    },
    {
     "data": {
      "text/plain": [
       "<Figure size 1440x720 with 0 Axes>"
      ]
     },
     "metadata": {},
     "output_type": "display_data"
    },
    {
     "data": {
      "text/plain": [
       "<Figure size 1440x1080 with 0 Axes>"
      ]
     },
     "metadata": {},
     "output_type": "display_data"
    },
    {
     "data": {
      "text/plain": [
       "<Figure size 1440x1080 with 0 Axes>"
      ]
     },
     "metadata": {},
     "output_type": "display_data"
    },
    {
     "data": {
      "text/plain": [
       "<Figure size 1440x720 with 0 Axes>"
      ]
     },
     "metadata": {},
     "output_type": "display_data"
    },
    {
     "data": {
      "text/plain": [
       "<Figure size 1440x720 with 0 Axes>"
      ]
     },
     "metadata": {},
     "output_type": "display_data"
    },
    {
     "data": {
      "text/plain": [
       "<Figure size 1440x720 with 0 Axes>"
      ]
     },
     "metadata": {},
     "output_type": "display_data"
    },
    {
     "data": {
      "text/plain": [
       "<Figure size 1440x720 with 0 Axes>"
      ]
     },
     "metadata": {},
     "output_type": "display_data"
    },
    {
     "data": {
      "text/plain": [
       "<Figure size 1440x720 with 0 Axes>"
      ]
     },
     "metadata": {},
     "output_type": "display_data"
    },
    {
     "data": {
      "text/plain": [
       "<Figure size 1440x720 with 0 Axes>"
      ]
     },
     "metadata": {},
     "output_type": "display_data"
    },
    {
     "data": {
      "text/plain": [
       "<Figure size 1440x720 with 0 Axes>"
      ]
     },
     "metadata": {},
     "output_type": "display_data"
    },
    {
     "data": {
      "text/plain": [
       "<Figure size 1440x720 with 0 Axes>"
      ]
     },
     "metadata": {},
     "output_type": "display_data"
    },
    {
     "data": {
      "text/plain": [
       "<Figure size 1440x720 with 0 Axes>"
      ]
     },
     "metadata": {},
     "output_type": "display_data"
    },
    {
     "data": {
      "text/plain": [
       "<Figure size 1440x720 with 0 Axes>"
      ]
     },
     "metadata": {},
     "output_type": "display_data"
    },
    {
     "data": {
      "text/plain": [
       "<Figure size 1440x1080 with 0 Axes>"
      ]
     },
     "metadata": {},
     "output_type": "display_data"
    },
    {
     "data": {
      "text/plain": [
       "<Figure size 1440x1080 with 0 Axes>"
      ]
     },
     "metadata": {},
     "output_type": "display_data"
    },
    {
     "data": {
      "text/plain": [
       "<Figure size 1440x720 with 0 Axes>"
      ]
     },
     "metadata": {},
     "output_type": "display_data"
    },
    {
     "data": {
      "text/plain": [
       "<Figure size 1440x720 with 0 Axes>"
      ]
     },
     "metadata": {},
     "output_type": "display_data"
    },
    {
     "data": {
      "text/plain": [
       "<Figure size 1440x720 with 0 Axes>"
      ]
     },
     "metadata": {},
     "output_type": "display_data"
    },
    {
     "data": {
      "text/plain": [
       "<Figure size 1440x720 with 0 Axes>"
      ]
     },
     "metadata": {},
     "output_type": "display_data"
    },
    {
     "data": {
      "text/plain": [
       "<Figure size 1440x720 with 0 Axes>"
      ]
     },
     "metadata": {},
     "output_type": "display_data"
    },
    {
     "data": {
      "text/plain": [
       "<Figure size 1440x720 with 0 Axes>"
      ]
     },
     "metadata": {},
     "output_type": "display_data"
    },
    {
     "data": {
      "text/plain": [
       "<Figure size 1440x720 with 0 Axes>"
      ]
     },
     "metadata": {},
     "output_type": "display_data"
    },
    {
     "data": {
      "text/plain": [
       "<Figure size 1440x720 with 0 Axes>"
      ]
     },
     "metadata": {},
     "output_type": "display_data"
    },
    {
     "data": {
      "text/plain": [
       "<Figure size 1440x720 with 0 Axes>"
      ]
     },
     "metadata": {},
     "output_type": "display_data"
    },
    {
     "data": {
      "text/plain": [
       "<Figure size 1440x720 with 0 Axes>"
      ]
     },
     "metadata": {},
     "output_type": "display_data"
    },
    {
     "data": {
      "text/plain": [
       "<Figure size 1440x1080 with 0 Axes>"
      ]
     },
     "metadata": {},
     "output_type": "display_data"
    },
    {
     "data": {
      "text/plain": [
       "<Figure size 1440x1080 with 0 Axes>"
      ]
     },
     "metadata": {},
     "output_type": "display_data"
    },
    {
     "data": {
      "text/plain": [
       "<Figure size 1440x720 with 0 Axes>"
      ]
     },
     "metadata": {},
     "output_type": "display_data"
    },
    {
     "data": {
      "text/plain": [
       "<Figure size 1440x720 with 0 Axes>"
      ]
     },
     "metadata": {},
     "output_type": "display_data"
    },
    {
     "data": {
      "text/plain": [
       "<Figure size 1440x720 with 0 Axes>"
      ]
     },
     "metadata": {},
     "output_type": "display_data"
    },
    {
     "data": {
      "text/plain": [
       "<Figure size 1440x720 with 0 Axes>"
      ]
     },
     "metadata": {},
     "output_type": "display_data"
    },
    {
     "data": {
      "text/plain": [
       "<Figure size 1440x720 with 0 Axes>"
      ]
     },
     "metadata": {},
     "output_type": "display_data"
    },
    {
     "data": {
      "text/plain": [
       "<Figure size 1440x720 with 0 Axes>"
      ]
     },
     "metadata": {},
     "output_type": "display_data"
    },
    {
     "data": {
      "text/plain": [
       "<Figure size 1440x720 with 0 Axes>"
      ]
     },
     "metadata": {},
     "output_type": "display_data"
    },
    {
     "data": {
      "text/plain": [
       "<Figure size 1440x720 with 0 Axes>"
      ]
     },
     "metadata": {},
     "output_type": "display_data"
    },
    {
     "data": {
      "text/plain": [
       "<Figure size 1440x720 with 0 Axes>"
      ]
     },
     "metadata": {},
     "output_type": "display_data"
    },
    {
     "data": {
      "text/plain": [
       "<Figure size 1440x720 with 0 Axes>"
      ]
     },
     "metadata": {},
     "output_type": "display_data"
    },
    {
     "data": {
      "text/plain": [
       "<Figure size 1440x1080 with 0 Axes>"
      ]
     },
     "metadata": {},
     "output_type": "display_data"
    },
    {
     "data": {
      "text/plain": [
       "<Figure size 1440x1080 with 0 Axes>"
      ]
     },
     "metadata": {},
     "output_type": "display_data"
    },
    {
     "data": {
      "text/plain": [
       "<Figure size 1440x720 with 0 Axes>"
      ]
     },
     "metadata": {},
     "output_type": "display_data"
    },
    {
     "data": {
      "text/plain": [
       "<Figure size 1440x720 with 0 Axes>"
      ]
     },
     "metadata": {},
     "output_type": "display_data"
    },
    {
     "data": {
      "text/plain": [
       "<Figure size 1440x720 with 0 Axes>"
      ]
     },
     "metadata": {},
     "output_type": "display_data"
    },
    {
     "data": {
      "text/plain": [
       "<Figure size 1440x720 with 0 Axes>"
      ]
     },
     "metadata": {},
     "output_type": "display_data"
    },
    {
     "data": {
      "text/plain": [
       "<Figure size 1440x720 with 0 Axes>"
      ]
     },
     "metadata": {},
     "output_type": "display_data"
    },
    {
     "data": {
      "text/plain": [
       "<Figure size 1440x720 with 0 Axes>"
      ]
     },
     "metadata": {},
     "output_type": "display_data"
    },
    {
     "data": {
      "text/plain": [
       "<Figure size 1440x720 with 0 Axes>"
      ]
     },
     "metadata": {},
     "output_type": "display_data"
    },
    {
     "data": {
      "text/plain": [
       "<Figure size 1440x720 with 0 Axes>"
      ]
     },
     "metadata": {},
     "output_type": "display_data"
    },
    {
     "data": {
      "text/plain": [
       "<Figure size 1440x720 with 0 Axes>"
      ]
     },
     "metadata": {},
     "output_type": "display_data"
    },
    {
     "data": {
      "text/plain": [
       "<Figure size 1440x720 with 0 Axes>"
      ]
     },
     "metadata": {},
     "output_type": "display_data"
    },
    {
     "data": {
      "text/plain": [
       "<Figure size 1440x1080 with 0 Axes>"
      ]
     },
     "metadata": {},
     "output_type": "display_data"
    },
    {
     "data": {
      "text/plain": [
       "<Figure size 1440x1080 with 0 Axes>"
      ]
     },
     "metadata": {},
     "output_type": "display_data"
    },
    {
     "data": {
      "text/plain": [
       "<Figure size 1440x720 with 0 Axes>"
      ]
     },
     "metadata": {},
     "output_type": "display_data"
    },
    {
     "data": {
      "text/plain": [
       "<Figure size 1440x720 with 0 Axes>"
      ]
     },
     "metadata": {},
     "output_type": "display_data"
    },
    {
     "data": {
      "text/plain": [
       "<Figure size 1440x720 with 0 Axes>"
      ]
     },
     "metadata": {},
     "output_type": "display_data"
    },
    {
     "data": {
      "text/plain": [
       "<Figure size 1440x720 with 0 Axes>"
      ]
     },
     "metadata": {},
     "output_type": "display_data"
    },
    {
     "data": {
      "text/plain": [
       "<Figure size 1440x720 with 0 Axes>"
      ]
     },
     "metadata": {},
     "output_type": "display_data"
    },
    {
     "data": {
      "text/plain": [
       "<Figure size 1440x720 with 0 Axes>"
      ]
     },
     "metadata": {},
     "output_type": "display_data"
    },
    {
     "data": {
      "text/plain": [
       "<Figure size 1440x720 with 0 Axes>"
      ]
     },
     "metadata": {},
     "output_type": "display_data"
    },
    {
     "data": {
      "text/plain": [
       "<Figure size 1440x720 with 0 Axes>"
      ]
     },
     "metadata": {},
     "output_type": "display_data"
    },
    {
     "data": {
      "text/plain": [
       "<Figure size 1440x720 with 0 Axes>"
      ]
     },
     "metadata": {},
     "output_type": "display_data"
    },
    {
     "data": {
      "text/plain": [
       "<Figure size 1440x720 with 0 Axes>"
      ]
     },
     "metadata": {},
     "output_type": "display_data"
    },
    {
     "data": {
      "text/plain": [
       "<Figure size 1440x1080 with 0 Axes>"
      ]
     },
     "metadata": {},
     "output_type": "display_data"
    },
    {
     "data": {
      "text/plain": [
       "<Figure size 1440x1080 with 0 Axes>"
      ]
     },
     "metadata": {},
     "output_type": "display_data"
    },
    {
     "data": {
      "text/plain": [
       "<Figure size 1440x720 with 0 Axes>"
      ]
     },
     "metadata": {},
     "output_type": "display_data"
    },
    {
     "data": {
      "text/plain": [
       "<Figure size 1440x720 with 0 Axes>"
      ]
     },
     "metadata": {},
     "output_type": "display_data"
    },
    {
     "data": {
      "text/plain": [
       "<Figure size 1440x720 with 0 Axes>"
      ]
     },
     "metadata": {},
     "output_type": "display_data"
    },
    {
     "data": {
      "text/plain": [
       "<Figure size 1440x720 with 0 Axes>"
      ]
     },
     "metadata": {},
     "output_type": "display_data"
    },
    {
     "data": {
      "text/plain": [
       "<Figure size 1440x720 with 0 Axes>"
      ]
     },
     "metadata": {},
     "output_type": "display_data"
    },
    {
     "data": {
      "text/plain": [
       "<Figure size 1440x720 with 0 Axes>"
      ]
     },
     "metadata": {},
     "output_type": "display_data"
    },
    {
     "data": {
      "text/plain": [
       "<Figure size 1440x720 with 0 Axes>"
      ]
     },
     "metadata": {},
     "output_type": "display_data"
    },
    {
     "data": {
      "text/plain": [
       "<Figure size 1440x720 with 0 Axes>"
      ]
     },
     "metadata": {},
     "output_type": "display_data"
    },
    {
     "data": {
      "text/plain": [
       "<Figure size 1440x720 with 0 Axes>"
      ]
     },
     "metadata": {},
     "output_type": "display_data"
    },
    {
     "data": {
      "text/plain": [
       "<Figure size 1440x720 with 0 Axes>"
      ]
     },
     "metadata": {},
     "output_type": "display_data"
    },
    {
     "data": {
      "text/plain": [
       "<Figure size 1440x1080 with 0 Axes>"
      ]
     },
     "metadata": {},
     "output_type": "display_data"
    },
    {
     "data": {
      "text/plain": [
       "<Figure size 1440x1080 with 0 Axes>"
      ]
     },
     "metadata": {},
     "output_type": "display_data"
    },
    {
     "data": {
      "text/plain": [
       "<Figure size 1440x720 with 0 Axes>"
      ]
     },
     "metadata": {},
     "output_type": "display_data"
    },
    {
     "data": {
      "text/plain": [
       "<Figure size 1440x720 with 0 Axes>"
      ]
     },
     "metadata": {},
     "output_type": "display_data"
    },
    {
     "data": {
      "text/plain": [
       "<Figure size 1440x720 with 0 Axes>"
      ]
     },
     "metadata": {},
     "output_type": "display_data"
    },
    {
     "data": {
      "text/plain": [
       "<Figure size 1440x720 with 0 Axes>"
      ]
     },
     "metadata": {},
     "output_type": "display_data"
    },
    {
     "data": {
      "text/plain": [
       "<Figure size 1440x720 with 0 Axes>"
      ]
     },
     "metadata": {},
     "output_type": "display_data"
    },
    {
     "data": {
      "text/plain": [
       "<Figure size 1440x720 with 0 Axes>"
      ]
     },
     "metadata": {},
     "output_type": "display_data"
    },
    {
     "data": {
      "text/plain": [
       "<Figure size 1440x720 with 0 Axes>"
      ]
     },
     "metadata": {},
     "output_type": "display_data"
    },
    {
     "data": {
      "text/plain": [
       "<Figure size 1440x720 with 0 Axes>"
      ]
     },
     "metadata": {},
     "output_type": "display_data"
    },
    {
     "data": {
      "text/plain": [
       "<Figure size 1440x720 with 0 Axes>"
      ]
     },
     "metadata": {},
     "output_type": "display_data"
    },
    {
     "data": {
      "text/plain": [
       "<Figure size 1440x720 with 0 Axes>"
      ]
     },
     "metadata": {},
     "output_type": "display_data"
    },
    {
     "data": {
      "text/plain": [
       "<Figure size 1440x1080 with 0 Axes>"
      ]
     },
     "metadata": {},
     "output_type": "display_data"
    },
    {
     "data": {
      "text/plain": [
       "<Figure size 1440x1080 with 0 Axes>"
      ]
     },
     "metadata": {},
     "output_type": "display_data"
    },
    {
     "data": {
      "text/plain": [
       "<Figure size 1440x720 with 0 Axes>"
      ]
     },
     "metadata": {},
     "output_type": "display_data"
    },
    {
     "data": {
      "text/plain": [
       "<Figure size 1440x720 with 0 Axes>"
      ]
     },
     "metadata": {},
     "output_type": "display_data"
    },
    {
     "data": {
      "text/plain": [
       "<Figure size 1440x720 with 0 Axes>"
      ]
     },
     "metadata": {},
     "output_type": "display_data"
    },
    {
     "data": {
      "text/plain": [
       "<Figure size 1440x720 with 0 Axes>"
      ]
     },
     "metadata": {},
     "output_type": "display_data"
    },
    {
     "data": {
      "text/plain": [
       "<Figure size 1440x720 with 0 Axes>"
      ]
     },
     "metadata": {},
     "output_type": "display_data"
    },
    {
     "data": {
      "text/plain": [
       "<Figure size 1440x720 with 0 Axes>"
      ]
     },
     "metadata": {},
     "output_type": "display_data"
    },
    {
     "data": {
      "text/plain": [
       "<Figure size 1440x720 with 0 Axes>"
      ]
     },
     "metadata": {},
     "output_type": "display_data"
    },
    {
     "data": {
      "text/plain": [
       "<Figure size 1440x720 with 0 Axes>"
      ]
     },
     "metadata": {},
     "output_type": "display_data"
    },
    {
     "data": {
      "text/plain": [
       "<Figure size 1440x720 with 0 Axes>"
      ]
     },
     "metadata": {},
     "output_type": "display_data"
    },
    {
     "data": {
      "text/plain": [
       "<Figure size 1440x720 with 0 Axes>"
      ]
     },
     "metadata": {},
     "output_type": "display_data"
    },
    {
     "data": {
      "text/plain": [
       "<Figure size 1440x1080 with 0 Axes>"
      ]
     },
     "metadata": {},
     "output_type": "display_data"
    },
    {
     "data": {
      "text/plain": [
       "<Figure size 1440x1080 with 0 Axes>"
      ]
     },
     "metadata": {},
     "output_type": "display_data"
    },
    {
     "data": {
      "text/plain": [
       "<Figure size 1440x720 with 0 Axes>"
      ]
     },
     "metadata": {},
     "output_type": "display_data"
    },
    {
     "data": {
      "text/plain": [
       "<Figure size 1440x720 with 0 Axes>"
      ]
     },
     "metadata": {},
     "output_type": "display_data"
    },
    {
     "data": {
      "text/plain": [
       "<Figure size 1440x720 with 0 Axes>"
      ]
     },
     "metadata": {},
     "output_type": "display_data"
    },
    {
     "data": {
      "text/plain": [
       "<Figure size 1440x720 with 0 Axes>"
      ]
     },
     "metadata": {},
     "output_type": "display_data"
    },
    {
     "data": {
      "text/plain": [
       "<Figure size 1440x720 with 0 Axes>"
      ]
     },
     "metadata": {},
     "output_type": "display_data"
    },
    {
     "data": {
      "text/plain": [
       "<Figure size 1440x720 with 0 Axes>"
      ]
     },
     "metadata": {},
     "output_type": "display_data"
    },
    {
     "data": {
      "text/plain": [
       "<Figure size 1440x720 with 0 Axes>"
      ]
     },
     "metadata": {},
     "output_type": "display_data"
    },
    {
     "data": {
      "text/plain": [
       "<Figure size 1440x720 with 0 Axes>"
      ]
     },
     "metadata": {},
     "output_type": "display_data"
    },
    {
     "data": {
      "text/plain": [
       "<Figure size 1440x720 with 0 Axes>"
      ]
     },
     "metadata": {},
     "output_type": "display_data"
    },
    {
     "data": {
      "text/plain": [
       "<Figure size 1440x720 with 0 Axes>"
      ]
     },
     "metadata": {},
     "output_type": "display_data"
    }
   ],
   "source": [
    "for alpha in [0.0, 0.4, 0.6, 0.8, 1.0]:\n",
    "    print(f'----------------{alpha=}------------------------')\n",
    "    from gat_mem_org_log.train import *\n",
    "    seed = 1\n",
    "    random.seed(seed)\n",
    "    np.random.seed(seed)\n",
    "    torch.manual_seed(seed)\n",
    "    torch.cuda.manual_seed(seed)\n",
    "    torch.backends.cudnn.deterministic = True\n",
    "    torch.backends.cudnn.benchmark = False\n",
    "    os.environ['PYTHONHASHSEED'] = str(seed)\n",
    "    dataset = 'ohio'\n",
    "    version = 'nips_23'\n",
    "    CONF = {\n",
    "        'data_path':f'../../code_data/{dataset}/{version}/',\n",
    "        'log_path': f'../../code_log/{version}/{dataset}',\n",
    "        'dataset': dataset,\n",
    "        'n_prev' : 48,\n",
    "        'pred_window' : 6,\n",
    "        'seq_len': 48,\n",
    "        'mix_test_and_valid_2018': False,\n",
    "\n",
    "        'attri_list': [ 'meal', 'bolus', 'basal', 'finger_stick',\n",
    "        'basis_skin_temperature', 'basis_gsr', 'basis_sleep', 'acceleration',\n",
    "        'exercise', 'sleep', 'work', 'basis_steps', 'basis_heart_rate', 'basis_air_temperature'],\n",
    "        \n",
    "        'time_attri_list' : ['timestamp'],     \n",
    "        'model_name':'gatv2_exp', \n",
    "\n",
    "        'hidden_dim': 512,\n",
    "\n",
    "        'lr': 1e-3,  # 1e-4\n",
    "        'tuning_lr':1e-5,\n",
    "        'epochs': 30,\n",
    "        'local_epochs': 500,\n",
    "        'tuning_epochs': 30, \n",
    "        'tuning_local_epochs': 80,\n",
    "\n",
    "        # 'epochs': 2,\n",
    "        # 'local_epochs': 2,\n",
    "        # 'tuning_epochs': 2, \n",
    "        # 'tuning_local_epochs': 2,\n",
    "\n",
    "        'weight_decay': 1e-4,\n",
    "        'batch_size': 128,\n",
    "        'nhead': 1,\n",
    "        'num_layers':2,\n",
    "        'device': 'cuda',\n",
    "\n",
    "\n",
    "        'print_every':2,\n",
    "        'comments': f'pred_6_all_features_alpha_{alpha}',\n",
    "        'save_model': True,\n",
    "        'all_edges': True,\n",
    "\n",
    "        \n",
    "        'interval': 5,\n",
    "        'log_epoch_vari_imp': False,\n",
    "        'alpha': alpha,\n",
    "    }\n",
    "    pid2model = train(CONF)\n",
    "    print('end')"
   ]
  },
  {
   "cell_type": "code",
   "execution_count": 1,
   "metadata": {},
   "outputs": [
    {
     "name": "stdout",
     "output_type": "stream",
     "text": [
      "----------------alpha=0.0------------------------\n"
     ]
    },
    {
     "name": "stderr",
     "output_type": "stream",
     "text": [
      "global_loop: 100%|██████████| 30/30 [50:22<00:00, 100.76s/it]\n"
     ]
    },
    {
     "name": "stdout",
     "output_type": "stream",
     "text": [
      " \n",
      " Results after 30 global rounds of training:\n",
      "rmse, 19.83049, 2.61297\n",
      "mape, 9.85218, 1.80546\n",
      "mae, 14.16091, 1.75135\n",
      "grmse, 24.82434, 3.43371\n",
      "time_lag, -7.12500, 5.21444\n",
      "[19.560400121922033, 18.277615490740136, 17.206796696046087, 23.015672734166387, 17.38656823892953, 21.367639534752296, 23.07972499954641, 17.650380142916273, 17.104469188224975, 21.851005953540003, 24.312621756202194, 17.153034513390864]\n"
     ]
    },
    {
     "name": "stderr",
     "output_type": "stream",
     "text": [
      "tune_loop: 100%|██████████| 30/30 [1:15:41<00:00, 151.37s/it]\n"
     ]
    },
    {
     "name": "stdout",
     "output_type": "stream",
     "text": [
      " \n",
      " Results after 30 of fine tuning:\n",
      "rmse, 19.29384, 2.53780\n",
      "mape, 9.20648, 1.78961\n",
      "mae, 13.48765, 1.65389\n",
      "grmse, 24.14596, 3.47817\n",
      "time_lag, -6.26389, 4.79267\n",
      "[18.84859736963826, 18.35105030681572, 16.186573370256692, 23.275872386477, 17.01483045952578, 20.828274450889168, 22.212850009992106, 16.678983079387663, 17.041756005585405, 21.39479549259403, 22.819817694053643, 16.872738382879923]\n",
      "models have been saved...\n",
      "end\n"
     ]
    },
    {
     "data": {
      "text/plain": [
       "<Figure size 1440x1080 with 0 Axes>"
      ]
     },
     "metadata": {},
     "output_type": "display_data"
    },
    {
     "data": {
      "text/plain": [
       "<Figure size 1440x1080 with 0 Axes>"
      ]
     },
     "metadata": {},
     "output_type": "display_data"
    },
    {
     "data": {
      "text/plain": [
       "<Figure size 1440x1080 with 0 Axes>"
      ]
     },
     "metadata": {},
     "output_type": "display_data"
    },
    {
     "data": {
      "text/plain": [
       "<Figure size 1440x1080 with 0 Axes>"
      ]
     },
     "metadata": {},
     "output_type": "display_data"
    }
   ],
   "source": [
    "for alpha in [0.0]:\n",
    "    print(f'----------------{alpha=}------------------------')\n",
    "    from gat_mem_org_log.train import *\n",
    "    seed = 1\n",
    "    random.seed(seed)\n",
    "    np.random.seed(seed)\n",
    "    torch.manual_seed(seed)\n",
    "    torch.cuda.manual_seed(seed)\n",
    "    torch.backends.cudnn.deterministic = True\n",
    "    torch.backends.cudnn.benchmark = False\n",
    "    os.environ['PYTHONHASHSEED'] = str(seed)\n",
    "    dataset = 'ohio'\n",
    "    version = 'nips_23'\n",
    "    CONF = {\n",
    "        'data_path':f'../../code_data/{dataset}/{version}/',\n",
    "        'log_path': f'../../code_log/{version}/{dataset}',\n",
    "        'dataset': dataset,\n",
    "        'n_prev' : 48,\n",
    "        'pred_window' : 6,\n",
    "        'seq_len': 48,\n",
    "        'mix_test_and_valid_2018': False,\n",
    "\n",
    "        'attri_list': [ 'meal', 'bolus', 'basal', 'finger_stick',\n",
    "        'basis_skin_temperature', 'basis_gsr', 'basis_sleep', 'acceleration',\n",
    "        'exercise', 'sleep', 'work', 'basis_steps', 'basis_heart_rate', 'basis_air_temperature'],\n",
    "        \n",
    "        'time_attri_list' : ['timestamp'],     \n",
    "        'model_name':'gat_exp', \n",
    "\n",
    "        'hidden_dim': 512,\n",
    "\n",
    "        'lr': 1e-3,  # 1e-4\n",
    "        'tuning_lr':1e-5,\n",
    "        'epochs': 30,\n",
    "        'local_epochs': 500,\n",
    "        'tuning_epochs': 30, \n",
    "        'tuning_local_epochs': 80,\n",
    "\n",
    "        # 'epochs': 2,\n",
    "        # 'local_epochs': 2,\n",
    "        # 'tuning_epochs': 2, \n",
    "        # 'tuning_local_epochs': 2,\n",
    "\n",
    "        'weight_decay': 1e-4,\n",
    "        'batch_size': 128,\n",
    "        'nhead': 1,\n",
    "        'num_layers':2,\n",
    "        'device': 'cuda',\n",
    "\n",
    "\n",
    "        'print_every':2,\n",
    "        'comments': f'pred_6_all_features_alpha_{alpha}_seed_1',\n",
    "        'save_model': True,\n",
    "        'all_edges': True,\n",
    "\n",
    "        \n",
    "        'interval': 5,\n",
    "        'log_epoch_vari_imp': False,\n",
    "        'alpha': alpha,\n",
    "    }\n",
    "    pid2model = train(CONF)\n",
    "    print('end')"
   ]
  },
  {
   "cell_type": "code",
   "execution_count": 5,
   "metadata": {},
   "outputs": [],
   "source": [
    "def select_conf(alpha, dataset):\n",
    "    if dataset == 'ohio':\n",
    "        CONF = {\n",
    "            'data_path':f'../../code_data/{dataset}/{version}/',\n",
    "            'log_path': f'../../code_log/{version}/{dataset}',\n",
    "            'dataset': dataset,\n",
    "            'n_prev' : 48,\n",
    "            'pred_window' : 6,\n",
    "            'seq_len': 48,\n",
    "            'mix_test_and_valid_2018': False,\n",
    "\n",
    "            'attri_list': [ 'meal', 'bolus', 'basal', 'finger_stick',\n",
    "            'basis_skin_temperature', 'basis_gsr', 'basis_sleep', 'acceleration',\n",
    "            'exercise', 'sleep', 'work', 'basis_steps', 'basis_heart_rate', 'basis_air_temperature'],\n",
    "            \n",
    "            'time_attri_list' : ['timestamp'],     \n",
    "            'model_name':'gatv2_exp', \n",
    "\n",
    "            'hidden_dim': 512,\n",
    "\n",
    "            'lr': 1e-3,  # 1e-4\n",
    "            'tuning_lr':1e-5,\n",
    "            'epochs': 30,\n",
    "            'local_epochs': 500,\n",
    "            'tuning_epochs': 30, \n",
    "            'tuning_local_epochs': 80,\n",
    "\n",
    "            # 'epochs': 2,\n",
    "            # 'local_epochs': 2,\n",
    "            # 'tuning_epochs': 2, \n",
    "            # 'tuning_local_epochs': 2,\n",
    "\n",
    "            'weight_decay': 1e-4,\n",
    "            'batch_size': 128,\n",
    "            'nhead': 1,\n",
    "            'num_layers':2,\n",
    "            'device': 'cuda',\n",
    "\n",
    "\n",
    "            'print_every':2,\n",
    "            'comments': f'pred_6_all_features_alpha_{alpha}',\n",
    "            'save_model': True,\n",
    "            'all_edges': True,\n",
    "\n",
    "            \n",
    "            'interval': 5,\n",
    "            'log_epoch_vari_imp': False,\n",
    "            'alpha': alpha,\n",
    "        }\n",
    "    elif dataset == 'arises':\n",
    "        CONF = {\n",
    "            'data_path':f'../../code_data/{dataset}/{version}/',\n",
    "            'log_path': f'../../code_log/{version}/{dataset}',\n",
    "            'dataset': dataset,\n",
    "            'n_prev' : 48,\n",
    "            'pred_window' : 6,\n",
    "            'seq_len': 48,\n",
    "            'mix_test_and_valid_2018': False,\n",
    "\n",
    "            'attri_list': [\n",
    "            'meal', 'bolus', 'basal', 'correction_bolus',\n",
    "            'finger_stick', 'EDA', 'SCL', 'SCR', 'HR', 'TEMP', 'ACC', 'RMSSD', 'SDNN',\n",
    "            'medianNNI', 'CVNNI', 'CVSD', 'pNNX', 'meanHR', 'minHR', 'maxHR', 'VLF',\n",
    "            'LF', 'HF', 'LHR', ],\n",
    "            'time_attri_list' : ['timestamp'],     \n",
    "            'model_name':'gatv2_exp', \n",
    "\n",
    "            'hidden_dim': 512,\n",
    "\n",
    "            'lr': 1e-3,  # 1e-4\n",
    "            'tuning_lr':1e-5,\n",
    "            'epochs': 30,\n",
    "            'local_epochs': 500,\n",
    "            'tuning_epochs': 30, \n",
    "            'tuning_local_epochs': 80,\n",
    "            'weight_decay': 1e-4,\n",
    "            'batch_size': 128,\n",
    "            'nhead': 1,\n",
    "            'num_layers':2,\n",
    "            'device': 'cuda',\n",
    "\n",
    "\n",
    "            'print_every':2,\n",
    "            'comments': f'pred_6_all_features_alpha_{alpha}',\n",
    "            'save_model': True,\n",
    "            'all_edges': True,\n",
    "\n",
    "\n",
    "            'interval': 5,\n",
    "            'log_epoch_vari_imp': False,\n",
    "            'alpha':alpha\n",
    "        }\n",
    "    elif dataset == 'shanghai_t2dm':\n",
    "        CONF = {\n",
    "            'data_path':f'../../code_data/{dataset}/{version}/',\n",
    "            'log_path': f'../../code_log/{version}/{dataset}',\n",
    "            'dataset': dataset,\n",
    "            'n_prev' : 16,\n",
    "            'pred_window' : 2,\n",
    "            'seq_len': 16,\n",
    "\n",
    "            'attri_list': ['finger_stick', 'blood_ketone', 'meal','insulin_dose_sc', 'hypo_agents', 'insulin_bolus', 'basal','insulin_iv'], \n",
    "            'time_attri_list' : ['timestamp'],     \n",
    "            'model_name':'gatv2_exp', \n",
    "\n",
    "            'hidden_dim': 256,\n",
    "\n",
    "            'lr': 1e-3,  # 1e-4\n",
    "            'tuning_lr':1e-5,\n",
    "            'epochs': 30,\n",
    "            'local_epochs': 500,\n",
    "            'tuning_epochs': 10, \n",
    "            'tuning_local_epochs': 80,\n",
    "            'weight_decay': 1e-4,\n",
    "            'batch_size': 128,\n",
    "            'nhead': 1,\n",
    "            'num_layers':2,\n",
    "            'device': 'cuda',\n",
    "\n",
    "\n",
    "            'print_every':2,\n",
    "            'comments': f'pred_2_all_features_alpha_{alpha}',\n",
    "            'save_model': True,\n",
    "            'all_edges':True,\n",
    "\n",
    "\n",
    "            'interval': 15,\n",
    "            'log_epoch_vari_imp': False,\n",
    "            'alpha':alpha\n",
    "        }\n",
    "    elif dataset == 'shanghai_t1dm':\n",
    "\n",
    "        CONF = {\n",
    "            'data_path':f'../../code_data/{dataset}/{version}/',\n",
    "            'log_path': f'../../code_log/{version}/{dataset}',\n",
    "            'dataset': dataset,\n",
    "            'n_prev' : 16,\n",
    "            'pred_window' : 2,\n",
    "            'seq_len': 16,\n",
    "\n",
    "            'attri_list': ['finger_stick', 'blood_ketone', 'meal','insulin_dose_sc', 'hypo_agents', 'insulin_bolus', 'basal','insulin_iv'], \n",
    "            'time_attri_list' : ['timestamp'],     \n",
    "            'model_name':'gatv2_exp', \n",
    "\n",
    "            'hidden_dim': 256,\n",
    "\n",
    "            'lr': 1e-3,  # 1e-4\n",
    "            'tuning_lr':1e-5,\n",
    "            'epochs': 20,\n",
    "            'local_epochs': 500,\n",
    "            'tuning_epochs': 10, \n",
    "            'tuning_local_epochs': 80,\n",
    "\n",
    "            # 'epochs': 2,\n",
    "            # 'local_epochs': 5,\n",
    "            # 'tuning_epochs': 2, \n",
    "            # 'tuning_local_epochs': 8,\n",
    "\n",
    "            'weight_decay': 1e-4,\n",
    "            'batch_size': 128,\n",
    "            'nhead': 1,\n",
    "            'num_layers':2,\n",
    "            'device': 'cuda',\n",
    "\n",
    "\n",
    "            'print_every':2,\n",
    "            'comments': f'pred_2_all_features_{alpha}',\n",
    "            'save_model': True,\n",
    "            'all_edges':True,\n",
    "\n",
    "\n",
    "            'interval': 15,\n",
    "            'log_epoch_vari_imp': True,\n",
    "\n",
    "            'alpha':alpha,\n",
    "        }\n",
    "\n",
    "    return CONF"
   ]
  },
  {
   "cell_type": "code",
   "execution_count": 6,
   "metadata": {},
   "outputs": [
    {
     "name": "stdout",
     "output_type": "stream",
     "text": [
      "----------------alpha=0.0--dataset='shanghai_t1dm'------------------------\n"
     ]
    },
    {
     "name": "stderr",
     "output_type": "stream",
     "text": [
      "global_loop: 100%|██████████| 20/20 [09:34<00:00, 28.72s/it]\n"
     ]
    },
    {
     "name": "stdout",
     "output_type": "stream",
     "text": [
      " \n",
      " Results after 20 global rounds of training:\n",
      "rmse, 14.28324, 3.03483\n",
      "mape, 9.14361, 3.34367\n",
      "mae, 10.97465, 2.56900\n",
      "grmse, 17.69847, 5.02440\n",
      "time_lag, -1.25000, 4.14578\n",
      "[11.485818494528711, 10.090884153193121, 12.774805211562303, 14.054018709768792, 20.909782989266127, 16.43903903500844, 12.138720742309118, 11.306755166817036, 14.944977105979191, 13.941824340536744, 14.53941617819417, 18.77281326989661]\n"
     ]
    },
    {
     "name": "stderr",
     "output_type": "stream",
     "text": [
      "tune_loop: 100%|██████████| 10/10 [08:48<00:00, 52.88s/it]\n"
     ]
    },
    {
     "name": "stdout",
     "output_type": "stream",
     "text": [
      " \n",
      " Results after 10 of fine tuning:\n",
      "rmse, 13.93597, 2.81591\n",
      "mape, 9.08800, 3.71761\n",
      "mae, 10.65184, 2.42755\n",
      "grmse, 16.96082, 4.58420\n",
      "time_lag, 0.00000, 0.00000\n",
      "[11.227989875878587, 9.963267190798126, 12.431652745722685, 13.80407015721354, 19.983194538532715, 14.125207950107816, 12.016187557945921, 10.821001007539726, 16.135348052865467, 13.974888760528316, 15.143171507664663, 17.605656391140055]\n",
      "models have been saved...\n",
      "end\n",
      "----------------alpha=0.4--dataset='shanghai_t1dm'------------------------\n"
     ]
    },
    {
     "name": "stderr",
     "output_type": "stream",
     "text": [
      "global_loop: 100%|██████████| 20/20 [09:18<00:00, 27.91s/it]\n"
     ]
    },
    {
     "name": "stdout",
     "output_type": "stream",
     "text": [
      " \n",
      " Results after 20 global rounds of training:\n",
      "rmse, 14.12284, 2.75281\n",
      "mape, 8.92344, 3.03294\n",
      "mae, 10.85392, 2.38394\n",
      "grmse, 17.34157, 4.47688\n",
      "time_lag, -1.25000, 4.14578\n",
      "[11.523990982470547, 10.266178296186075, 12.526592806655367, 14.149187562082574, 20.05399510637625, 16.171010695502694, 11.727790132900878, 11.744033922110063, 14.934200161798296, 13.910870896588843, 14.446995638657832, 18.019285255339103]\n"
     ]
    },
    {
     "name": "stderr",
     "output_type": "stream",
     "text": [
      "tune_loop: 100%|██████████| 10/10 [08:48<00:00, 52.80s/it]\n"
     ]
    },
    {
     "name": "stdout",
     "output_type": "stream",
     "text": [
      " \n",
      " Results after 10 of fine tuning:\n",
      "rmse, 13.98839, 2.58851\n",
      "mape, 8.97584, 3.44603\n",
      "mae, 10.66324, 2.29769\n",
      "grmse, 16.86646, 4.14115\n",
      "time_lag, -1.25000, 4.14578\n",
      "[11.447999897805566, 10.073112625272577, 12.64077830369028, 13.512133196881736, 19.25654470979039, 14.389212042977665, 11.897389075813612, 11.740557183685894, 16.84410239224372, 14.225216378173632, 14.57689351627983, 17.256771804010828]\n",
      "models have been saved...\n",
      "end\n",
      "----------------alpha=0.6--dataset='shanghai_t1dm'------------------------\n"
     ]
    },
    {
     "name": "stderr",
     "output_type": "stream",
     "text": [
      "global_loop: 100%|██████████| 20/20 [09:39<00:00, 28.99s/it]\n"
     ]
    },
    {
     "name": "stdout",
     "output_type": "stream",
     "text": [
      " \n",
      " Results after 20 global rounds of training:\n",
      "rmse, 14.05851, 3.07031\n",
      "mape, 8.87468, 3.11779\n",
      "mae, 10.71388, 2.47476\n",
      "grmse, 17.32428, 5.06655\n",
      "time_lag, -1.25000, 4.14578\n",
      "[11.153036728688935, 10.191581049071099, 11.912991755163509, 14.06947092846889, 21.005183715452763, 17.21210419332043, 11.556260193427764, 11.886552511777095, 13.639024708354963, 13.48133973298254, 14.652669180436995, 17.94193736626784]\n"
     ]
    },
    {
     "name": "stderr",
     "output_type": "stream",
     "text": [
      "tune_loop: 100%|██████████| 10/10 [08:39<00:00, 51.95s/it]\n"
     ]
    },
    {
     "name": "stdout",
     "output_type": "stream",
     "text": [
      " \n",
      " Results after 10 of fine tuning:\n",
      "rmse, 13.69165, 2.65915\n",
      "mape, 8.62899, 3.16189\n",
      "mae, 10.34969, 2.19712\n",
      "grmse, 16.54219, 4.32777\n",
      "time_lag, -1.25000, 4.14578\n",
      "[11.06637212368988, 10.196545288853315, 11.8020270206806, 13.328941830003505, 19.627976890312475, 15.606402017619143, 11.714863939003944, 11.058710688515418, 14.827688164501941, 13.570241098869442, 14.62816983293306, 16.871894607207537]\n"
     ]
    },
    {
     "name": "stderr",
     "output_type": "stream",
     "text": [
      "c:\\code\\fornips23\\gat_mem_org_log\\log.py:106: RuntimeWarning: More than 20 figures have been opened. Figures created through the pyplot interface (`matplotlib.pyplot.figure`) are retained until explicitly closed and may consume too much memory. (To control this warning, see the rcParam `figure.max_open_warning`).\n",
      "  fig, ax = plt.subplots(figsize = (20, 15))\n"
     ]
    },
    {
     "name": "stdout",
     "output_type": "stream",
     "text": [
      "models have been saved...\n",
      "end\n",
      "----------------alpha=0.8--dataset='shanghai_t1dm'------------------------\n"
     ]
    },
    {
     "name": "stderr",
     "output_type": "stream",
     "text": [
      "global_loop: 100%|██████████| 20/20 [09:16<00:00, 27.83s/it]\n"
     ]
    },
    {
     "name": "stdout",
     "output_type": "stream",
     "text": [
      " \n",
      " Results after 20 global rounds of training:\n",
      "rmse, 14.73045, 3.53539\n",
      "mape, 9.63478, 4.15914\n",
      "mae, 11.27704, 2.96796\n",
      "grmse, 18.32351, 5.72219\n",
      "time_lag, -1.25000, 4.14578\n",
      "[11.346387488236207, 9.922641610393892, 12.121023882935926, 14.340136901968108, 21.73735432940696, 16.983976105021387, 11.86356935977118, 11.739552499797759, 19.77317049651813, 14.96005066317379, 13.930733034409085, 18.046847943702662]\n"
     ]
    },
    {
     "name": "stderr",
     "output_type": "stream",
     "text": [
      "tune_loop: 100%|██████████| 10/10 [08:48<00:00, 52.89s/it]\n"
     ]
    },
    {
     "name": "stdout",
     "output_type": "stream",
     "text": [
      " \n",
      " Results after 10 of fine tuning:\n",
      "rmse, 14.45653, 3.51742\n",
      "mape, 9.45031, 4.36092\n",
      "mae, 10.98889, 2.98923\n",
      "grmse, 17.62475, 5.37545\n",
      "time_lag, 0.00000, 0.00000\n",
      "[11.123322778349447, 10.022646628239984, 12.077188196407528, 13.677789457309121, 20.044939288120908, 14.9494264626607, 11.926810546598496, 11.332377973194495, 21.895642464553234, 14.574468973997764, 14.491804240215183, 17.361922138174428]\n",
      "models have been saved...\n",
      "end\n",
      "----------------alpha=1.0--dataset='shanghai_t1dm'------------------------\n"
     ]
    },
    {
     "name": "stderr",
     "output_type": "stream",
     "text": [
      "global_loop: 100%|██████████| 20/20 [09:49<00:00, 29.46s/it]\n"
     ]
    },
    {
     "name": "stdout",
     "output_type": "stream",
     "text": [
      " \n",
      " Results after 20 global rounds of training:\n",
      "rmse, 14.64836, 3.36706\n",
      "mape, 9.39221, 3.85260\n",
      "mae, 11.20664, 2.83064\n",
      "grmse, 18.07243, 5.56141\n",
      "time_lag, -2.50000, 5.59017\n",
      "[11.333341336714966, 10.176784754381499, 12.253900023906612, 13.796808089270085, 21.537865938608057, 17.38324788780584, 11.910223510592303, 12.009005664126219, 18.977626276019496, 14.103703200568514, 14.467952170734062, 17.829856367233358]\n"
     ]
    },
    {
     "name": "stderr",
     "output_type": "stream",
     "text": [
      "tune_loop: 100%|██████████| 10/10 [10:40<00:00, 64.07s/it]\n"
     ]
    },
    {
     "name": "stdout",
     "output_type": "stream",
     "text": [
      " \n",
      " Results after 10 of fine tuning:\n",
      "rmse, 14.25640, 3.24988\n",
      "mape, 9.22859, 4.08042\n",
      "mae, 10.83989, 2.75445\n",
      "grmse, 17.39716, 5.23719\n",
      "time_lag, -1.25000, 4.14578\n",
      "[11.119168242489415, 10.169408918249971, 12.031151075080317, 13.509922478352484, 20.473612852698654, 15.48596146325459, 11.836624619081526, 11.008646601094657, 19.621410649068405, 14.062086582464723, 14.460349756762131, 17.298500763421938]\n",
      "models have been saved...\n",
      "end\n",
      "----------------alpha=0.0--dataset='arises'------------------------\n"
     ]
    },
    {
     "name": "stderr",
     "output_type": "stream",
     "text": [
      "global_loop: 100%|██████████| 30/30 [58:59<00:00, 118.00s/it] \n"
     ]
    },
    {
     "name": "stdout",
     "output_type": "stream",
     "text": [
      " \n",
      " Results after 30 global rounds of training:\n",
      "rmse, 20.85099, 4.16822\n",
      "mape, 10.11506, 2.29808\n",
      "mae, 15.09577, 2.80356\n",
      "grmse, 26.23585, 5.61100\n",
      "time_lag, -10.65972, 6.14603\n",
      "[24.193773663528212, 20.38927348250867, 23.494714020691177, 15.350926354504026, 19.87183897204432, 23.892272772639014, 28.498401262381698, 18.213213071039764, 23.463839366405917, 16.019885104144787, 23.00247577113304, 13.82125645977793]\n"
     ]
    },
    {
     "name": "stderr",
     "output_type": "stream",
     "text": [
      "tune_loop: 100%|██████████| 30/30 [1:47:15<00:00, 214.51s/it]\n"
     ]
    },
    {
     "name": "stdout",
     "output_type": "stream",
     "text": [
      " \n",
      " Results after 30 of fine tuning:\n",
      "rmse, 20.01121, 3.94783\n",
      "mape, 9.65623, 2.28195\n",
      "mae, 14.47533, 2.72002\n",
      "grmse, 25.14071, 5.35662\n",
      "time_lag, -9.27083, 5.26531\n",
      "[22.877722739685133, 20.128989256693785, 21.534665571795223, 14.270651325633757, 19.22349725413374, 22.461980954023318, 27.463075574660813, 17.821931610739917, 22.959515309816947, 15.339410047663227, 22.39534580380207, 13.657724261634364]\n",
      "models have been saved...\n",
      "end\n",
      "----------------alpha=0.4--dataset='arises'------------------------\n"
     ]
    },
    {
     "name": "stderr",
     "output_type": "stream",
     "text": [
      "global_loop: 100%|██████████| 30/30 [58:20<00:00, 116.68s/it] \n"
     ]
    },
    {
     "name": "stdout",
     "output_type": "stream",
     "text": [
      " \n",
      " Results after 30 global rounds of training:\n",
      "rmse, 20.72402, 4.06581\n",
      "mape, 10.15278, 2.37507\n",
      "mae, 15.08117, 2.83878\n",
      "grmse, 26.24466, 5.50618\n",
      "time_lag, -10.52083, 6.36270\n",
      "[23.526144864543788, 20.428110748188008, 22.583820107857363, 15.320824427321543, 19.960983365896425, 23.77728053887195, 28.254320742587318, 18.528514434999067, 23.62940962071286, 16.029394804631096, 23.033890675022885, 13.615528419262404]\n"
     ]
    },
    {
     "name": "stderr",
     "output_type": "stream",
     "text": [
      "tune_loop: 100%|██████████| 30/30 [1:44:53<00:00, 209.79s/it]\n"
     ]
    },
    {
     "name": "stdout",
     "output_type": "stream",
     "text": [
      " \n",
      " Results after 30 of fine tuning:\n",
      "rmse, 20.06184, 3.94611\n",
      "mape, 9.67313, 2.30856\n",
      "mae, 14.48286, 2.68261\n",
      "grmse, 25.24351, 5.32978\n",
      "time_lag, -10.10417, 6.54429\n",
      "[22.887802460368356, 20.02540653116139, 21.571855279172137, 14.02206099616166, 19.45577055931326, 22.44866920384007, 27.492852409194466, 18.234378347257618, 23.223606017689065, 15.63278370577683, 22.133699075518873, 13.613203348952144]\n",
      "models have been saved...\n",
      "end\n",
      "----------------alpha=0.6--dataset='arises'------------------------\n"
     ]
    },
    {
     "name": "stderr",
     "output_type": "stream",
     "text": [
      "global_loop: 100%|██████████| 30/30 [45:09<00:00, 90.33s/it]\n"
     ]
    },
    {
     "name": "stdout",
     "output_type": "stream",
     "text": [
      " \n",
      " Results after 30 global rounds of training:\n",
      "rmse, 20.81479, 4.14771\n",
      "mape, 10.20815, 2.34835\n",
      "mae, 15.11071, 2.84055\n",
      "grmse, 26.15627, 5.59857\n",
      "time_lag, -10.52083, 6.36270\n",
      "[23.660687331521036, 20.50279030767253, 23.077405625213267, 14.894592717221713, 20.105480513523855, 23.829125235154063, 28.57271788821517, 18.74890947349505, 23.590589864939393, 16.32238423303352, 22.865193584063938, 13.60759498351386]\n"
     ]
    },
    {
     "name": "stderr",
     "output_type": "stream",
     "text": [
      "tune_loop: 100%|██████████| 30/30 [1:20:02<00:00, 160.09s/it]\n"
     ]
    },
    {
     "name": "stdout",
     "output_type": "stream",
     "text": [
      " \n",
      " Results after 30 of fine tuning:\n",
      "rmse, 20.07967, 3.86416\n",
      "mape, 9.68777, 2.27693\n",
      "mae, 14.48370, 2.59855\n",
      "grmse, 25.27310, 5.20463\n",
      "time_lag, -9.89583, 6.00474\n",
      "[22.87908065336037, 20.021020142804755, 21.44024871909649, 14.132352552631675, 19.416432042266496, 22.439193959166836, 27.219689546786487, 18.59167694588512, 23.168962909141104, 15.853741206084203, 22.25492684325941, 13.538724389892453]\n",
      "models have been saved...\n",
      "end\n",
      "----------------alpha=0.8--dataset='arises'------------------------\n"
     ]
    },
    {
     "name": "stderr",
     "output_type": "stream",
     "text": [
      "global_loop: 100%|██████████| 30/30 [44:34<00:00, 89.14s/it]\n"
     ]
    },
    {
     "name": "stdout",
     "output_type": "stream",
     "text": [
      " \n",
      " Results after 30 global rounds of training:\n",
      "rmse, 20.78726, 4.26448\n",
      "mape, 10.13541, 2.33876\n",
      "mae, 15.08167, 2.90757\n",
      "grmse, 26.18637, 5.77958\n",
      "time_lag, -10.52083, 6.36270\n",
      "[23.889977355920752, 20.28213701233451, 23.563823632417712, 15.010578240242623, 19.854105780856056, 23.56448930594508, 28.977239687759685, 18.259793097001744, 23.451199121460185, 16.09664055504139, 22.89788307500076, 13.599298436638193]\n"
     ]
    },
    {
     "name": "stderr",
     "output_type": "stream",
     "text": [
      "tune_loop: 100%|██████████| 30/30 [1:22:52<00:00, 165.74s/it]\n"
     ]
    },
    {
     "name": "stdout",
     "output_type": "stream",
     "text": [
      " \n",
      " Results after 30 of fine tuning:\n",
      "rmse, 19.99234, 3.94470\n",
      "mape, 9.69859, 2.32431\n",
      "mae, 14.48743, 2.70409\n",
      "grmse, 25.08919, 5.36528\n",
      "time_lag, -9.27083, 5.45957\n",
      "[22.931397668337564, 19.918913689219945, 21.405281969444044, 14.095518419922241, 19.259252925339226, 22.294281860201494, 27.375128201397867, 17.829658676363522, 23.186412857769472, 15.578109327976069, 22.421932164561277, 13.612246082414288]\n",
      "models have been saved...\n",
      "end\n",
      "----------------alpha=1.0--dataset='arises'------------------------\n"
     ]
    },
    {
     "name": "stderr",
     "output_type": "stream",
     "text": [
      "global_loop: 100%|██████████| 30/30 [46:02<00:00, 92.08s/it]\n"
     ]
    },
    {
     "name": "stdout",
     "output_type": "stream",
     "text": [
      " \n",
      " Results after 30 global rounds of training:\n",
      "rmse, 20.73631, 4.05894\n",
      "mape, 10.10537, 2.31807\n",
      "mae, 15.06448, 2.79936\n",
      "grmse, 26.11345, 5.49239\n",
      "time_lag, -10.52083, 6.36270\n",
      "[23.529960850311408, 20.421966155592273, 23.155183795882376, 15.303391343786963, 20.160958903683515, 23.705652211600164, 28.286461450085756, 18.33217483096872, 23.369978258206885, 16.116454706438617, 22.788600494545513, 13.664905589699133]\n"
     ]
    },
    {
     "name": "stderr",
     "output_type": "stream",
     "text": [
      "tune_loop: 100%|██████████| 30/30 [1:23:57<00:00, 167.90s/it]\n"
     ]
    },
    {
     "name": "stdout",
     "output_type": "stream",
     "text": [
      " \n",
      " Results after 30 of fine tuning:\n",
      "rmse, 20.06388, 4.05493\n",
      "mape, 9.66412, 2.27432\n",
      "mae, 14.50243, 2.72075\n",
      "grmse, 25.11583, 5.37204\n",
      "time_lag, -9.47917, 5.43566\n",
      "[23.13127290342692, 20.01326006959589, 21.569617116869725, 14.10989625629052, 19.33885000160986, 22.06056269712248, 28.075279401576086, 17.995598996753433, 23.081767812953448, 15.366584273398084, 22.348673927514344, 13.675148603618707]\n",
      "models have been saved...\n",
      "end\n",
      "----------------alpha=0.0--dataset='shanghai_t2dm'------------------------\n"
     ]
    },
    {
     "name": "stderr",
     "output_type": "stream",
     "text": [
      "global_loop: 100%|██████████| 30/30 [14:44<00:00, 29.50s/it]\n"
     ]
    },
    {
     "name": "stdout",
     "output_type": "stream",
     "text": [
      " \n",
      " Results after 30 global rounds of training:\n",
      "rmse, 12.52180, 3.21425\n",
      "mape, 7.68291, 2.86510\n",
      "mae, 9.36000, 2.64989\n",
      "grmse, 14.51207, 4.07082\n",
      "time_lag, -0.90000, 3.56230\n",
      "[12.330392297844785, 9.811403638492399, 12.837167802800804, 13.771267621016174, 17.438165029881297, 14.39118484253034, 10.806342869056731, 12.606756039979615, 11.070993729591057, 10.976279953547666, 17.12010133945027, 16.052148711978855, 18.054172800701174, 11.541849697236303, 9.116708829550964, 14.587865390467195, 10.778917674012755, 14.038639153501544, 12.809740913862132, 13.147149859892696, 14.70147222295988, 18.36212579126444, 10.01449640494363, 19.2900687009736, 6.55752985619901, 10.096175997643396, 14.967290691685454, 11.261589353878547, 7.660356191217113, 10.646149891266994, 10.501295463936744, 15.913357269136997, 14.457790632075756, 13.439033456289103, 14.934966953931939, 7.11866130287972, 12.757440527721828, 14.39465156411727, 10.330954944530442, 10.09427757183572, 12.322226463372942, 13.38752174696238, 19.54293947067065, 12.42562345172517, 16.01954029885748, 12.321214719065662, 9.725173250435006, 6.203842006341589, 12.72341480986249, 18.236241000816033, 12.196736909327493, 10.986662668517537, 14.10612698806854, 12.25847348241781, 10.584813132170485, 9.011687848749578, 9.945676498763993, 15.316383834623995, 10.565554205480435, 9.98491102519959, 8.60495141786452, 13.127265080776596, 13.042113535154767, 9.196449954871767, 14.701485715769564, 14.396008870903518, 10.89140643212915, 9.76838710938249, 12.381229566608265, 19.178160739894594, 11.30344867575078, 11.528922820513944, 11.794073032307637, 10.546797959788073, 8.781564510048344, 12.598358144206232, 15.34719990095277, 9.396599466986382, 10.761124997799334, 15.818408450234097, 10.838250868325831, 14.049069650059629, 14.189199203036, 10.49955058271376, 14.223866374294616, 10.175248531521117, 15.109143733687702, 8.690835655427414, 9.858018397903223, 12.047658377780111, 11.598410109382652, 14.667206205212052, 8.502695441620217, 12.2967844163595, 15.53890587606461, 27.584545773446113, 10.92509620327351, 11.167913756313533, 9.986423431544527, 8.415921571692484]\n"
     ]
    },
    {
     "name": "stderr",
     "output_type": "stream",
     "text": [
      "tune_loop: 100%|██████████| 10/10 [1:12:37<00:00, 435.77s/it]\n"
     ]
    },
    {
     "name": "stdout",
     "output_type": "stream",
     "text": [
      " \n",
      " Results after 10 of fine tuning:\n",
      "rmse, 11.70605, 2.99483\n",
      "mape, 6.95907, 2.43281\n",
      "mae, 8.60146, 2.33164\n",
      "grmse, 13.54826, 3.88658\n",
      "time_lag, -0.75000, 3.26917\n",
      "[12.17507191348917, 9.37519286910983, 12.639816805320807, 12.68419825996294, 16.004128877051734, 12.550709519714102, 8.076254297871428, 11.856859988385613, 11.141712108929298, 10.961124736684829, 16.45670255798625, 15.263758222124608, 19.131192669537995, 11.548449417993783, 8.909202755454215, 13.868810424398, 10.342922396555622, 11.021522966716505, 12.368924585838345, 11.822002161538538, 14.822609843520883, 17.24255387297659, 8.8702169074854, 18.857514018579902, 5.832440044488978, 9.385870975813026, 14.477303466938451, 10.597200895004399, 7.503971574172328, 9.096285856427112, 9.828026023572564, 13.87479434849002, 14.644165001921948, 10.620108162711682, 12.663884175178788, 6.905313419684314, 12.11036412290948, 13.844667563588844, 10.237165277433029, 10.203492886744408, 12.288770707359092, 12.602404022971296, 14.50452589236562, 12.256636087190813, 9.510465378791482, 10.527346648886429, 9.398059206331014, 5.793637093737041, 12.101256729311668, 12.611759910381634, 11.9012924646486, 9.907574201099528, 13.862992873515186, 12.72116778213427, 9.073203454957824, 8.747839088638012, 9.125487432133335, 14.728847530779893, 9.970340613818887, 9.159559049029394, 8.05227177947608, 13.180936074712754, 12.767422609051719, 9.355018990363334, 14.461553707832753, 13.440472509161694, 10.680433647695773, 9.61438592037872, 11.149701416396974, 17.360164318801285, 11.207524796338703, 11.383287031117703, 11.737490223970902, 10.37227070769892, 8.297292005616342, 11.699506335154835, 10.901363994403479, 8.860959404178534, 10.331240370250352, 16.204883093808, 10.455321669881952, 13.480782287718588, 13.821060496822808, 10.58470032842123, 14.08911489659077, 8.763398729237284, 13.052513868452039, 8.529745674948161, 9.33133058404588, 12.086327613694198, 10.270706475166323, 14.680334542851503, 8.909082865667163, 12.313016154512633, 11.662158930821272, 26.74553778677681, 11.078876335373195, 11.242134905301747, 9.573470859584647, 8.26707356384704]\n",
      "models have been saved...\n",
      "end\n",
      "----------------alpha=0.4--dataset='shanghai_t2dm'------------------------\n"
     ]
    },
    {
     "name": "stderr",
     "output_type": "stream",
     "text": [
      "global_loop: 100%|██████████| 30/30 [14:52<00:00, 29.75s/it]\n"
     ]
    },
    {
     "name": "stdout",
     "output_type": "stream",
     "text": [
      " \n",
      " Results after 30 global rounds of training:\n",
      "rmse, 12.59922, 3.26505\n",
      "mape, 7.77102, 2.94905\n",
      "mae, 9.43706, 2.70283\n",
      "grmse, 14.60843, 4.16721\n",
      "time_lag, -0.90000, 3.56230\n",
      "[11.794260627111576, 9.612931252517361, 12.470952578016043, 13.943627896323568, 17.939341593454333, 15.08687812642372, 10.99266293059439, 12.624787281623798, 11.156963592702395, 11.244394219662858, 16.79115636663855, 15.607087877519033, 18.016016298330737, 11.906274990746411, 9.10556594489095, 14.490061543862465, 10.774672472726548, 16.609995101018523, 12.791172941705126, 13.056856095127463, 14.781570011731459, 18.617857107397842, 10.354580191037066, 19.318431153345824, 6.603546530632351, 10.540172204596045, 14.550280507323453, 11.22060606327689, 7.645708573351658, 10.917871966811637, 10.487729123037223, 15.453376297406914, 14.70405742676389, 13.651449027369768, 14.385564753133663, 7.125146429330719, 12.855877647515577, 14.446981380070154, 10.1733686109392, 10.211868815719905, 12.238255067000399, 12.983033479321977, 19.841432258837347, 12.750114889188254, 16.26057817508008, 12.48387081956748, 9.987696517519653, 6.355041076863551, 12.83277383220462, 18.775278370262832, 12.256524664462841, 11.025641293374992, 14.304337085242441, 12.604731540264888, 10.813130795815885, 9.151550128310316, 9.97015045756504, 15.056405381683177, 10.626485204674958, 10.039376363041136, 8.548120160384222, 12.96350432784314, 13.10275563384265, 9.004006235887358, 14.572689568161397, 14.560430420602378, 10.910258346282053, 9.872241830123562, 12.789315437327705, 18.873749344172204, 11.425930821670573, 11.536111277346466, 11.820828846950887, 10.654031740800493, 8.84530658300566, 12.701640850608694, 15.905625966240049, 9.367953487889952, 10.95201394708162, 16.076205925922206, 10.903462313296655, 14.160637384067387, 13.885327593819863, 10.480319516501812, 13.81734605935682, 10.145426549465798, 14.883369207107581, 8.884999833759055, 9.900837764550099, 11.881912307700752, 11.59311758614614, 14.894427779603886, 8.672918803312276, 12.41739121612337, 15.413002252245809, 28.37920062863492, 10.861010794624828, 11.187224485958023, 10.189930257362036, 8.46970083381671]\n"
     ]
    },
    {
     "name": "stderr",
     "output_type": "stream",
     "text": [
      "tune_loop: 100%|██████████| 10/10 [9:32:38<00:00, 3435.83s/it] \n"
     ]
    },
    {
     "name": "stdout",
     "output_type": "stream",
     "text": [
      " \n",
      " Results after 10 of fine tuning:\n",
      "rmse, 11.72447, 3.05579\n",
      "mape, 6.96639, 2.52312\n",
      "mae, 8.61061, 2.38912\n",
      "grmse, 13.59408, 3.97694\n",
      "time_lag, -0.75000, 3.26917\n",
      "[12.00557960493331, 9.334763508167626, 12.568113372932423, 12.372600284215471, 16.540652970290918, 13.065767454489793, 8.112165437685483, 11.855172720768678, 10.639948483105758, 10.857695393377504, 16.271593037875373, 15.34600229300625, 18.765184281356824, 11.67644447033214, 9.011169284560134, 13.813854858784724, 10.337704831069438, 12.745398195854786, 12.415099247732766, 12.450156974568886, 14.940478933642039, 17.400726373353283, 9.020359323453736, 18.905560744150947, 5.814119174991673, 9.553300808382891, 14.356426413635017, 10.59759721693842, 7.281540238649397, 9.22669769627346, 9.918842963760747, 13.694735909318462, 14.627387479571977, 10.5815258334913, 12.214389032549953, 6.854735315111326, 12.109957143265154, 14.036247196154765, 9.969191203623017, 10.2850082624418, 12.013591698490792, 12.557669095042517, 14.839757892453658, 12.44401831881267, 9.30043056680858, 10.666854101759462, 9.548916212968106, 5.663743592854085, 12.282929050895635, 12.584751748147438, 11.860354095370766, 9.964983859510887, 13.873268363051375, 12.960210502704578, 7.449670146834077, 8.72447317549555, 9.121404069935245, 14.454952903837095, 10.087080792457956, 9.14350582273937, 7.973667437635323, 12.993819895194408, 12.846855140917514, 9.138916690659162, 14.329943825398008, 13.673569649437114, 10.756275917744595, 9.723580978146591, 11.503334557102006, 17.27178287388358, 11.147406142071306, 11.268525193395083, 11.844047603038705, 10.258932547857228, 8.294149924713974, 11.97367960553056, 11.175987073755675, 8.805665741186626, 10.322209266934605, 16.778352796344276, 10.601941028153908, 13.47395921413958, 13.558674215585203, 10.400938035769936, 13.870528866806842, 8.82692236346534, 13.16929780448016, 8.680061064474593, 9.344883266350562, 12.121034583323206, 10.140961299074952, 14.71418526201178, 8.835388328424647, 12.371743130059397, 11.659343564643699, 27.32114914182212, 10.867933761894655, 11.282490247354112, 9.63779342343225, 8.370149944607615]\n",
      "models have been saved...\n",
      "end\n",
      "----------------alpha=0.6--dataset='shanghai_t2dm'------------------------\n"
     ]
    },
    {
     "name": "stderr",
     "output_type": "stream",
     "text": [
      "global_loop: 100%|██████████| 30/30 [14:57<00:00, 29.90s/it]\n"
     ]
    },
    {
     "name": "stdout",
     "output_type": "stream",
     "text": [
      " \n",
      " Results after 30 global rounds of training:\n",
      "rmse, 12.56612, 3.19469\n",
      "mape, 7.64318, 2.78716\n",
      "mae, 9.34337, 2.60230\n",
      "grmse, 14.57883, 4.10956\n",
      "time_lag, -0.75000, 3.26917\n",
      "[12.048329622985154, 9.556051635679326, 12.543209010662155, 14.734912462029486, 17.61383178960501, 14.734338754263478, 10.892146832000718, 12.571553019118204, 11.342070484096409, 11.346827234132457, 16.86651262255701, 15.919858016718019, 18.14657676508205, 11.81829917689387, 9.168724337738883, 14.529055193790777, 10.910253101633309, 16.709268266327335, 13.146911931513078, 12.858772198811888, 14.648172914277142, 17.72361836502972, 10.05676674851724, 19.320003693700716, 6.563823457509172, 10.187106446697593, 14.599327050990976, 11.207798449907546, 7.516804497491978, 11.156788190581203, 10.599672175682302, 15.203818012371771, 14.991728472975419, 13.186636801577526, 15.344536102730764, 7.268373031222056, 12.890449809415593, 14.452464617514474, 10.271693278145184, 10.086688993958317, 12.32776357993665, 13.296751064346038, 18.735696855732957, 12.738411218096553, 15.488008351946384, 12.179450090894973, 9.962297318334096, 6.251674885443982, 12.852427426251833, 17.71691992726118, 12.306628071182693, 11.082791958161563, 14.339329788528461, 12.643234530551558, 10.58103769791264, 9.264304570358386, 10.007883778898194, 15.174692789955627, 10.517345452103717, 10.188725497249436, 8.553336258865693, 13.136627569004107, 12.898782929959662, 9.004149434080379, 14.600683619550255, 14.133174725008432, 10.939663220788717, 9.792501687231592, 13.267836746936531, 19.25705975962939, 11.356123132159736, 11.885567871701062, 11.85878248581609, 10.705879692269644, 8.69406297176592, 12.35765015421558, 15.139022002184197, 9.287209392534512, 10.763266605451133, 16.05675739393893, 10.987702171019354, 14.005770447746205, 13.925022441633622, 10.364768993050298, 14.053575184410093, 10.01290023327622, 15.122099795388195, 8.899293129956481, 9.986419993648914, 11.913055157209293, 11.665965758567875, 14.74732610744524, 8.63983956435268, 12.350074403361086, 15.336803098979754, 27.879745558421867, 10.928536017010588, 11.259208809681946, 10.037542443286666, 8.41904176745944]\n"
     ]
    },
    {
     "name": "stderr",
     "output_type": "stream",
     "text": [
      "tune_loop: 100%|██████████| 10/10 [1:14:07<00:00, 444.73s/it]\n"
     ]
    },
    {
     "name": "stdout",
     "output_type": "stream",
     "text": [
      " \n",
      " Results after 10 of fine tuning:\n",
      "rmse, 11.75434, 3.01370\n",
      "mape, 6.96844, 2.52174\n",
      "mae, 8.61422, 2.35444\n",
      "grmse, 13.57874, 3.89577\n",
      "time_lag, -0.90000, 3.56230\n",
      "[12.090489305260768, 9.275729300315657, 12.53018754750247, 13.909958797040039, 15.964735269236282, 12.879475528629966, 8.392851067166898, 11.661974444716416, 10.96141498202687, 11.123937320317284, 16.30711492172397, 15.398654512359697, 19.231354638212647, 11.659720469243611, 8.949694443926477, 13.86894740152861, 10.398798843857858, 12.009892518692533, 12.39976843340828, 12.260820242247062, 15.00648155049646, 16.676973944961883, 8.842058107541956, 18.919599174140984, 5.751823467872289, 9.346572704777062, 14.306420246809482, 10.573343884084792, 7.256299931948278, 9.298292548835537, 10.018812794051303, 13.757033335226147, 15.035388146919109, 10.685900830650638, 12.25064334347799, 6.98158129774281, 11.99399607188784, 14.032125942695913, 10.097130743699969, 10.280265227581147, 12.207745604098038, 12.630855599823542, 14.235973749919548, 12.351274654694677, 9.358060461081758, 10.678410105573418, 9.612411391466194, 5.716583008149405, 12.28509973655523, 12.246215858641612, 11.998886692537418, 10.108412353340944, 13.874720665121739, 12.852314638894756, 8.38552059006513, 9.016945039843733, 9.218662688278268, 14.67425849249929, 9.976401522658788, 9.222379532459215, 8.057444798880828, 13.17799186539786, 12.657394696497763, 9.167809802360956, 14.45838428382068, 13.846478815422262, 10.750154006209705, 9.660151116431107, 11.561912727906849, 17.420946584006636, 11.117244460280993, 11.700412084381298, 11.99122362270534, 10.489630165235473, 8.177218205661863, 12.20578306118533, 11.669626205720988, 8.663362411131233, 10.286038196852536, 16.318133904972868, 10.68812568126953, 13.4296698889137, 13.423222679539075, 10.451185927562502, 14.040844871553537, 8.669245360728448, 12.940062633050337, 8.60343603645083, 9.47739250152328, 12.037647953886953, 10.351545179820416, 14.710939574482063, 8.830234727860924, 12.356220831520643, 11.56108059805512, 27.044495264676208, 11.07951537797309, 11.337575529913103, 9.660650639391076, 8.326102463864443]\n",
      "models have been saved...\n",
      "end\n",
      "----------------alpha=0.8--dataset='shanghai_t2dm'------------------------\n"
     ]
    },
    {
     "name": "stderr",
     "output_type": "stream",
     "text": [
      "global_loop: 100%|██████████| 30/30 [14:58<00:00, 29.95s/it]\n"
     ]
    },
    {
     "name": "stdout",
     "output_type": "stream",
     "text": [
      " \n",
      " Results after 30 global rounds of training:\n",
      "rmse, 12.62043, 3.22514\n",
      "mape, 7.77184, 2.86102\n",
      "mae, 9.44616, 2.64851\n",
      "grmse, 14.60337, 4.08969\n",
      "time_lag, -0.75000, 3.26917\n",
      "[12.106631493650365, 9.722149711217382, 12.821009940657463, 14.554284393740119, 17.48384700247229, 14.478895416280412, 10.891933543159073, 12.624099548256774, 11.204397046855924, 11.1468657874007, 16.777677983428607, 15.476311086107838, 18.002203912385976, 12.13828580062829, 9.14102897077409, 14.52735792971209, 10.815808798730824, 15.827106951465419, 13.027249460865674, 12.850243924568064, 14.845375116631969, 18.237844102840974, 10.355600627460907, 19.133338855560957, 6.744282314161046, 10.381523563241602, 14.66071620799766, 11.520747832290853, 7.622792909473709, 11.00514794312189, 10.572694091458548, 15.764846343971243, 15.083562915944555, 13.63170269927588, 15.048322534701283, 7.163881721836486, 13.063805911844517, 14.463417471202616, 10.292542908055335, 10.133269147502332, 12.51611997694748, 13.329455829110028, 19.177231417334056, 12.53448551103583, 16.051431961590783, 12.463613422515095, 9.986427633415335, 6.370000037847546, 12.99089200734439, 18.753769152409735, 12.16703760983826, 11.30630778924735, 14.100850484102013, 12.63844052219291, 10.466387764035328, 9.241692601526697, 10.043619770565945, 15.533993269581845, 10.516399111319172, 9.912032211830194, 8.65389993765004, 13.017402738175214, 13.100421671596408, 9.150067738766934, 14.648728642940048, 14.603127842124696, 10.84276776441185, 9.848506105484507, 12.590492754952047, 19.369153918928834, 11.273758617329733, 11.546428336252676, 11.891137010576275, 10.768229442198203, 9.039006370693274, 12.48624976145635, 15.392632027289519, 9.468909133228593, 10.73092804805162, 16.1351768848522, 10.871606056020642, 14.249547047694293, 13.976353429997229, 10.552952169867526, 14.14258338476114, 10.005708972188469, 14.704127991992005, 8.881581190082944, 10.136398116316315, 11.9749080264197, 11.743146480301286, 14.8253036081962, 8.659245712873494, 12.290348167609194, 16.196971581988233, 28.10704287852068, 11.028565855610736, 11.126152750363175, 10.206124161401782, 8.363894714918768]\n"
     ]
    },
    {
     "name": "stderr",
     "output_type": "stream",
     "text": [
      "tune_loop: 100%|██████████| 10/10 [1:13:45<00:00, 442.52s/it]\n"
     ]
    },
    {
     "name": "stdout",
     "output_type": "stream",
     "text": [
      " \n",
      " Results after 10 of fine tuning:\n",
      "rmse, 11.71346, 3.00378\n",
      "mape, 6.93978, 2.36940\n",
      "mae, 8.59834, 2.34713\n",
      "grmse, 13.55396, 3.89443\n",
      "time_lag, -0.75000, 3.26917\n",
      "[12.099333664382941, 9.19266287096289, 12.965569899067962, 13.88965444531834, 16.20981453188787, 12.352513083084487, 8.238236797532986, 11.79185077716711, 10.271565894155026, 10.86529528929761, 16.335903873710013, 14.985877955126202, 19.285904333399333, 11.661087954819612, 8.932864821185543, 13.78710480968369, 10.391232947440296, 12.023371507291278, 12.481688247344838, 12.182820365602822, 15.009227711774722, 16.78655206044782, 8.912095035806457, 18.683915116538913, 5.7763195561487155, 9.657451270975667, 14.277493907384118, 10.65580860465516, 7.318484995252256, 9.277918978877391, 9.837911369903182, 13.976935870501983, 14.92898533964999, 10.717502176592895, 12.525118804794579, 6.948174040534577, 12.078776866303041, 13.955404370967777, 10.21671081168349, 10.334311244180792, 12.16907348516331, 12.945619550711267, 13.999722069297595, 12.279391781534379, 9.439378564067724, 10.52697196119924, 9.611997069854862, 5.679710335665923, 12.211740341689696, 12.425097238325177, 11.87850868189519, 10.084553500245631, 13.789485209526497, 12.701317089599286, 8.960488372163416, 8.792523190205015, 9.29089060280872, 14.94358899497645, 9.996508561024921, 9.13333376399501, 8.045258768968713, 13.067557054142952, 12.779428664735772, 9.235848814284072, 14.447824724927505, 13.639170705694042, 10.757395484836815, 9.650157599076387, 11.225248107207225, 17.453355806441635, 10.979023787107444, 11.356463073511888, 11.822961766273195, 10.427529695441601, 8.272960731954488, 11.255091892377395, 10.605954682122599, 8.745128038187714, 10.168232489736456, 16.25238582996403, 10.530236803889839, 13.36389098104741, 13.287360152390539, 10.667173453053957, 14.054165281779566, 8.809590177151005, 12.90241884723074, 8.492478127932857, 9.453453877930963, 12.115689507864444, 10.2947186309026, 14.799861618632251, 8.818349641813565, 12.29333926097978, 11.695132451018885, 26.897002258035187, 11.053817186368175, 11.167606333202245, 9.488076205843344, 8.295798596459978]\n",
      "models have been saved...\n",
      "end\n",
      "----------------alpha=1.0--dataset='shanghai_t2dm'------------------------\n"
     ]
    },
    {
     "name": "stderr",
     "output_type": "stream",
     "text": [
      "global_loop: 100%|██████████| 30/30 [14:28<00:00, 28.94s/it]\n"
     ]
    },
    {
     "name": "stdout",
     "output_type": "stream",
     "text": [
      " \n",
      " Results after 30 global rounds of training:\n",
      "rmse, 12.36184, 3.09718\n",
      "mape, 7.50970, 2.65380\n",
      "mae, 9.19067, 2.51434\n",
      "grmse, 14.38331, 4.06301\n",
      "time_lag, -0.90000, 3.56230\n",
      "[12.016110731607704, 9.577120505800123, 12.96504971213323, 13.963332523125244, 17.571604693479372, 13.8958336383566, 10.608133729393833, 12.096830700157842, 11.191849017746582, 10.944328225729526, 16.43658375090124, 15.397356851825606, 17.83693242817457, 11.551859150331671, 9.111501664679057, 14.329170213887288, 10.72133700900882, 16.884174480867895, 12.754925543112808, 12.465023698168345, 14.460209939997036, 17.40605451107683, 9.751807803280832, 18.737141587059526, 6.504622649639946, 9.38670046229492, 14.371254076300577, 11.075610996037504, 7.448523038353366, 10.71772712297795, 10.41611652193069, 15.216345501143048, 14.736135917608339, 12.58012406474495, 14.424962532616258, 7.0996743893171725, 12.742312638295699, 14.231418742309051, 10.192357315363457, 10.126669286945633, 12.305297603922213, 12.934121100695668, 17.357984375555567, 12.494739493668863, 14.42374230361232, 12.04957322753882, 9.942508227234857, 6.097996254434058, 12.631675239664435, 17.199132249810873, 12.127253686734761, 10.903643189982564, 14.171775943700123, 12.736310004443865, 10.108673495874294, 9.063342666911119, 10.087393917769152, 14.988571899872792, 10.547170496439177, 10.041752816196086, 8.525002004673517, 13.151462580929094, 13.014303115084152, 9.091590651192323, 14.576576338728826, 14.11965003857794, 11.09779271354412, 9.72874089248076, 13.122468250052382, 19.16524166393707, 11.241849532359128, 11.696369253359672, 11.776539151620414, 10.563987852864502, 8.597448600400204, 11.988195335102699, 14.200957381520368, 9.249418910564353, 10.652502390985012, 16.019979400431026, 10.687191250451658, 13.90665049458408, 14.3194307429366, 10.569607301633406, 14.06402443994128, 10.068453526172298, 14.564896153120072, 8.787557162754156, 9.77253310351402, 11.834983459899458, 11.461415453138985, 14.519614797479564, 8.494172735410105, 12.436255924746051, 15.089756281295806, 27.36539545053319, 10.992243719872222, 11.229588960104044, 9.88704323660023, 8.395944851749164]\n"
     ]
    },
    {
     "name": "stderr",
     "output_type": "stream",
     "text": [
      "tune_loop: 100%|██████████| 10/10 [1:13:40<00:00, 442.09s/it]\n"
     ]
    },
    {
     "name": "stdout",
     "output_type": "stream",
     "text": [
      " \n",
      " Results after 10 of fine tuning:\n",
      "rmse, 11.77427, 2.97512\n",
      "mape, 7.00215, 2.51342\n",
      "mae, 8.64245, 2.32711\n",
      "grmse, 13.66776, 3.89419\n",
      "time_lag, -0.75000, 3.26917\n",
      "[12.081680149683562, 9.170120513357073, 12.978296208877017, 13.466383723947047, 16.35119296046832, 12.473104610442697, 8.536299891201077, 11.609712783191629, 10.651373947419808, 11.064297115239489, 16.389381208765936, 15.164092184250956, 19.234914442069922, 11.88644339662179, 8.960139271471183, 13.74664987152978, 10.449538546508212, 12.948128135634002, 12.262425563014707, 12.163322999559025, 14.98025331901811, 16.645288922411257, 8.98684791035041, 18.400741296845556, 5.771550800696424, 9.306931847161815, 14.471685717289468, 10.523969992211715, 7.387169576571757, 9.831188506790758, 10.202875248187548, 13.996976798475817, 14.896822269219134, 11.435695484997225, 12.847540451553241, 6.932147186248746, 12.312269489434868, 13.878197653772895, 10.314007273252955, 10.19224316226369, 12.341628575615031, 12.523753066439015, 14.07897743413279, 12.14854677402623, 9.548944976210272, 10.62313287822559, 9.608660018497595, 5.808645303339649, 12.10512463208861, 12.61997840649772, 11.925646264180378, 10.458617998076395, 13.913056291698693, 13.19454117231997, 8.728600628571883, 8.810937621226058, 9.15344695322414, 14.34524242474171, 10.083762503914476, 9.316763701869059, 8.0370260760416, 13.1375248321676, 12.893456128497897, 9.248274358672608, 14.493998370688857, 13.535690600924111, 10.90521392710379, 9.61011493594282, 11.498877429075685, 17.41866124366291, 11.11273237056243, 11.455131906576646, 11.769603203605145, 10.43217725432352, 8.177868485062863, 12.016894845123261, 11.05520095980705, 8.782393737375976, 10.388253077488685, 16.773603064506595, 10.371959930283676, 13.513204262983853, 13.957749509226216, 10.518166584918946, 13.9810346481934, 8.743831967343867, 12.818315777057123, 8.562250955120215, 9.281644973313972, 12.177823181562715, 10.383459112672002, 14.55740568586087, 8.685200119216589, 12.44456273734167, 11.66046704464357, 26.59458769611897, 11.052610297887673, 11.233956659457188, 9.574818773272716, 8.331515253742253]\n",
      "models have been saved...\n",
      "end\n"
     ]
    },
    {
     "data": {
      "text/plain": [
       "<Figure size 2160x720 with 0 Axes>"
      ]
     },
     "metadata": {},
     "output_type": "display_data"
    },
    {
     "data": {
      "text/plain": [
       "<Figure size 2160x720 with 0 Axes>"
      ]
     },
     "metadata": {},
     "output_type": "display_data"
    },
    {
     "data": {
      "text/plain": [
       "<Figure size 1440x720 with 0 Axes>"
      ]
     },
     "metadata": {},
     "output_type": "display_data"
    },
    {
     "data": {
      "text/plain": [
       "<Figure size 1440x1080 with 0 Axes>"
      ]
     },
     "metadata": {},
     "output_type": "display_data"
    },
    {
     "data": {
      "text/plain": [
       "<Figure size 1440x1080 with 0 Axes>"
      ]
     },
     "metadata": {},
     "output_type": "display_data"
    },
    {
     "data": {
      "text/plain": [
       "<Figure size 1440x1080 with 0 Axes>"
      ]
     },
     "metadata": {},
     "output_type": "display_data"
    },
    {
     "data": {
      "text/plain": [
       "<Figure size 1440x1080 with 0 Axes>"
      ]
     },
     "metadata": {},
     "output_type": "display_data"
    },
    {
     "data": {
      "text/plain": [
       "<Figure size 2160x720 with 0 Axes>"
      ]
     },
     "metadata": {},
     "output_type": "display_data"
    },
    {
     "data": {
      "text/plain": [
       "<Figure size 2160x720 with 0 Axes>"
      ]
     },
     "metadata": {},
     "output_type": "display_data"
    },
    {
     "data": {
      "text/plain": [
       "<Figure size 1440x720 with 0 Axes>"
      ]
     },
     "metadata": {},
     "output_type": "display_data"
    },
    {
     "data": {
      "text/plain": [
       "<Figure size 1440x1080 with 0 Axes>"
      ]
     },
     "metadata": {},
     "output_type": "display_data"
    },
    {
     "data": {
      "text/plain": [
       "<Figure size 1440x1080 with 0 Axes>"
      ]
     },
     "metadata": {},
     "output_type": "display_data"
    },
    {
     "data": {
      "text/plain": [
       "<Figure size 1440x1080 with 0 Axes>"
      ]
     },
     "metadata": {},
     "output_type": "display_data"
    },
    {
     "data": {
      "text/plain": [
       "<Figure size 1440x1080 with 0 Axes>"
      ]
     },
     "metadata": {},
     "output_type": "display_data"
    },
    {
     "data": {
      "text/plain": [
       "<Figure size 2160x720 with 0 Axes>"
      ]
     },
     "metadata": {},
     "output_type": "display_data"
    },
    {
     "data": {
      "text/plain": [
       "<Figure size 2160x720 with 0 Axes>"
      ]
     },
     "metadata": {},
     "output_type": "display_data"
    },
    {
     "data": {
      "text/plain": [
       "<Figure size 1440x720 with 0 Axes>"
      ]
     },
     "metadata": {},
     "output_type": "display_data"
    },
    {
     "data": {
      "text/plain": [
       "<Figure size 1440x1080 with 0 Axes>"
      ]
     },
     "metadata": {},
     "output_type": "display_data"
    },
    {
     "data": {
      "text/plain": [
       "<Figure size 1440x1080 with 0 Axes>"
      ]
     },
     "metadata": {},
     "output_type": "display_data"
    },
    {
     "data": {
      "text/plain": [
       "<Figure size 1440x1080 with 0 Axes>"
      ]
     },
     "metadata": {},
     "output_type": "display_data"
    },
    {
     "data": {
      "text/plain": [
       "<Figure size 1440x1080 with 0 Axes>"
      ]
     },
     "metadata": {},
     "output_type": "display_data"
    },
    {
     "data": {
      "text/plain": [
       "<Figure size 2160x720 with 0 Axes>"
      ]
     },
     "metadata": {},
     "output_type": "display_data"
    },
    {
     "data": {
      "text/plain": [
       "<Figure size 2160x720 with 0 Axes>"
      ]
     },
     "metadata": {},
     "output_type": "display_data"
    },
    {
     "data": {
      "text/plain": [
       "<Figure size 1440x720 with 0 Axes>"
      ]
     },
     "metadata": {},
     "output_type": "display_data"
    },
    {
     "data": {
      "text/plain": [
       "<Figure size 1440x1080 with 0 Axes>"
      ]
     },
     "metadata": {},
     "output_type": "display_data"
    },
    {
     "data": {
      "text/plain": [
       "<Figure size 1440x1080 with 0 Axes>"
      ]
     },
     "metadata": {},
     "output_type": "display_data"
    },
    {
     "data": {
      "text/plain": [
       "<Figure size 1440x1080 with 0 Axes>"
      ]
     },
     "metadata": {},
     "output_type": "display_data"
    },
    {
     "data": {
      "text/plain": [
       "<Figure size 1440x1080 with 0 Axes>"
      ]
     },
     "metadata": {},
     "output_type": "display_data"
    },
    {
     "data": {
      "text/plain": [
       "<Figure size 2160x720 with 0 Axes>"
      ]
     },
     "metadata": {},
     "output_type": "display_data"
    },
    {
     "data": {
      "text/plain": [
       "<Figure size 2160x720 with 0 Axes>"
      ]
     },
     "metadata": {},
     "output_type": "display_data"
    },
    {
     "data": {
      "text/plain": [
       "<Figure size 1440x720 with 0 Axes>"
      ]
     },
     "metadata": {},
     "output_type": "display_data"
    },
    {
     "data": {
      "text/plain": [
       "<Figure size 1440x1080 with 0 Axes>"
      ]
     },
     "metadata": {},
     "output_type": "display_data"
    },
    {
     "data": {
      "text/plain": [
       "<Figure size 1440x1080 with 0 Axes>"
      ]
     },
     "metadata": {},
     "output_type": "display_data"
    },
    {
     "data": {
      "text/plain": [
       "<Figure size 1440x1080 with 0 Axes>"
      ]
     },
     "metadata": {},
     "output_type": "display_data"
    },
    {
     "data": {
      "text/plain": [
       "<Figure size 1440x1080 with 0 Axes>"
      ]
     },
     "metadata": {},
     "output_type": "display_data"
    },
    {
     "data": {
      "text/plain": [
       "<Figure size 1440x1080 with 0 Axes>"
      ]
     },
     "metadata": {},
     "output_type": "display_data"
    },
    {
     "data": {
      "text/plain": [
       "<Figure size 1440x1080 with 0 Axes>"
      ]
     },
     "metadata": {},
     "output_type": "display_data"
    },
    {
     "data": {
      "text/plain": [
       "<Figure size 1440x1080 with 0 Axes>"
      ]
     },
     "metadata": {},
     "output_type": "display_data"
    },
    {
     "data": {
      "text/plain": [
       "<Figure size 1440x1080 with 0 Axes>"
      ]
     },
     "metadata": {},
     "output_type": "display_data"
    },
    {
     "data": {
      "text/plain": [
       "<Figure size 1440x1080 with 0 Axes>"
      ]
     },
     "metadata": {},
     "output_type": "display_data"
    },
    {
     "data": {
      "text/plain": [
       "<Figure size 1440x1080 with 0 Axes>"
      ]
     },
     "metadata": {},
     "output_type": "display_data"
    },
    {
     "data": {
      "text/plain": [
       "<Figure size 1440x1080 with 0 Axes>"
      ]
     },
     "metadata": {},
     "output_type": "display_data"
    },
    {
     "data": {
      "text/plain": [
       "<Figure size 1440x1080 with 0 Axes>"
      ]
     },
     "metadata": {},
     "output_type": "display_data"
    },
    {
     "data": {
      "text/plain": [
       "<Figure size 1440x1080 with 0 Axes>"
      ]
     },
     "metadata": {},
     "output_type": "display_data"
    },
    {
     "data": {
      "text/plain": [
       "<Figure size 1440x1080 with 0 Axes>"
      ]
     },
     "metadata": {},
     "output_type": "display_data"
    },
    {
     "data": {
      "text/plain": [
       "<Figure size 1440x1080 with 0 Axes>"
      ]
     },
     "metadata": {},
     "output_type": "display_data"
    },
    {
     "data": {
      "text/plain": [
       "<Figure size 1440x1080 with 0 Axes>"
      ]
     },
     "metadata": {},
     "output_type": "display_data"
    },
    {
     "data": {
      "text/plain": [
       "<Figure size 1440x1080 with 0 Axes>"
      ]
     },
     "metadata": {},
     "output_type": "display_data"
    },
    {
     "data": {
      "text/plain": [
       "<Figure size 1440x1080 with 0 Axes>"
      ]
     },
     "metadata": {},
     "output_type": "display_data"
    },
    {
     "data": {
      "text/plain": [
       "<Figure size 1440x1080 with 0 Axes>"
      ]
     },
     "metadata": {},
     "output_type": "display_data"
    },
    {
     "data": {
      "text/plain": [
       "<Figure size 1440x1080 with 0 Axes>"
      ]
     },
     "metadata": {},
     "output_type": "display_data"
    },
    {
     "data": {
      "text/plain": [
       "<Figure size 1440x1080 with 0 Axes>"
      ]
     },
     "metadata": {},
     "output_type": "display_data"
    },
    {
     "data": {
      "text/plain": [
       "<Figure size 1440x1080 with 0 Axes>"
      ]
     },
     "metadata": {},
     "output_type": "display_data"
    },
    {
     "data": {
      "text/plain": [
       "<Figure size 1440x1080 with 0 Axes>"
      ]
     },
     "metadata": {},
     "output_type": "display_data"
    },
    {
     "data": {
      "text/plain": [
       "<Figure size 1440x1080 with 0 Axes>"
      ]
     },
     "metadata": {},
     "output_type": "display_data"
    },
    {
     "data": {
      "text/plain": [
       "<Figure size 1440x1080 with 0 Axes>"
      ]
     },
     "metadata": {},
     "output_type": "display_data"
    },
    {
     "data": {
      "text/plain": [
       "<Figure size 1440x1080 with 0 Axes>"
      ]
     },
     "metadata": {},
     "output_type": "display_data"
    },
    {
     "data": {
      "text/plain": [
       "<Figure size 1440x1080 with 0 Axes>"
      ]
     },
     "metadata": {},
     "output_type": "display_data"
    },
    {
     "data": {
      "text/plain": [
       "<Figure size 1440x1080 with 0 Axes>"
      ]
     },
     "metadata": {},
     "output_type": "display_data"
    },
    {
     "data": {
      "text/plain": [
       "<Figure size 1440x1080 with 0 Axes>"
      ]
     },
     "metadata": {},
     "output_type": "display_data"
    },
    {
     "data": {
      "text/plain": [
       "<Figure size 1440x1080 with 0 Axes>"
      ]
     },
     "metadata": {},
     "output_type": "display_data"
    },
    {
     "data": {
      "text/plain": [
       "<Figure size 1440x1080 with 0 Axes>"
      ]
     },
     "metadata": {},
     "output_type": "display_data"
    },
    {
     "data": {
      "text/plain": [
       "<Figure size 1440x1080 with 0 Axes>"
      ]
     },
     "metadata": {},
     "output_type": "display_data"
    },
    {
     "data": {
      "text/plain": [
       "<Figure size 1440x1080 with 0 Axes>"
      ]
     },
     "metadata": {},
     "output_type": "display_data"
    },
    {
     "data": {
      "text/plain": [
       "<Figure size 1440x1080 with 0 Axes>"
      ]
     },
     "metadata": {},
     "output_type": "display_data"
    },
    {
     "data": {
      "text/plain": [
       "<Figure size 1440x1080 with 0 Axes>"
      ]
     },
     "metadata": {},
     "output_type": "display_data"
    },
    {
     "data": {
      "text/plain": [
       "<Figure size 1440x1080 with 0 Axes>"
      ]
     },
     "metadata": {},
     "output_type": "display_data"
    },
    {
     "data": {
      "text/plain": [
       "<Figure size 1440x1080 with 0 Axes>"
      ]
     },
     "metadata": {},
     "output_type": "display_data"
    },
    {
     "data": {
      "text/plain": [
       "<Figure size 1440x1080 with 0 Axes>"
      ]
     },
     "metadata": {},
     "output_type": "display_data"
    },
    {
     "data": {
      "text/plain": [
       "<Figure size 1440x1080 with 0 Axes>"
      ]
     },
     "metadata": {},
     "output_type": "display_data"
    },
    {
     "data": {
      "text/plain": [
       "<Figure size 1440x1080 with 0 Axes>"
      ]
     },
     "metadata": {},
     "output_type": "display_data"
    },
    {
     "data": {
      "text/plain": [
       "<Figure size 1440x1080 with 0 Axes>"
      ]
     },
     "metadata": {},
     "output_type": "display_data"
    },
    {
     "data": {
      "text/plain": [
       "<Figure size 1440x1080 with 0 Axes>"
      ]
     },
     "metadata": {},
     "output_type": "display_data"
    },
    {
     "data": {
      "text/plain": [
       "<Figure size 1440x1080 with 0 Axes>"
      ]
     },
     "metadata": {},
     "output_type": "display_data"
    },
    {
     "data": {
      "text/plain": [
       "<Figure size 1440x1080 with 0 Axes>"
      ]
     },
     "metadata": {},
     "output_type": "display_data"
    }
   ],
   "source": [
    "for dataset in ['shanghai_t1dm', 'arises', 'shanghai_t2dm', ]:\n",
    "    for alpha in [0.0, 0.4, 0.6, 0.8, 1.0]:\n",
    "        \n",
    "        print(f'----------------{alpha=}--{dataset=}------------------------')\n",
    "        from gat_mem_org_log.train import *\n",
    "        seed = 1\n",
    "        random.seed(seed)\n",
    "        np.random.seed(seed)\n",
    "        torch.manual_seed(seed)\n",
    "        torch.cuda.manual_seed(seed)\n",
    "        torch.backends.cudnn.deterministic = True\n",
    "        torch.backends.cudnn.benchmark = False\n",
    "        os.environ['PYTHONHASHSEED'] = str(seed)\n",
    "\n",
    "        version = 'nips_23'\n",
    "        CONF = select_conf(alpha=alpha, dataset=dataset)\n",
    "        pid2model = train(CONF)\n",
    "        print('end')"
   ]
  }
 ],
 "metadata": {
  "kernelspec": {
   "display_name": "base",
   "language": "python",
   "name": "python3"
  },
  "language_info": {
   "codemirror_mode": {
    "name": "ipython",
    "version": 3
   },
   "file_extension": ".py",
   "mimetype": "text/x-python",
   "name": "python",
   "nbconvert_exporter": "python",
   "pygments_lexer": "ipython3",
   "version": "3.9.12"
  },
  "orig_nbformat": 4
 },
 "nbformat": 4,
 "nbformat_minor": 2
}
