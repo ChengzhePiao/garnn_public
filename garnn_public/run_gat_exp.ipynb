{
 "cells": [
  {
   "cell_type": "code",
   "execution_count": 3,
   "metadata": {},
   "outputs": [
    {
     "name": "stderr",
     "output_type": "stream",
     "text": [
      "global_loop: 100%|██████████| 30/30 [48:18<00:00, 96.63s/it] \n"
     ]
    },
    {
     "name": "stdout",
     "output_type": "stream",
     "text": [
      " \n",
      " Results after 30 global rounds of training:\n",
      "rmse, 19.54560, 2.59616\n",
      "mape, 9.52068, 1.77464\n",
      "mae, 13.90231, 1.76162\n",
      "grmse, 24.36348, 3.38246\n",
      "time_lag, -6.98611, 5.15790\n",
      "[19.085700053527066, 18.157273596899294, 16.40980523235032, 22.90827497870584, 17.232299569050557, 20.477182482983498, 23.469270134049758, 17.196647068837468, 17.543222293452818, 21.590598200699823, 23.50322035780416, 16.973683351402308]\n"
     ]
    },
    {
     "name": "stderr",
     "output_type": "stream",
     "text": [
      "tune_loop: 100%|██████████| 30/30 [1:36:07<00:00, 192.24s/it]\n"
     ]
    },
    {
     "name": "stdout",
     "output_type": "stream",
     "text": [
      " \n",
      " Results after 30 of fine tuning:\n",
      "(10, 48, 16, 16)\n",
      "(10, 16, 48)\n",
      "rmse, 19.14703, 2.41175\n",
      "mape, 9.05448, 1.75205\n",
      "mae, 13.36382, 1.61602\n",
      "grmse, 23.94552, 3.22761\n",
      "time_lag, -6.48611, 4.72653\n",
      "[18.75725282901007, 18.061895129361773, 16.03192482284615, 22.92628142291751, 17.05877846176044, 20.20700066750537, 22.245324490101776, 16.291664585331283, 17.837086410379026, 21.13023753952053, 22.362591760659278, 16.85435477561641]\n",
      "(10, 48, 16, 16)\n",
      "(10, 16, 48)\n"
     ]
    },
    {
     "name": "stderr",
     "output_type": "stream",
     "text": [
      "c:\\code\\fornips23\\gat_mem_org_log\\log.py:191: RuntimeWarning: More than 20 figures have been opened. Figures created through the pyplot interface (`matplotlib.pyplot.figure`) are retained until explicitly closed and may consume too much memory. (To control this warning, see the rcParam `figure.max_open_warning`).\n",
      "  fig, axs = plt.subplots(figsize = (20, 10), ncols=1, nrows=nrows, sharex = sharex)\n"
     ]
    },
    {
     "name": "stdout",
     "output_type": "stream",
     "text": [
      "models have been saved...\n",
      "end\n"
     ]
    },
    {
     "data": {
      "text/plain": [
       "<Figure size 1440x1080 with 0 Axes>"
      ]
     },
     "metadata": {},
     "output_type": "display_data"
    },
    {
     "data": {
      "text/plain": [
       "<Figure size 1440x1080 with 0 Axes>"
      ]
     },
     "metadata": {},
     "output_type": "display_data"
    },
    {
     "data": {
      "text/plain": [
       "<Figure size 1440x720 with 0 Axes>"
      ]
     },
     "metadata": {},
     "output_type": "display_data"
    },
    {
     "data": {
      "text/plain": [
       "<Figure size 1440x720 with 0 Axes>"
      ]
     },
     "metadata": {},
     "output_type": "display_data"
    },
    {
     "data": {
      "text/plain": [
       "<Figure size 1440x720 with 0 Axes>"
      ]
     },
     "metadata": {},
     "output_type": "display_data"
    },
    {
     "data": {
      "text/plain": [
       "<Figure size 1440x720 with 0 Axes>"
      ]
     },
     "metadata": {},
     "output_type": "display_data"
    },
    {
     "data": {
      "text/plain": [
       "<Figure size 1440x720 with 0 Axes>"
      ]
     },
     "metadata": {},
     "output_type": "display_data"
    },
    {
     "data": {
      "text/plain": [
       "<Figure size 1440x720 with 0 Axes>"
      ]
     },
     "metadata": {},
     "output_type": "display_data"
    },
    {
     "data": {
      "text/plain": [
       "<Figure size 1440x720 with 0 Axes>"
      ]
     },
     "metadata": {},
     "output_type": "display_data"
    },
    {
     "data": {
      "text/plain": [
       "<Figure size 1440x720 with 0 Axes>"
      ]
     },
     "metadata": {},
     "output_type": "display_data"
    },
    {
     "data": {
      "text/plain": [
       "<Figure size 1440x720 with 0 Axes>"
      ]
     },
     "metadata": {},
     "output_type": "display_data"
    },
    {
     "data": {
      "text/plain": [
       "<Figure size 1440x720 with 0 Axes>"
      ]
     },
     "metadata": {},
     "output_type": "display_data"
    },
    {
     "data": {
      "text/plain": [
       "<Figure size 1440x1080 with 0 Axes>"
      ]
     },
     "metadata": {},
     "output_type": "display_data"
    },
    {
     "data": {
      "text/plain": [
       "<Figure size 1440x1080 with 0 Axes>"
      ]
     },
     "metadata": {},
     "output_type": "display_data"
    },
    {
     "data": {
      "text/plain": [
       "<Figure size 1440x720 with 0 Axes>"
      ]
     },
     "metadata": {},
     "output_type": "display_data"
    },
    {
     "data": {
      "text/plain": [
       "<Figure size 1440x720 with 0 Axes>"
      ]
     },
     "metadata": {},
     "output_type": "display_data"
    },
    {
     "data": {
      "text/plain": [
       "<Figure size 1440x720 with 0 Axes>"
      ]
     },
     "metadata": {},
     "output_type": "display_data"
    },
    {
     "data": {
      "text/plain": [
       "<Figure size 1440x720 with 0 Axes>"
      ]
     },
     "metadata": {},
     "output_type": "display_data"
    },
    {
     "data": {
      "text/plain": [
       "<Figure size 1440x720 with 0 Axes>"
      ]
     },
     "metadata": {},
     "output_type": "display_data"
    },
    {
     "data": {
      "text/plain": [
       "<Figure size 1440x720 with 0 Axes>"
      ]
     },
     "metadata": {},
     "output_type": "display_data"
    },
    {
     "data": {
      "text/plain": [
       "<Figure size 1440x720 with 0 Axes>"
      ]
     },
     "metadata": {},
     "output_type": "display_data"
    },
    {
     "data": {
      "text/plain": [
       "<Figure size 1440x720 with 0 Axes>"
      ]
     },
     "metadata": {},
     "output_type": "display_data"
    },
    {
     "data": {
      "text/plain": [
       "<Figure size 1440x720 with 0 Axes>"
      ]
     },
     "metadata": {},
     "output_type": "display_data"
    },
    {
     "data": {
      "text/plain": [
       "<Figure size 1440x720 with 0 Axes>"
      ]
     },
     "metadata": {},
     "output_type": "display_data"
    }
   ],
   "source": [
    "from gat_mem_org_log.train import *\n",
    "seed = 1\n",
    "random.seed(seed)\n",
    "np.random.seed(seed)\n",
    "torch.manual_seed(seed)\n",
    "torch.cuda.manual_seed(seed)\n",
    "torch.backends.cudnn.deterministic = True\n",
    "torch.backends.cudnn.benchmark = False\n",
    "os.environ['PYTHONHASHSEED'] = str(seed)\n",
    "\n",
    "dataset = 'ohio'\n",
    "version = 'nips_23'\n",
    "CONF = {\n",
    "    'data_path':f'../../code_data/{dataset}/{version}/',\n",
    "    'log_path': f'../../code_log/{version}/{dataset}',\n",
    "    'dataset': dataset,\n",
    "    'n_prev' : 48,\n",
    "    'pred_window' : 6,\n",
    "    'seq_len': 48,\n",
    "    'mix_test_and_valid_2018': False,\n",
    "\n",
    "    'attri_list': [ 'meal', 'bolus', 'basal', 'finger_stick',\n",
    "    'basis_skin_temperature', 'basis_gsr', 'basis_sleep', 'acceleration',\n",
    "    'exercise', 'sleep', 'work', 'basis_steps', 'basis_heart_rate', 'basis_air_temperature'],\n",
    "    \n",
    "    'time_attri_list' : ['timestamp'],     \n",
    "    'model_name':'gat_exp', \n",
    "\n",
    "    'hidden_dim': 512,\n",
    "\n",
    "    'lr': 1e-3,  # 1e-4\n",
    "    'tuning_lr':1e-5,\n",
    "    'epochs': 30,\n",
    "    'local_epochs': 500,\n",
    "    'tuning_epochs': 30, \n",
    "    'tuning_local_epochs': 80,\n",
    "\n",
    "    # 'epochs': 2,\n",
    "    # 'local_epochs': 2,\n",
    "    # 'tuning_epochs': 2, \n",
    "    # 'tuning_local_epochs': 2,\n",
    "\n",
    "    'weight_decay': 1e-4,\n",
    "    'batch_size': 128,\n",
    "    'nhead': 1,\n",
    "    'num_layers':2,\n",
    "    'device': 'cuda',\n",
    "\n",
    "\n",
    "    'print_every':2,\n",
    "    'comments': 'pred_6_all_features',\n",
    "    'save_model': True,\n",
    "    'all_edges': True,\n",
    "\n",
    "    \n",
    "    'interval': 5,\n",
    "    'log_epoch_vari_imp': False,\n",
    "}\n",
    "pid2model = train(CONF)\n",
    "print('end')"
   ]
  },
  {
   "cell_type": "code",
   "execution_count": 4,
   "metadata": {},
   "outputs": [
    {
     "name": "stderr",
     "output_type": "stream",
     "text": [
      "global_loop: 100%|██████████| 30/30 [1:11:57<00:00, 143.92s/it]\n"
     ]
    },
    {
     "name": "stdout",
     "output_type": "stream",
     "text": [
      " \n",
      " Results after 30 global rounds of training:\n",
      "rmse, 20.68105, 4.04591\n",
      "mape, 10.04285, 2.30907\n",
      "mae, 15.00030, 2.77485\n",
      "grmse, 26.07021, 5.40873\n",
      "time_lag, -9.79167, 6.07748\n",
      "[23.65985023586569, 20.330906624156146, 23.39296941532661, 15.2837086827325, 19.98437118231981, 23.687408527610323, 28.171589016851268, 18.125035358262924, 23.160777855231352, 15.853412037090736, 22.598343293898917, 13.924232908313511]\n"
     ]
    },
    {
     "name": "stderr",
     "output_type": "stream",
     "text": [
      "tune_loop: 100%|██████████| 30/30 [2:05:33<00:00, 251.12s/it]  \n"
     ]
    },
    {
     "name": "stdout",
     "output_type": "stream",
     "text": [
      " \n",
      " Results after 30 of fine tuning:\n",
      "(10, 48, 26, 26)\n",
      "(10, 26, 48)\n",
      "rmse, 19.88255, 3.84908\n",
      "mape, 9.57553, 2.27711\n",
      "mae, 14.37473, 2.62590\n",
      "grmse, 24.98267, 5.17113\n",
      "time_lag, -8.85417, 5.38754\n",
      "[22.4632668629097, 20.04356141627647, 21.641323037027306, 14.259219215707484, 19.3074506065866, 22.428803099944805, 27.191420559632064, 17.37670890033643, 22.742548466304022, 15.270979661574392, 21.983663562360274, 13.881677618744147]\n",
      "(10, 48, 26, 26)\n",
      "(10, 26, 48)\n"
     ]
    },
    {
     "name": "stderr",
     "output_type": "stream",
     "text": [
      "c:\\code\\fornips23\\gat_mem_org_log\\log.py:191: RuntimeWarning: More than 20 figures have been opened. Figures created through the pyplot interface (`matplotlib.pyplot.figure`) are retained until explicitly closed and may consume too much memory. (To control this warning, see the rcParam `figure.max_open_warning`).\n",
      "  fig, axs = plt.subplots(figsize = (20, 10), ncols=1, nrows=nrows, sharex = sharex)\n"
     ]
    },
    {
     "name": "stdout",
     "output_type": "stream",
     "text": [
      "models have been saved...\n",
      "end\n"
     ]
    },
    {
     "data": {
      "text/plain": [
       "<Figure size 1440x1080 with 0 Axes>"
      ]
     },
     "metadata": {},
     "output_type": "display_data"
    },
    {
     "data": {
      "text/plain": [
       "<Figure size 1440x1080 with 0 Axes>"
      ]
     },
     "metadata": {},
     "output_type": "display_data"
    },
    {
     "data": {
      "text/plain": [
       "<Figure size 1440x720 with 0 Axes>"
      ]
     },
     "metadata": {},
     "output_type": "display_data"
    },
    {
     "data": {
      "text/plain": [
       "<Figure size 1440x720 with 0 Axes>"
      ]
     },
     "metadata": {},
     "output_type": "display_data"
    },
    {
     "data": {
      "text/plain": [
       "<Figure size 1440x720 with 0 Axes>"
      ]
     },
     "metadata": {},
     "output_type": "display_data"
    },
    {
     "data": {
      "text/plain": [
       "<Figure size 1440x720 with 0 Axes>"
      ]
     },
     "metadata": {},
     "output_type": "display_data"
    },
    {
     "data": {
      "text/plain": [
       "<Figure size 1440x720 with 0 Axes>"
      ]
     },
     "metadata": {},
     "output_type": "display_data"
    },
    {
     "data": {
      "text/plain": [
       "<Figure size 1440x720 with 0 Axes>"
      ]
     },
     "metadata": {},
     "output_type": "display_data"
    },
    {
     "data": {
      "text/plain": [
       "<Figure size 1440x720 with 0 Axes>"
      ]
     },
     "metadata": {},
     "output_type": "display_data"
    },
    {
     "data": {
      "text/plain": [
       "<Figure size 1440x720 with 0 Axes>"
      ]
     },
     "metadata": {},
     "output_type": "display_data"
    },
    {
     "data": {
      "text/plain": [
       "<Figure size 1440x720 with 0 Axes>"
      ]
     },
     "metadata": {},
     "output_type": "display_data"
    },
    {
     "data": {
      "text/plain": [
       "<Figure size 1440x720 with 0 Axes>"
      ]
     },
     "metadata": {},
     "output_type": "display_data"
    },
    {
     "data": {
      "text/plain": [
       "<Figure size 1440x1080 with 0 Axes>"
      ]
     },
     "metadata": {},
     "output_type": "display_data"
    },
    {
     "data": {
      "text/plain": [
       "<Figure size 1440x1080 with 0 Axes>"
      ]
     },
     "metadata": {},
     "output_type": "display_data"
    },
    {
     "data": {
      "text/plain": [
       "<Figure size 1440x720 with 0 Axes>"
      ]
     },
     "metadata": {},
     "output_type": "display_data"
    },
    {
     "data": {
      "text/plain": [
       "<Figure size 1440x720 with 0 Axes>"
      ]
     },
     "metadata": {},
     "output_type": "display_data"
    },
    {
     "data": {
      "text/plain": [
       "<Figure size 1440x720 with 0 Axes>"
      ]
     },
     "metadata": {},
     "output_type": "display_data"
    },
    {
     "data": {
      "text/plain": [
       "<Figure size 1440x720 with 0 Axes>"
      ]
     },
     "metadata": {},
     "output_type": "display_data"
    },
    {
     "data": {
      "text/plain": [
       "<Figure size 1440x720 with 0 Axes>"
      ]
     },
     "metadata": {},
     "output_type": "display_data"
    },
    {
     "data": {
      "text/plain": [
       "<Figure size 1440x720 with 0 Axes>"
      ]
     },
     "metadata": {},
     "output_type": "display_data"
    },
    {
     "data": {
      "text/plain": [
       "<Figure size 1440x720 with 0 Axes>"
      ]
     },
     "metadata": {},
     "output_type": "display_data"
    },
    {
     "data": {
      "text/plain": [
       "<Figure size 1440x720 with 0 Axes>"
      ]
     },
     "metadata": {},
     "output_type": "display_data"
    },
    {
     "data": {
      "text/plain": [
       "<Figure size 1440x720 with 0 Axes>"
      ]
     },
     "metadata": {},
     "output_type": "display_data"
    },
    {
     "data": {
      "text/plain": [
       "<Figure size 1440x720 with 0 Axes>"
      ]
     },
     "metadata": {},
     "output_type": "display_data"
    }
   ],
   "source": [
    "from gat_mem_org_log.train import *\n",
    "seed = 1\n",
    "random.seed(seed)\n",
    "np.random.seed(seed)\n",
    "torch.manual_seed(seed)\n",
    "torch.cuda.manual_seed(seed)\n",
    "torch.backends.cudnn.deterministic = True\n",
    "torch.backends.cudnn.benchmark = False\n",
    "os.environ['PYTHONHASHSEED'] = str(seed)\n",
    "\n",
    "dataset = 'arises'\n",
    "version = 'nips_23'\n",
    "CONF = {\n",
    "    'data_path':f'../../code_data/{dataset}/{version}/',\n",
    "    'log_path': f'../../code_log/{version}/{dataset}',\n",
    "    'dataset': dataset,\n",
    "    'n_prev' : 48,\n",
    "    'pred_window' : 6,\n",
    "    'seq_len': 48,\n",
    "    'mix_test_and_valid_2018': False,\n",
    "\n",
    "    'attri_list': [\n",
    "    'meal', 'bolus', 'basal', 'correction_bolus',\n",
    "    'finger_stick', 'EDA', 'SCL', 'SCR', 'HR', 'TEMP', 'ACC', 'RMSSD', 'SDNN',\n",
    "    'medianNNI', 'CVNNI', 'CVSD', 'pNNX', 'meanHR', 'minHR', 'maxHR', 'VLF',\n",
    "    'LF', 'HF', 'LHR', ],\n",
    "    'time_attri_list' : ['timestamp'],     \n",
    "    'model_name':'gat_exp', \n",
    "\n",
    "    'hidden_dim': 512,\n",
    "\n",
    "    'lr': 1e-3,  # 1e-4\n",
    "    'tuning_lr':1e-5,\n",
    "    'epochs': 30,\n",
    "    'local_epochs': 500,\n",
    "    'tuning_epochs': 30, \n",
    "    'tuning_local_epochs': 80,\n",
    "    'weight_decay': 1e-4,\n",
    "    'batch_size': 128,\n",
    "    'nhead': 1,\n",
    "    'num_layers':2,\n",
    "    'device': 'cuda',\n",
    "\n",
    "\n",
    "    'print_every':2,\n",
    "    'comments': 'pred_6_all_features',\n",
    "    'save_model': True,\n",
    "    'all_edges': True,\n",
    "\n",
    "\n",
    "    'interval': 5,\n",
    "    'log_epoch_vari_imp': False,\n",
    "}\n",
    "pid2model = train(CONF)\n",
    "print('end')"
   ]
  },
  {
   "cell_type": "code",
   "execution_count": 5,
   "metadata": {},
   "outputs": [
    {
     "name": "stderr",
     "output_type": "stream",
     "text": [
      "global_loop: 100%|██████████| 30/30 [24:14<00:00, 48.49s/it]\n"
     ]
    },
    {
     "name": "stdout",
     "output_type": "stream",
     "text": [
      " \n",
      " Results after 30 global rounds of training:\n",
      "rmse, 12.51334, 3.24018\n",
      "mape, 7.65392, 2.65494\n",
      "mae, 9.36619, 2.65017\n",
      "grmse, 14.58309, 4.13561\n",
      "time_lag, -0.90000, 3.56230\n",
      "[12.21536403093265, 9.585951030196238, 12.993210413354474, 14.602793993179064, 18.250229925510098, 14.801891535948782, 10.344266665367742, 12.451974392029788, 11.153524797904941, 10.913761558015405, 16.55577785903091, 15.703822667959503, 17.832919011992434, 11.61536623564173, 9.153251912235763, 14.601288704629379, 11.00019662854711, 15.990797257292337, 12.997596518540998, 12.806779282124554, 13.641934291581245, 18.180623330823, 10.039373323252443, 19.2271823155376, 6.640214256598589, 10.292819021681375, 14.70562067853702, 11.133830134410802, 7.662095185829966, 10.650460647864897, 10.432699412952317, 15.20001082168997, 14.56709708153318, 13.634899777532631, 13.804957751493042, 7.235141919476819, 12.552405405727086, 14.602924607916464, 10.226202530787447, 9.742079035958962, 12.045218783078477, 12.955640376056714, 19.731497680926857, 12.634679728269234, 15.992070140324138, 11.914596555653254, 9.75420543256115, 6.405131321438542, 12.69401014954525, 18.64451283586457, 12.486175827369731, 11.077610880943139, 14.641698449841595, 12.854856269593762, 10.206990139364205, 9.251955805031805, 9.723278891648905, 14.99006985353528, 10.595012038234408, 10.17061971721138, 8.527510162141684, 13.07594534554529, 12.972395713094377, 9.18018407898889, 14.70433345940412, 14.205257377400915, 11.03093081436683, 9.647918365968211, 12.886680859674518, 19.281735900988497, 11.324121059642444, 11.742997050852399, 11.77693174030572, 10.8050052488527, 8.835802368965592, 11.109684721201235, 14.903602093006901, 9.4769485281794, 10.783095049890846, 15.983669052867729, 10.922232997195195, 14.071851274477556, 13.67397919075423, 10.509586499298175, 14.27210435242415, 10.072013575174335, 14.796723410324349, 8.78105668367615, 9.959166126197475, 11.846739218136738, 11.923658405067725, 14.520252159598343, 8.464786517025022, 12.396701472466816, 15.594467238327368, 28.097912302896276, 10.847270119388046, 11.445741112921585, 10.005341438442002, 8.364865220301436]\n"
     ]
    },
    {
     "name": "stderr",
     "output_type": "stream",
     "text": [
      "tune_loop: 100%|██████████| 10/10 [9:39:25<00:00, 3476.51s/it]   \n"
     ]
    },
    {
     "name": "stdout",
     "output_type": "stream",
     "text": [
      " \n",
      " Results after 10 of fine tuning:\n",
      "(10, 16, 10, 10)\n",
      "(10, 10, 16)\n",
      "rmse, 11.69126, 3.02801\n",
      "mape, 6.91599, 2.19309\n",
      "mae, 8.59394, 2.34506\n",
      "grmse, 13.53911, 3.92112\n",
      "time_lag, -0.75000, 3.26917\n",
      "[12.214211638185365, 9.235705078174359, 12.910448181268183, 13.633717399230127, 16.609604669743234, 12.92774544044133, 8.682074080503774, 11.979210965724251, 10.921014710954955, 10.7863378930962, 16.05441377503882, 15.294808019185792, 19.067664675613546, 11.217403065360616, 8.991016991177613, 13.852320926254391, 10.532585444236222, 12.241505071319164, 12.399957939814945, 11.679604540884306, 13.812211115651262, 17.024047000332537, 8.971993421452662, 18.79104881652432, 5.85379421728175, 9.419891705386583, 14.32975535128686, 10.654493259819313, 7.458504133204546, 9.505288107898684, 9.811400528072719, 13.45970979782985, 14.614329561770498, 11.023503942039312, 10.143538469422989, 6.997987730440132, 12.66168021045995, 13.956391673003214, 10.133737443930523, 9.897282437416651, 11.936785451863836, 12.008678477028537, 14.05250675740781, 12.16249939780317, 9.637764133737585, 10.37601401647652, 9.442099555636696, 5.798131760246544, 12.47683828260483, 12.63118056288126, 12.207553113844877, 9.85864719419007, 14.238876016384191, 13.116042795495952, 8.211396963982295, 8.927390616672726, 9.113028420196256, 14.371035883445607, 10.099580480342055, 9.210196558276584, 7.916739881745807, 13.136462047744665, 12.957167267337024, 9.268005579907644, 14.474290878504096, 13.532528153944654, 10.741935366359224, 9.503909862437661, 11.143111327349779, 17.526923694682385, 11.107833132937301, 11.42830634490894, 11.82213123194098, 10.706499667577445, 8.287554259431872, 10.416409502033918, 10.762123546152788, 8.65870031387438, 10.35613401413626, 16.608657491263685, 10.375911075160987, 13.48412321878928, 13.245297731168774, 10.686530175181213, 14.273348769907567, 8.671779542689707, 12.791929824226276, 8.49014204250173, 9.420080820696658, 12.087066143971828, 10.419919495372268, 14.571495846718603, 8.713318147925776, 12.46509102504652, 11.707537604790263, 27.373735790586064, 11.205569544577347, 11.23435530574595, 9.664694047674569, 8.260911141821246]\n",
      "(10, 16, 10, 10)\n",
      "(10, 10, 16)\n"
     ]
    },
    {
     "name": "stderr",
     "output_type": "stream",
     "text": [
      "c:\\code\\fornips23\\gat_mem_org_log\\log.py:191: RuntimeWarning: More than 20 figures have been opened. Figures created through the pyplot interface (`matplotlib.pyplot.figure`) are retained until explicitly closed and may consume too much memory. (To control this warning, see the rcParam `figure.max_open_warning`).\n",
      "  fig, axs = plt.subplots(figsize = (20, 10), ncols=1, nrows=nrows, sharex = sharex)\n"
     ]
    },
    {
     "name": "stdout",
     "output_type": "stream",
     "text": [
      "models have been saved...\n",
      "end\n"
     ]
    },
    {
     "data": {
      "text/plain": [
       "<Figure size 1440x1080 with 0 Axes>"
      ]
     },
     "metadata": {},
     "output_type": "display_data"
    },
    {
     "data": {
      "text/plain": [
       "<Figure size 1440x1080 with 0 Axes>"
      ]
     },
     "metadata": {},
     "output_type": "display_data"
    },
    {
     "data": {
      "text/plain": [
       "<Figure size 1440x720 with 0 Axes>"
      ]
     },
     "metadata": {},
     "output_type": "display_data"
    },
    {
     "data": {
      "text/plain": [
       "<Figure size 1440x720 with 0 Axes>"
      ]
     },
     "metadata": {},
     "output_type": "display_data"
    },
    {
     "data": {
      "text/plain": [
       "<Figure size 1440x720 with 0 Axes>"
      ]
     },
     "metadata": {},
     "output_type": "display_data"
    },
    {
     "data": {
      "text/plain": [
       "<Figure size 1440x720 with 0 Axes>"
      ]
     },
     "metadata": {},
     "output_type": "display_data"
    },
    {
     "data": {
      "text/plain": [
       "<Figure size 1440x720 with 0 Axes>"
      ]
     },
     "metadata": {},
     "output_type": "display_data"
    },
    {
     "data": {
      "text/plain": [
       "<Figure size 1440x720 with 0 Axes>"
      ]
     },
     "metadata": {},
     "output_type": "display_data"
    },
    {
     "data": {
      "text/plain": [
       "<Figure size 1440x720 with 0 Axes>"
      ]
     },
     "metadata": {},
     "output_type": "display_data"
    },
    {
     "data": {
      "text/plain": [
       "<Figure size 1440x720 with 0 Axes>"
      ]
     },
     "metadata": {},
     "output_type": "display_data"
    },
    {
     "data": {
      "text/plain": [
       "<Figure size 1440x720 with 0 Axes>"
      ]
     },
     "metadata": {},
     "output_type": "display_data"
    },
    {
     "data": {
      "text/plain": [
       "<Figure size 1440x720 with 0 Axes>"
      ]
     },
     "metadata": {},
     "output_type": "display_data"
    },
    {
     "data": {
      "text/plain": [
       "<Figure size 1440x1080 with 0 Axes>"
      ]
     },
     "metadata": {},
     "output_type": "display_data"
    },
    {
     "data": {
      "text/plain": [
       "<Figure size 1440x1080 with 0 Axes>"
      ]
     },
     "metadata": {},
     "output_type": "display_data"
    },
    {
     "data": {
      "text/plain": [
       "<Figure size 1440x720 with 0 Axes>"
      ]
     },
     "metadata": {},
     "output_type": "display_data"
    },
    {
     "data": {
      "text/plain": [
       "<Figure size 1440x720 with 0 Axes>"
      ]
     },
     "metadata": {},
     "output_type": "display_data"
    },
    {
     "data": {
      "text/plain": [
       "<Figure size 1440x720 with 0 Axes>"
      ]
     },
     "metadata": {},
     "output_type": "display_data"
    },
    {
     "data": {
      "text/plain": [
       "<Figure size 1440x720 with 0 Axes>"
      ]
     },
     "metadata": {},
     "output_type": "display_data"
    },
    {
     "data": {
      "text/plain": [
       "<Figure size 1440x720 with 0 Axes>"
      ]
     },
     "metadata": {},
     "output_type": "display_data"
    },
    {
     "data": {
      "text/plain": [
       "<Figure size 1440x720 with 0 Axes>"
      ]
     },
     "metadata": {},
     "output_type": "display_data"
    },
    {
     "data": {
      "text/plain": [
       "<Figure size 1440x720 with 0 Axes>"
      ]
     },
     "metadata": {},
     "output_type": "display_data"
    },
    {
     "data": {
      "text/plain": [
       "<Figure size 1440x720 with 0 Axes>"
      ]
     },
     "metadata": {},
     "output_type": "display_data"
    },
    {
     "data": {
      "text/plain": [
       "<Figure size 1440x720 with 0 Axes>"
      ]
     },
     "metadata": {},
     "output_type": "display_data"
    },
    {
     "data": {
      "text/plain": [
       "<Figure size 1440x720 with 0 Axes>"
      ]
     },
     "metadata": {},
     "output_type": "display_data"
    }
   ],
   "source": [
    "from gat_mem_org_log.train import *\n",
    "seed = 1\n",
    "random.seed(seed)\n",
    "np.random.seed(seed)\n",
    "torch.manual_seed(seed)\n",
    "torch.cuda.manual_seed(seed)\n",
    "torch.backends.cudnn.deterministic = True\n",
    "torch.backends.cudnn.benchmark = False\n",
    "os.environ['PYTHONHASHSEED'] = str(seed)\n",
    "\n",
    "dataset = 'shanghai_t2dm'\n",
    "version = 'nips_23'\n",
    "CONF = {\n",
    "    'data_path':f'../../code_data/{dataset}/{version}/',\n",
    "    'log_path': f'../../code_log/{version}/{dataset}',\n",
    "    'dataset': dataset,\n",
    "    'n_prev' : 16,\n",
    "    'pred_window' : 2,\n",
    "    'seq_len': 16,\n",
    "\n",
    "    'attri_list': ['finger_stick', 'blood_ketone', 'meal','insulin_dose_sc', 'hypo_agents', 'insulin_bolus', 'basal','insulin_iv'], \n",
    "    'time_attri_list' : ['timestamp'],     \n",
    "    'model_name':'gat_exp', \n",
    "\n",
    "    'hidden_dim': 256,\n",
    "\n",
    "    'lr': 1e-3,  # 1e-4\n",
    "    'tuning_lr':1e-5,\n",
    "    'epochs': 30,\n",
    "    'local_epochs': 500,\n",
    "    'tuning_epochs': 10, \n",
    "    'tuning_local_epochs': 80,\n",
    "    'weight_decay': 1e-4,\n",
    "    'batch_size': 128,\n",
    "    'nhead': 1,\n",
    "    'num_layers':2,\n",
    "    'device': 'cuda',\n",
    "\n",
    "\n",
    "    'print_every':2,\n",
    "    'comments': 'pred_2_all_features',\n",
    "    'save_model': True,\n",
    "    'all_edges':True,\n",
    "\n",
    "\n",
    "    'interval': 15,\n",
    "    'log_epoch_vari_imp': False,\n",
    "}\n",
    "pid2model = train(CONF)\n",
    "print('end')"
   ]
  },
  {
   "cell_type": "code",
   "execution_count": 6,
   "metadata": {},
   "outputs": [
    {
     "name": "stderr",
     "output_type": "stream",
     "text": [
      "global_loop: 100%|██████████| 20/20 [10:00<00:00, 30.02s/it]\n"
     ]
    },
    {
     "name": "stdout",
     "output_type": "stream",
     "text": [
      " \n",
      " Results after 20 global rounds of training:\n",
      "rmse, 14.49829, 3.30542\n",
      "mape, 9.35406, 3.83751\n",
      "mae, 11.01771, 2.85597\n",
      "grmse, 18.05900, 5.32897\n",
      "time_lag, -2.50000, 5.59017\n",
      "[11.020845948027594, 9.831936580791748, 12.203718925607651, 13.497600200837207, 21.366324108470394, 16.36071340483765, 12.637126877103348, 11.522113933522368, 18.083392774539885, 14.511885934434002, 14.55190589194043, 18.391864537135536]\n"
     ]
    },
    {
     "name": "stderr",
     "output_type": "stream",
     "text": [
      "tune_loop: 100%|██████████| 10/10 [09:47<00:00, 58.76s/it]\n"
     ]
    },
    {
     "name": "stdout",
     "output_type": "stream",
     "text": [
      " \n",
      " Results after 10 of fine tuning:\n",
      "(10, 16, 10, 10)\n",
      "(10, 10, 16)\n",
      "rmse, 14.56474, 3.38813\n",
      "mape, 9.57433, 4.40506\n",
      "mae, 11.01122, 2.94268\n",
      "grmse, 17.86137, 5.43453\n",
      "time_lag, -1.25000, 4.14578\n",
      "[11.180803564465657, 10.08077121266957, 12.386174252854282, 13.713840170843662, 20.868425441798955, 14.783866150782677, 13.049347164735147, 10.906277631926852, 20.615639151787626, 15.382170207039067, 14.42361271102685, 17.385945995661626]\n",
      "(10, 16, 10, 10)\n",
      "(10, 10, 16)\n"
     ]
    },
    {
     "name": "stderr",
     "output_type": "stream",
     "text": [
      "c:\\code\\fornips23\\gat_mem_org_log\\log.py:191: RuntimeWarning: More than 20 figures have been opened. Figures created through the pyplot interface (`matplotlib.pyplot.figure`) are retained until explicitly closed and may consume too much memory. (To control this warning, see the rcParam `figure.max_open_warning`).\n",
      "  fig, axs = plt.subplots(figsize = (20, 10), ncols=1, nrows=nrows, sharex = sharex)\n"
     ]
    },
    {
     "name": "stdout",
     "output_type": "stream",
     "text": [
      "models have been saved...\n",
      "end\n"
     ]
    },
    {
     "data": {
      "text/plain": [
       "<Figure size 1440x1080 with 0 Axes>"
      ]
     },
     "metadata": {},
     "output_type": "display_data"
    },
    {
     "data": {
      "text/plain": [
       "<Figure size 1440x1080 with 0 Axes>"
      ]
     },
     "metadata": {},
     "output_type": "display_data"
    },
    {
     "data": {
      "text/plain": [
       "<Figure size 1440x720 with 0 Axes>"
      ]
     },
     "metadata": {},
     "output_type": "display_data"
    },
    {
     "data": {
      "text/plain": [
       "<Figure size 1440x720 with 0 Axes>"
      ]
     },
     "metadata": {},
     "output_type": "display_data"
    },
    {
     "data": {
      "text/plain": [
       "<Figure size 1440x720 with 0 Axes>"
      ]
     },
     "metadata": {},
     "output_type": "display_data"
    },
    {
     "data": {
      "text/plain": [
       "<Figure size 1440x720 with 0 Axes>"
      ]
     },
     "metadata": {},
     "output_type": "display_data"
    },
    {
     "data": {
      "text/plain": [
       "<Figure size 1440x720 with 0 Axes>"
      ]
     },
     "metadata": {},
     "output_type": "display_data"
    },
    {
     "data": {
      "text/plain": [
       "<Figure size 1440x720 with 0 Axes>"
      ]
     },
     "metadata": {},
     "output_type": "display_data"
    },
    {
     "data": {
      "text/plain": [
       "<Figure size 1440x720 with 0 Axes>"
      ]
     },
     "metadata": {},
     "output_type": "display_data"
    },
    {
     "data": {
      "text/plain": [
       "<Figure size 1440x720 with 0 Axes>"
      ]
     },
     "metadata": {},
     "output_type": "display_data"
    },
    {
     "data": {
      "text/plain": [
       "<Figure size 1440x720 with 0 Axes>"
      ]
     },
     "metadata": {},
     "output_type": "display_data"
    },
    {
     "data": {
      "text/plain": [
       "<Figure size 1440x720 with 0 Axes>"
      ]
     },
     "metadata": {},
     "output_type": "display_data"
    },
    {
     "data": {
      "text/plain": [
       "<Figure size 1440x1080 with 0 Axes>"
      ]
     },
     "metadata": {},
     "output_type": "display_data"
    },
    {
     "data": {
      "text/plain": [
       "<Figure size 1440x1080 with 0 Axes>"
      ]
     },
     "metadata": {},
     "output_type": "display_data"
    },
    {
     "data": {
      "text/plain": [
       "<Figure size 1440x720 with 0 Axes>"
      ]
     },
     "metadata": {},
     "output_type": "display_data"
    },
    {
     "data": {
      "text/plain": [
       "<Figure size 1440x720 with 0 Axes>"
      ]
     },
     "metadata": {},
     "output_type": "display_data"
    },
    {
     "data": {
      "text/plain": [
       "<Figure size 1440x720 with 0 Axes>"
      ]
     },
     "metadata": {},
     "output_type": "display_data"
    },
    {
     "data": {
      "text/plain": [
       "<Figure size 1440x720 with 0 Axes>"
      ]
     },
     "metadata": {},
     "output_type": "display_data"
    },
    {
     "data": {
      "text/plain": [
       "<Figure size 1440x720 with 0 Axes>"
      ]
     },
     "metadata": {},
     "output_type": "display_data"
    },
    {
     "data": {
      "text/plain": [
       "<Figure size 1440x720 with 0 Axes>"
      ]
     },
     "metadata": {},
     "output_type": "display_data"
    },
    {
     "data": {
      "text/plain": [
       "<Figure size 1440x720 with 0 Axes>"
      ]
     },
     "metadata": {},
     "output_type": "display_data"
    },
    {
     "data": {
      "text/plain": [
       "<Figure size 1440x720 with 0 Axes>"
      ]
     },
     "metadata": {},
     "output_type": "display_data"
    },
    {
     "data": {
      "text/plain": [
       "<Figure size 1440x720 with 0 Axes>"
      ]
     },
     "metadata": {},
     "output_type": "display_data"
    },
    {
     "data": {
      "text/plain": [
       "<Figure size 1440x720 with 0 Axes>"
      ]
     },
     "metadata": {},
     "output_type": "display_data"
    }
   ],
   "source": [
    "from gat_mem_org_log.train import *\n",
    "seed = 1\n",
    "random.seed(seed)\n",
    "np.random.seed(seed)\n",
    "torch.manual_seed(seed)\n",
    "torch.cuda.manual_seed(seed)\n",
    "torch.backends.cudnn.deterministic = True\n",
    "torch.backends.cudnn.benchmark = False\n",
    "os.environ['PYTHONHASHSEED'] = str(seed)\n",
    "\n",
    "dataset = 'shanghai_t1dm'\n",
    "version = 'nips_23'\n",
    "CONF = {\n",
    "    'data_path':f'../../code_data/{dataset}/{version}/',\n",
    "    'log_path': f'../../code_log/{version}/{dataset}',\n",
    "    'dataset': dataset,\n",
    "    'n_prev' : 16,\n",
    "    'pred_window' : 2,\n",
    "    'seq_len': 16,\n",
    "\n",
    "    'attri_list': ['finger_stick', 'blood_ketone', 'meal','insulin_dose_sc', 'hypo_agents', 'insulin_bolus', 'basal','insulin_iv'], \n",
    "    'time_attri_list' : ['timestamp'],     \n",
    "    'model_name':'gat_exp', \n",
    "\n",
    "    'hidden_dim': 256,\n",
    "\n",
    "    'lr': 1e-3,  # 1e-4\n",
    "    'tuning_lr':1e-5,\n",
    "    'epochs': 20,\n",
    "    'local_epochs': 500,\n",
    "    'tuning_epochs': 10, \n",
    "    'tuning_local_epochs': 80,\n",
    "\n",
    "    # 'epochs': 2,\n",
    "    # 'local_epochs': 5,\n",
    "    # 'tuning_epochs': 2, \n",
    "    # 'tuning_local_epochs': 8,\n",
    "\n",
    "    'weight_decay': 1e-4,\n",
    "    'batch_size': 128,\n",
    "    'nhead': 1,\n",
    "    'num_layers':2,\n",
    "    'device': 'cuda',\n",
    "\n",
    "\n",
    "    'print_every':2,\n",
    "    'comments': 'pred_2_all_features',\n",
    "    'save_model': True,\n",
    "    'all_edges':True,\n",
    "\n",
    "\n",
    "    'interval': 15,\n",
    "    'log_epoch_vari_imp': False,\n",
    "}\n",
    "pid2model = train(CONF)\n",
    "print('end')"
   ]
  }
 ],
 "metadata": {
  "kernelspec": {
   "display_name": "base",
   "language": "python",
   "name": "python3"
  },
  "language_info": {
   "codemirror_mode": {
    "name": "ipython",
    "version": 3
   },
   "file_extension": ".py",
   "mimetype": "text/x-python",
   "name": "python",
   "nbconvert_exporter": "python",
   "pygments_lexer": "ipython3",
   "version": "3.9.12"
  },
  "orig_nbformat": 4
 },
 "nbformat": 4,
 "nbformat_minor": 2
}
