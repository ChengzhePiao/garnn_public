{
 "cells": [
  {
   "cell_type": "code",
   "execution_count": 7,
   "metadata": {},
   "outputs": [],
   "source": [
    "def select_conf(version, dataset, seed, method, hidden_dim):\n",
    "    if dataset == 'ohio':\n",
    "        CONF = {\n",
    "            'data_path':f'../../code_data/{dataset}/{version}/',\n",
    "            'log_path': f'../../code_log/{version}/{dataset}',\n",
    "            'dataset': dataset,\n",
    "            'n_prev' : 48,\n",
    "            'pred_window' : 6,\n",
    "            'seq_len': 48,\n",
    "            'mix_test_and_valid_2018': False,\n",
    "\n",
    "            'attri_list': [ 'meal', 'bolus', 'basal', 'finger_stick',\n",
    "            'basis_skin_temperature', 'basis_gsr', 'basis_sleep', 'acceleration',\n",
    "            'exercise', 'sleep', 'work', 'basis_steps', 'basis_heart_rate', 'basis_air_temperature'],\n",
    "            \n",
    "            'time_attri_list' : ['timestamp'],     \n",
    "\n",
    "            'model_name': method, \n",
    "\n",
    "            'hidden_dim': hidden_dim,\n",
    "            'nhead': 1,\n",
    "            'num_layers': 2,\n",
    "            'all_edges':True,\n",
    "\n",
    "            'lr': 1e-3,  # 1e-4\n",
    "            'tuning_lr':1e-5,\n",
    "            'epochs': 30,\n",
    "            'local_epochs': 500,\n",
    "            'tuning_epochs': 30, \n",
    "            'tuning_local_epochs': 80,\n",
    "\n",
    "\n",
    "            'weight_decay': 1e-4,\n",
    "            'batch_size': 128,\n",
    "            'device': 'cuda',\n",
    "\n",
    "\n",
    "            'print_every':2,\n",
    "            'comments': f'pred_6_all_features_seed_{seed}',\n",
    "            'save_model': True,\n",
    "            'all_edges': True,\n",
    "\n",
    "            \n",
    "            'interval': 5,\n",
    "            'log_epoch_vari_imp': False,\n",
    "\n",
    "            'rewrite':False,\n",
    "        }\n",
    "    elif dataset == 'arises':\n",
    "        CONF = {\n",
    "            'data_path':f'../../code_data/{dataset}/{version}/',\n",
    "            'log_path': f'../../code_log/{version}/{dataset}',\n",
    "            'dataset': dataset,\n",
    "            'n_prev' : 48,\n",
    "            'pred_window' : 6,\n",
    "            'seq_len': 48,\n",
    "            'mix_test_and_valid_2018': False,\n",
    "\n",
    "            'attri_list': [\n",
    "            'meal', 'bolus', 'basal', 'correction_bolus',\n",
    "            'finger_stick', 'EDA', 'SCL', 'SCR', 'HR', 'TEMP', 'ACC', 'RMSSD', 'SDNN',\n",
    "            'medianNNI', 'CVNNI', 'CVSD', 'pNNX', 'meanHR', 'minHR', 'maxHR', 'VLF',\n",
    "            'LF', 'HF', 'LHR', ],\n",
    "            'time_attri_list' : ['timestamp'],     \n",
    "            'model_name': method, \n",
    "\n",
    "            'hidden_dim': hidden_dim,\n",
    "            'nhead': 1,\n",
    "            'num_layers': 2,\n",
    "            'all_edges':True,\n",
    "\n",
    "            'lr': 1e-3,  # 1e-4\n",
    "            'tuning_lr':1e-5,\n",
    "            'epochs': 30,\n",
    "            'local_epochs': 500,\n",
    "            'tuning_epochs': 30, \n",
    "            'tuning_local_epochs': 80,\n",
    "            'weight_decay': 1e-4,\n",
    "            'batch_size': 128,\n",
    "            'device': 'cuda',\n",
    "\n",
    "\n",
    "            'print_every':2,\n",
    "            'comments': f'pred_6_all_features_seed_{seed}',\n",
    "            'save_model': True,\n",
    "            'all_edges': True,\n",
    "\n",
    "\n",
    "            'interval': 5,\n",
    "            'log_epoch_vari_imp': False,\n",
    "\n",
    "            'rewrite':False,\n",
    "        }\n",
    "    elif dataset == 'shanghai_t2dm':\n",
    "        CONF = {\n",
    "            'data_path':f'../../code_data/{dataset}/{version}/',\n",
    "            'log_path': f'../../code_log/{version}/{dataset}',\n",
    "            'dataset': dataset,\n",
    "            'n_prev' : 16,\n",
    "            'pred_window' : 2,\n",
    "            'seq_len': 16,\n",
    "\n",
    "            'attri_list': ['finger_stick', 'blood_ketone', 'meal','insulin_dose_sc', 'hypo_agents', 'insulin_bolus', 'basal','insulin_iv'], \n",
    "            'time_attri_list' : ['timestamp'],  \n",
    "\n",
    "            'model_name':method, \n",
    "\n",
    "            'hidden_dim': hidden_dim,\n",
    "            'nhead': 1,\n",
    "            'num_layers': 2,\n",
    "            'all_edges':True,\n",
    "\n",
    "\n",
    "            'lr': 1e-3,  # 1e-4\n",
    "            'tuning_lr':1e-5,\n",
    "            'epochs': 30,\n",
    "            'local_epochs': 500,\n",
    "            'tuning_epochs': 10, \n",
    "            'tuning_local_epochs': 80,\n",
    "            'weight_decay': 1e-4,\n",
    "            'batch_size': 128,\n",
    "            'device': 'cuda',\n",
    "\n",
    "\n",
    "            'print_every':2,\n",
    "            'comments': f'pred_2_all_features_seed_{seed}',\n",
    "            'save_model': True,\n",
    "            'all_edges':True,\n",
    "\n",
    "\n",
    "            'interval': 15,\n",
    "            'log_epoch_vari_imp': False,\n",
    "            'rewrite':False,\n",
    "\n",
    "        }\n",
    "    elif dataset == 'shanghai_t1dm':\n",
    "\n",
    "        CONF = {\n",
    "            'data_path':f'../../code_data/{dataset}/{version}/',\n",
    "            'log_path': f'../../code_log/{version}/{dataset}',\n",
    "            'dataset': dataset,\n",
    "            'n_prev' : 16,\n",
    "            'pred_window' : 2,\n",
    "            'seq_len': 16,\n",
    "\n",
    "\n",
    "            'attri_list': ['finger_stick', 'blood_ketone', 'meal','insulin_dose_sc', 'hypo_agents', 'insulin_bolus', 'basal','insulin_iv'], \n",
    "            'time_attri_list' : ['timestamp'],    \n",
    "\n",
    "            'model_name':method, \n",
    "\n",
    "            'hidden_dim': hidden_dim,\n",
    "            'nhead': 1,\n",
    "            'num_layers': 2,\n",
    "            'all_edges':True,\n",
    "\n",
    "            'lr': 1e-3,  # 1e-4\n",
    "            'tuning_lr':1e-5,\n",
    "\n",
    "            'epochs': 20,\n",
    "            'local_epochs': 500,\n",
    "            'tuning_epochs': 10, \n",
    "            'tuning_local_epochs': 80,\n",
    "\n",
    "\n",
    "            'weight_decay': 1e-4,\n",
    "            'batch_size': 128,\n",
    "            'device': 'cuda',\n",
    "\n",
    "\n",
    "            'print_every':2,\n",
    "            'comments': f'pred_2_all_features_seed_{seed}',\n",
    "            'save_model': True,\n",
    "\n",
    "            'interval': 15,\n",
    "            'log_epoch_vari_imp': True,\n",
    "            'rewrite':True,\n",
    "        }\n",
    "    return CONF"
   ]
  },
  {
   "cell_type": "code",
   "execution_count": 8,
   "metadata": {},
   "outputs": [],
   "source": [
    "mthd_dt2hidden_dim = {\n",
    "    \n",
    "    ('gatv2_exp_layer_1', 'ohio') : 512,\n",
    "    ('gatv2_exp_layer_1', 'arises') : 512,\n",
    "    ('gatv2_exp_layer_1', 'shanghai_t1dm') : 256,\n",
    "    ('gatv2_exp_layer_1', 'shanghai_t2dm') : 256,\n",
    "\n",
    "\n",
    "}"
   ]
  },
  {
   "cell_type": "code",
   "execution_count": 9,
   "metadata": {},
   "outputs": [
    {
     "name": "stdout",
     "output_type": "stream",
     "text": [
      "############################### gatv2_exp_layer_1 #############################\n",
      "----------------seed=80--dataset='shanghai_t1dm'------------------------\n"
     ]
    },
    {
     "name": "stderr",
     "output_type": "stream",
     "text": [
      "global_loop: 100%|██████████| 20/20 [05:48<00:00, 17.40s/it]\n"
     ]
    },
    {
     "name": "stdout",
     "output_type": "stream",
     "text": [
      " \n",
      " Results after 20 global rounds of training:\n",
      "rmse, 13.84777, 2.89619\n",
      "mape, 8.96799, 3.49559\n",
      "mae, 10.65740, 2.56637\n",
      "grmse, 16.77731, 4.52256\n",
      "time_lag, -2.50000, 5.59017\n",
      "[10.593620367016593, 10.055494440594368, 11.371166211981418, 13.89659788362813, 19.68484837673977, 14.866046166122358, 11.725641202983049, 12.034231950875009, 15.150261582738121, 13.612732010082338, 14.372960219580127, 18.809623625101295]\n"
     ]
    },
    {
     "name": "stderr",
     "output_type": "stream",
     "text": [
      "tune_loop: 100%|██████████| 10/10 [05:09<00:00, 30.91s/it]\n"
     ]
    },
    {
     "name": "stdout",
     "output_type": "stream",
     "text": [
      " \n",
      " Results after 10 of fine tuning:\n",
      "rmse, 13.88269, 3.08880\n",
      "mape, 9.13452, 4.25875\n",
      "mae, 10.64457, 2.87205\n",
      "grmse, 16.82001, 4.87824\n",
      "time_lag, -2.50000, 5.59017\n",
      "[10.66072556823002, 9.978280322081313, 11.406836591295056, 13.299664967841707, 19.76682848979375, 14.31176329469977, 11.842335317061359, 11.180812435213543, 18.99566199321695, 14.015808988828583, 14.10217926282805, 17.03134048857842]\n",
      "models have been saved...\n",
      "end\n"
     ]
    },
    {
     "data": {
      "text/plain": [
       "<Figure size 2160x720 with 0 Axes>"
      ]
     },
     "metadata": {},
     "output_type": "display_data"
    },
    {
     "data": {
      "text/plain": [
       "<Figure size 2160x720 with 0 Axes>"
      ]
     },
     "metadata": {},
     "output_type": "display_data"
    },
    {
     "data": {
      "text/plain": [
       "<Figure size 1440x720 with 0 Axes>"
      ]
     },
     "metadata": {},
     "output_type": "display_data"
    },
    {
     "data": {
      "text/plain": [
       "<Figure size 1440x1080 with 0 Axes>"
      ]
     },
     "metadata": {},
     "output_type": "display_data"
    },
    {
     "data": {
      "text/plain": [
       "<Figure size 1440x1080 with 0 Axes>"
      ]
     },
     "metadata": {},
     "output_type": "display_data"
    },
    {
     "data": {
      "text/plain": [
       "<Figure size 1440x1080 with 0 Axes>"
      ]
     },
     "metadata": {},
     "output_type": "display_data"
    },
    {
     "data": {
      "text/plain": [
       "<Figure size 1440x1080 with 0 Axes>"
      ]
     },
     "metadata": {},
     "output_type": "display_data"
    }
   ],
   "source": [
    "for method in ['gatv2_exp_layer_1']:\n",
    "    print(f'############################### {method} #############################')\n",
    "    for dataset in ['shanghai_t1dm']:\n",
    "        for seed in [80]:\n",
    "            \n",
    "            print(f'----------------{seed=}--{dataset=}------------------------')\n",
    "            from gat_mem_org_log.train import *\n",
    "            random.seed(seed)\n",
    "            np.random.seed(seed)\n",
    "            torch.manual_seed(seed)\n",
    "            torch.cuda.manual_seed(seed)\n",
    "            torch.backends.cudnn.deterministic = True\n",
    "            torch.backends.cudnn.benchmark = False\n",
    "            os.environ['PYTHONHASHSEED'] = str(seed)\n",
    "\n",
    "            version = 'nips_23'\n",
    "\n",
    "            CONF = select_conf(dataset=dataset, version=version, seed=seed, method=method, hidden_dim=mthd_dt2hidden_dim[(method, dataset)])\n",
    "            pid2model = train(CONF)\n",
    "            print('end')"
   ]
  }
 ],
 "metadata": {
  "kernelspec": {
   "display_name": "base",
   "language": "python",
   "name": "python3"
  },
  "language_info": {
   "codemirror_mode": {
    "name": "ipython",
    "version": 3
   },
   "file_extension": ".py",
   "mimetype": "text/x-python",
   "name": "python",
   "nbconvert_exporter": "python",
   "pygments_lexer": "ipython3",
   "version": "3.9.12"
  },
  "orig_nbformat": 4
 },
 "nbformat": 4,
 "nbformat_minor": 2
}
