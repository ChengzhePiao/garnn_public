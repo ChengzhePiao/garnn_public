{
 "cells": [
  {
   "cell_type": "code",
   "execution_count": 1,
   "metadata": {},
   "outputs": [],
   "source": [
    "def select_conf(version, dataset, seed, method, hidden_dim):\n",
    "    if dataset == 'ohio':\n",
    "        CONF = {\n",
    "            'data_path':f'../../code_data/{dataset}/{version}/',\n",
    "            'log_path': f'../../code_log/{version}/{dataset}',\n",
    "            'dataset': dataset,\n",
    "            'n_prev' : 48,\n",
    "            'pred_window' : 6,\n",
    "            'seq_len': 48,\n",
    "            'mix_test_and_valid_2018': False,\n",
    "\n",
    "            'attri_list': [ 'meal', 'bolus', 'basal', 'finger_stick',\n",
    "            'basis_skin_temperature', 'basis_gsr', 'basis_sleep', 'acceleration',\n",
    "            'exercise', 'sleep', 'work', 'basis_steps', 'basis_heart_rate', 'basis_air_temperature'],\n",
    "            \n",
    "            'time_attri_list' : ['timestamp'],     \n",
    "\n",
    "            'model_name': method, \n",
    "\n",
    "            'hidden_dim': hidden_dim,\n",
    "            'nhead': 1,\n",
    "            'num_layers': 2,\n",
    "            'all_edges':True,\n",
    "\n",
    "            'lr': 1e-3,  # 1e-4\n",
    "            'tuning_lr':1e-5,\n",
    "            'epochs': 30,\n",
    "            'local_epochs': 500,\n",
    "            'tuning_epochs': 30, \n",
    "            'tuning_local_epochs': 80,\n",
    "\n",
    "\n",
    "            'weight_decay': 1e-4,\n",
    "            'batch_size': 128,\n",
    "            'device': 'cuda',\n",
    "\n",
    "\n",
    "            'print_every':2,\n",
    "            'comments': f'pred_6_all_features_seed_{seed}',\n",
    "            'save_model': True,\n",
    "            'all_edges': True,\n",
    "\n",
    "            \n",
    "            'interval': 5,\n",
    "            'log_epoch_vari_imp': False,\n",
    "\n",
    "            'rewrite':False,\n",
    "        }\n",
    "    elif dataset == 'arises':\n",
    "        CONF = {\n",
    "            'data_path':f'../../code_data/{dataset}/{version}/',\n",
    "            'log_path': f'../../code_log/{version}/{dataset}',\n",
    "            'dataset': dataset,\n",
    "            'n_prev' : 48,\n",
    "            'pred_window' : 6,\n",
    "            'seq_len': 48,\n",
    "            'mix_test_and_valid_2018': False,\n",
    "\n",
    "            'attri_list': [\n",
    "            'meal', 'bolus', 'basal', 'correction_bolus',\n",
    "            'finger_stick', 'EDA', 'SCL', 'SCR', 'HR', 'TEMP', 'ACC', 'RMSSD', 'SDNN',\n",
    "            'medianNNI', 'CVNNI', 'CVSD', 'pNNX', 'meanHR', 'minHR', 'maxHR', 'VLF',\n",
    "            'LF', 'HF', 'LHR', ],\n",
    "            'time_attri_list' : ['timestamp'],     \n",
    "            'model_name': method, \n",
    "\n",
    "            'hidden_dim': hidden_dim,\n",
    "            'nhead': 1,\n",
    "            'num_layers': 2,\n",
    "            'all_edges':True,\n",
    "\n",
    "            'lr': 1e-3,  # 1e-4\n",
    "            'tuning_lr':1e-5,\n",
    "            'epochs': 30,\n",
    "            'local_epochs': 500,\n",
    "            'tuning_epochs': 30, \n",
    "            'tuning_local_epochs': 80,\n",
    "            'weight_decay': 1e-4,\n",
    "            'batch_size': 128,\n",
    "            'device': 'cuda',\n",
    "\n",
    "\n",
    "            'print_every':2,\n",
    "            'comments': f'pred_6_all_features_seed_{seed}',\n",
    "            'save_model': True,\n",
    "            'all_edges': True,\n",
    "\n",
    "\n",
    "            'interval': 5,\n",
    "            'log_epoch_vari_imp': False,\n",
    "\n",
    "            'rewrite':False,\n",
    "        }\n",
    "    elif dataset == 'shanghai_t2dm':\n",
    "        CONF = {\n",
    "            'data_path':f'../../code_data/{dataset}/{version}/',\n",
    "            'log_path': f'../../code_log/{version}/{dataset}',\n",
    "            'dataset': dataset,\n",
    "            'n_prev' : 16,\n",
    "            'pred_window' : 2,\n",
    "            'seq_len': 16,\n",
    "\n",
    "            'attri_list': ['finger_stick', 'blood_ketone', 'meal','insulin_dose_sc', 'hypo_agents', 'insulin_bolus', 'basal','insulin_iv'], \n",
    "            'time_attri_list' : ['timestamp'],  \n",
    "\n",
    "            'model_name':method, \n",
    "\n",
    "            'hidden_dim': hidden_dim,\n",
    "            'nhead': 1,\n",
    "            'num_layers': 2,\n",
    "            'all_edges':True,\n",
    "\n",
    "\n",
    "            'lr': 1e-3,  # 1e-4\n",
    "            'tuning_lr':1e-5,\n",
    "            'epochs': 30,\n",
    "            'local_epochs': 500,\n",
    "            'tuning_epochs': 10, \n",
    "            'tuning_local_epochs': 80,\n",
    "            'weight_decay': 1e-4,\n",
    "            'batch_size': 128,\n",
    "            'device': 'cuda',\n",
    "\n",
    "\n",
    "            'print_every':2,\n",
    "            'comments': f'pred_2_all_features_seed_{seed}',\n",
    "            'save_model': True,\n",
    "            'all_edges':True,\n",
    "\n",
    "\n",
    "            'interval': 15,\n",
    "            'log_epoch_vari_imp': False,\n",
    "            'rewrite':False,\n",
    "\n",
    "        }\n",
    "    elif dataset == 'shanghai_t1dm':\n",
    "\n",
    "        CONF = {\n",
    "            'data_path':f'../../code_data/{dataset}/{version}/',\n",
    "            'log_path': f'../../code_log/{version}/{dataset}',\n",
    "            'dataset': dataset,\n",
    "            'n_prev' : 16,\n",
    "            'pred_window' : 2,\n",
    "            'seq_len': 16,\n",
    "\n",
    "\n",
    "            'attri_list': ['finger_stick', 'blood_ketone', 'meal','insulin_dose_sc', 'hypo_agents', 'insulin_bolus', 'basal','insulin_iv'], \n",
    "            'time_attri_list' : ['timestamp'],    \n",
    "\n",
    "            'model_name':method, \n",
    "\n",
    "            'hidden_dim': hidden_dim,\n",
    "            'nhead': 1,\n",
    "            'num_layers': 2,\n",
    "            'all_edges':True,\n",
    "\n",
    "            'lr': 1e-3,  # 1e-4\n",
    "            'tuning_lr':1e-5,\n",
    "\n",
    "            'epochs': 20,\n",
    "            'local_epochs': 500,\n",
    "            'tuning_epochs': 0, \n",
    "            'tuning_local_epochs': 80,\n",
    "\n",
    "\n",
    "            'weight_decay': 1e-4,\n",
    "            'batch_size': 128,\n",
    "            'device': 'cuda',\n",
    "\n",
    "\n",
    "            'print_every':2,\n",
    "            'comments': f'pred_2_all_features_seed_{seed}',\n",
    "            'save_model': True,\n",
    "\n",
    "            'interval': 15,\n",
    "            'log_epoch_vari_imp': False,\n",
    "            'rewrite':False,\n",
    "        }\n",
    "    return CONF\n",
    "\n",
    "mthd_dt2hidden_dim = {\n",
    "    ('imv_tensor_lstm', 'ohio') : 512//16,\n",
    "    ('imv_tensor_lstm', 'arises') : 512//26,\n",
    "    ('imv_tensor_lstm', 'shanghai_t1dm') : 256//10,\n",
    "    ('imv_tensor_lstm', 'shanghai_t2dm') : 256//10,\n",
    "\n",
    "    ('imv_full_lstm', 'ohio') : 512//16,\n",
    "    ('imv_full_lstm', 'arises') : 512//26,\n",
    "    ('imv_full_lstm', 'shanghai_t1dm') : 256//10,\n",
    "    ('imv_full_lstm', 'shanghai_t2dm') : 256//10,\n",
    "\n",
    "    ('tgru', 'ohio') : 32*16,\n",
    "    ('tgru', 'arises') : 20*26,\n",
    "    ('tgru', 'shanghai_t1dm') : 25*10,\n",
    "    ('tgru', 'shanghai_t2dm') : 25*10,\n",
    "    ('ETN-ODE', 'ohio') : 32*16,\n",
    "    ('ETN-ODE', 'arises') : 20*26,\n",
    "    ('ETN-ODE', 'shanghai_t1dm') : 25*10,\n",
    "    ('ETN-ODE', 'shanghai_t2dm') : 25*10,\n",
    "\n",
    "    ('retain', 'ohio') : 512,\n",
    "    ('retain', 'arises') : 512,\n",
    "    ('retain', 'shanghai_t1dm') : 256,\n",
    "    ('retain', 'shanghai_t2dm') : 256,\n",
    "\n",
    "    \n",
    "    ('gatv2_exp_layer_1', 'ohio') : 512,\n",
    "    ('gatv2_exp_layer_1', 'arises') : 512,\n",
    "    ('gatv2_exp_layer_1', 'shanghai_t1dm') : 256,\n",
    "    ('gatv2_exp_layer_1', 'shanghai_t2dm') : 256,\n",
    "\n",
    "    ('gatv2_exp', 'ohio') : 512,\n",
    "    ('gatv2_exp', 'arises') : 512,\n",
    "    ('gatv2_exp', 'shanghai_t1dm') : 256,\n",
    "    ('gatv2_exp', 'shanghai_t2dm') : 256,\n",
    "\n",
    "    ('gat_exp', 'ohio') : 512,\n",
    "    ('gat_exp', 'arises') : 512,\n",
    "    ('gat_exp', 'shanghai_t1dm') : 256,\n",
    "    ('gat_exp', 'shanghai_t2dm') : 256,\n",
    "\n",
    "    ('gatv2_exp_trick', 'ohio') : 512,\n",
    "    ('gatv2_exp_trick', 'arises') : 512,\n",
    "    ('gatv2_exp_trick', 'shanghai_t1dm') : 256,\n",
    "    ('gatv2_exp_trick', 'shanghai_t2dm') : 256,\n",
    "\n",
    "    ('att_t_lstm', 'ohio') : 512,\n",
    "    ('att_t_lstm', 'arises') : 512,\n",
    "    ('att_t_lstm', 'shanghai_t1dm') : 256,\n",
    "    ('att_t_lstm', 'shanghai_t2dm') : 256,\n",
    "    \n",
    "    ('att_f_lstm', 'ohio') : 512,\n",
    "    ('att_f_lstm', 'arises') : 512,\n",
    "    ('att_f_lstm', 'shanghai_t1dm') : 256,\n",
    "    ('att_f_lstm', 'shanghai_t2dm') : 256,\n",
    "\n",
    "    ('SHAP', 'ohio') : 512,\n",
    "    ('SHAP', 'arises') : 512,\n",
    "    ('SHAP', 'shanghai_t1dm') : 256,\n",
    "    ('SHAP', 'shanghai_t2dm') : 256,    \n",
    "\n",
    "    ('LIME', 'ohio') : 512,\n",
    "    ('LIME', 'arises') : 512,\n",
    "    ('LIME', 'shanghai_t1dm') : 256,\n",
    "    ('LIME', 'shanghai_t2dm') : 256,\n",
    "\n",
    "}"
   ]
  },
  {
   "cell_type": "code",
   "execution_count": 2,
   "metadata": {},
   "outputs": [
    {
     "name": "stdout",
     "output_type": "stream",
     "text": [
      "1 ohio\n",
      "1 arises\n",
      "1 shanghai_t1dm\n",
      "1 shanghai_t2dm\n",
      "10 ohio\n",
      "10 arises\n",
      "10 shanghai_t1dm\n",
      "10 shanghai_t2dm\n",
      "20 ohio\n",
      "20 arises\n",
      "20 shanghai_t1dm\n"
     ]
    },
    {
     "name": "stderr",
     "output_type": "stream",
     "text": [
      "c:\\code\\fornips23\\gat_mem_org_log\\log.py:142: RuntimeWarning: More than 20 figures have been opened. Figures created through the pyplot interface (`matplotlib.pyplot.figure`) are retained until explicitly closed and may consume too much memory. (To control this warning, see the rcParam `figure.max_open_warning`).\n",
      "  fig, ax = plt.subplots(figsize = (20, 15))\n"
     ]
    },
    {
     "name": "stdout",
     "output_type": "stream",
     "text": [
      "20 shanghai_t2dm\n",
      "100 ohio\n",
      "100 arises\n",
      "100 shanghai_t1dm\n",
      "100 shanghai_t2dm\n"
     ]
    },
    {
     "data": {
      "text/plain": [
       "<Figure size 2000x1500 with 0 Axes>"
      ]
     },
     "metadata": {},
     "output_type": "display_data"
    },
    {
     "data": {
      "text/plain": [
       "<Figure size 2000x1500 with 0 Axes>"
      ]
     },
     "metadata": {},
     "output_type": "display_data"
    },
    {
     "data": {
      "text/plain": [
       "<Figure size 2000x1500 with 0 Axes>"
      ]
     },
     "metadata": {},
     "output_type": "display_data"
    },
    {
     "data": {
      "text/plain": [
       "<Figure size 2000x1500 with 0 Axes>"
      ]
     },
     "metadata": {},
     "output_type": "display_data"
    },
    {
     "data": {
      "text/plain": [
       "<Figure size 2000x1500 with 0 Axes>"
      ]
     },
     "metadata": {},
     "output_type": "display_data"
    },
    {
     "data": {
      "text/plain": [
       "<Figure size 2000x1500 with 0 Axes>"
      ]
     },
     "metadata": {},
     "output_type": "display_data"
    },
    {
     "data": {
      "text/plain": [
       "<Figure size 2000x1500 with 0 Axes>"
      ]
     },
     "metadata": {},
     "output_type": "display_data"
    },
    {
     "data": {
      "text/plain": [
       "<Figure size 2000x1500 with 0 Axes>"
      ]
     },
     "metadata": {},
     "output_type": "display_data"
    },
    {
     "data": {
      "text/plain": [
       "<Figure size 2000x1500 with 0 Axes>"
      ]
     },
     "metadata": {},
     "output_type": "display_data"
    },
    {
     "data": {
      "text/plain": [
       "<Figure size 2000x1500 with 0 Axes>"
      ]
     },
     "metadata": {},
     "output_type": "display_data"
    },
    {
     "data": {
      "text/plain": [
       "<Figure size 2000x1500 with 0 Axes>"
      ]
     },
     "metadata": {},
     "output_type": "display_data"
    },
    {
     "data": {
      "text/plain": [
       "<Figure size 2000x1500 with 0 Axes>"
      ]
     },
     "metadata": {},
     "output_type": "display_data"
    },
    {
     "data": {
      "text/plain": [
       "<Figure size 2000x1500 with 0 Axes>"
      ]
     },
     "metadata": {},
     "output_type": "display_data"
    },
    {
     "data": {
      "text/plain": [
       "<Figure size 2000x1500 with 0 Axes>"
      ]
     },
     "metadata": {},
     "output_type": "display_data"
    },
    {
     "data": {
      "text/plain": [
       "<Figure size 2000x1500 with 0 Axes>"
      ]
     },
     "metadata": {},
     "output_type": "display_data"
    },
    {
     "data": {
      "text/plain": [
       "<Figure size 2000x1500 with 0 Axes>"
      ]
     },
     "metadata": {},
     "output_type": "display_data"
    },
    {
     "data": {
      "text/plain": [
       "<Figure size 2000x1500 with 0 Axes>"
      ]
     },
     "metadata": {},
     "output_type": "display_data"
    },
    {
     "data": {
      "text/plain": [
       "<Figure size 2000x1500 with 0 Axes>"
      ]
     },
     "metadata": {},
     "output_type": "display_data"
    },
    {
     "data": {
      "text/plain": [
       "<Figure size 2000x1500 with 0 Axes>"
      ]
     },
     "metadata": {},
     "output_type": "display_data"
    },
    {
     "data": {
      "text/plain": [
       "<Figure size 2000x1500 with 0 Axes>"
      ]
     },
     "metadata": {},
     "output_type": "display_data"
    },
    {
     "data": {
      "text/plain": [
       "<Figure size 2000x1500 with 0 Axes>"
      ]
     },
     "metadata": {},
     "output_type": "display_data"
    },
    {
     "data": {
      "text/plain": [
       "<Figure size 2000x1500 with 0 Axes>"
      ]
     },
     "metadata": {},
     "output_type": "display_data"
    },
    {
     "data": {
      "text/plain": [
       "<Figure size 2000x1500 with 0 Axes>"
      ]
     },
     "metadata": {},
     "output_type": "display_data"
    },
    {
     "data": {
      "text/plain": [
       "<Figure size 2000x1500 with 0 Axes>"
      ]
     },
     "metadata": {},
     "output_type": "display_data"
    },
    {
     "data": {
      "text/plain": [
       "<Figure size 2000x1500 with 0 Axes>"
      ]
     },
     "metadata": {},
     "output_type": "display_data"
    },
    {
     "data": {
      "text/plain": [
       "<Figure size 2000x1500 with 0 Axes>"
      ]
     },
     "metadata": {},
     "output_type": "display_data"
    },
    {
     "data": {
      "text/plain": [
       "<Figure size 2000x1500 with 0 Axes>"
      ]
     },
     "metadata": {},
     "output_type": "display_data"
    },
    {
     "data": {
      "text/plain": [
       "<Figure size 2000x1500 with 0 Axes>"
      ]
     },
     "metadata": {},
     "output_type": "display_data"
    },
    {
     "data": {
      "text/plain": [
       "<Figure size 2000x1500 with 0 Axes>"
      ]
     },
     "metadata": {},
     "output_type": "display_data"
    },
    {
     "data": {
      "text/plain": [
       "<Figure size 2000x1500 with 0 Axes>"
      ]
     },
     "metadata": {},
     "output_type": "display_data"
    },
    {
     "data": {
      "text/plain": [
       "<Figure size 2000x1500 with 0 Axes>"
      ]
     },
     "metadata": {},
     "output_type": "display_data"
    },
    {
     "data": {
      "text/plain": [
       "<Figure size 2000x1500 with 0 Axes>"
      ]
     },
     "metadata": {},
     "output_type": "display_data"
    }
   ],
   "source": [
    "method = 'retain'\n",
    "for seed in [1, 10, 20, 100]:\n",
    "    for dataset in ['ohio', 'arises', 'shanghai_t1dm', 'shanghai_t2dm']:\n",
    "        print(seed, dataset)\n",
    "        from gat_mem_org_log.train import *\n",
    "        random.seed(seed)\n",
    "        np.random.seed(seed)\n",
    "        torch.manual_seed(seed)\n",
    "        torch.cuda.manual_seed(seed)\n",
    "        torch.backends.cudnn.deterministic = True\n",
    "        torch.backends.cudnn.benchmark = False\n",
    "        os.environ['PYTHONHASHSEED'] = str(seed)\n",
    "\n",
    "        version = 'nips_23'\n",
    "\n",
    "        CONF = select_conf(dataset=dataset, version=version, seed=seed, method=method, hidden_dim=mthd_dt2hidden_dim[(method, dataset)])\n",
    "        pid_model = get_model(CONF)\n",
    "        data_proc = DataProcessor(CONF)\n",
    "        pid2model = create_pid2model(data_proc, CONF, pid_model)\n",
    "        log = Log(CONF['dataset'] + '_' + CONF['model_name'] + '_' + CONF['comments'], CONF)\n",
    "        pid2model = log.load_models(pid2model, CONF)\n",
    "        for pid in pid2model:\n",
    "            pid2model[pid].to(CONF['device'])\n",
    "        update = Update(data_proc, CONF)\n",
    "        eval_inference(data_proc=data_proc, inference=update.test_all_train_inference, best_pid2model=pid2model, log=log, comments='train', print_metrics=False)\n"
   ]
  }
 ],
 "metadata": {
  "kernelspec": {
   "display_name": "base",
   "language": "python",
   "name": "python3"
  },
  "language_info": {
   "codemirror_mode": {
    "name": "ipython",
    "version": 3
   },
   "file_extension": ".py",
   "mimetype": "text/x-python",
   "name": "python",
   "nbconvert_exporter": "python",
   "pygments_lexer": "ipython3",
   "version": "3.9.18"
  }
 },
 "nbformat": 4,
 "nbformat_minor": 2
}
