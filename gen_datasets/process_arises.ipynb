{
 "cells": [
  {
   "cell_type": "code",
   "execution_count": 1,
   "metadata": {},
   "outputs": [],
   "source": [
    "import numpy as np\n",
    "import os\n",
    "import pandas as pd\n",
    "import copy \n",
    "import datetime \n",
    "data_path = '../../../code_data/arises/'\n",
    "process_file = 'nips_23'\n",
    "\n",
    "pid_list = [1000 + d for d in range(1, 13)]\n"
   ]
  },
  {
   "cell_type": "code",
   "execution_count": 2,
   "metadata": {},
   "outputs": [
    {
     "name": "stdout",
     "output_type": "stream",
     "text": [
      "1001, total_points:15831, start:2019-02-28 12:43:28, end:2019-04-24 11:51:50\n",
      "1002, total_points:13215, start:2019-03-04 14:18:20, end:2019-04-19 11:25:42\n",
      "1003, total_points:14896, start:2019-03-04 19:17:53, end:2019-04-25 12:31:25\n",
      "1004, total_points:11517, start:2019-03-05 13:47:53, end:2019-04-14 13:25:57\n",
      "1005, total_points:14064, start:2019-03-07 13:48:01, end:2019-04-25 09:41:10\n",
      "1006, total_points:13464, start:2019-03-08 14:15:27, end:2019-04-24 08:08:52\n",
      "1007, total_points:13066, start:2019-04-29 13:35:19, end:2019-06-13 22:18:07\n",
      "1008, total_points:14307, start:2019-04-29 16:00:45, end:2019-06-18 08:08:44\n",
      "1009, total_points:14201, start:2019-04-30 12:41:20, end:2019-06-18 19:59:44\n",
      "1010, total_points:12911, start:2019-04-30 16:12:50, end:2019-06-14 12:01:44\n",
      "1011, total_points:13018, start:2019-05-07 12:41:15, end:2019-06-21 17:25:02\n",
      "1012, total_points:15797, start:2019-05-07 16:05:46, end:2019-07-01 12:23:44\n"
     ]
    }
   ],
   "source": [
    "pid2regular_df = {}\n",
    "names = ['ts', 'glucose_level', 'isRealBGL', 'basal', 'meal', \n",
    "'bolus', 'correction_bolus', 'finger_stick',\t'hypoStart', \n",
    "'EDA',\t'SCL', 'SCR', 'HR', 'TEMP', 'ACC', 'RMSSD', 'SDNN', 'medianNNI', 'CVNNI', 'CVSD', 'pNNX', \n",
    "'meanHR', 'minHR', 'maxHR', 'VLF', 'LF', 'HF', 'LHR']\n",
    "usecols = [i for i in range(28)]\n",
    "for pid in pid_list:\n",
    "    \n",
    "    load_path = os.path.join(data_path, 'raw_data', f'dc_{pid}_data.csv')\n",
    "    df = pd.read_csv(load_path, names=names, usecols=usecols, header=1)\n",
    "\n",
    "    df['ts'] = pd.to_datetime(df['ts'], dayfirst=True, errors='coerce')\n",
    "    # df = df.groupby('ts').sum()\n",
    "    df = df.set_index('ts')\n",
    "    df = df.sort_index()\n",
    "    df['glucose_level'] = df.apply(lambda row: row['glucose_level'] if row['isRealBGL'] == True else np.nan,  axis = 1)\n",
    "    df = df.drop(['hypoStart', 'isRealBGL'], axis=1)\n",
    "    df = df.astype(np.float64)\n",
    "    df = df.replace(0.0, np.nan)\n",
    "    pid2regular_df[pid] = df\n",
    "    print(f'{pid}, total_points:{len(df)}, start:{df.index[0]}, end:{df.index[-1]}')\n"
   ]
  },
  {
   "cell_type": "code",
   "execution_count": 3,
   "metadata": {},
   "outputs": [
    {
     "name": "stdout",
     "output_type": "stream",
     "text": [
      "1001 0\n",
      "1002 0\n",
      "1003 0\n",
      "1004 0\n",
      "1005 0\n",
      "1006 0\n",
      "1007 0\n",
      "1008 0\n",
      "1009 0\n",
      "1010 0\n",
      "1011 0\n",
      "1012 0\n"
     ]
    }
   ],
   "source": [
    "# check\n",
    "for pid in pid_list:\n",
    "    delta_ts = pid2regular_df[pid].index[1:] - pid2regular_df[pid].index[:-1]\n",
    "    print(pid, (delta_ts>datetime.timedelta(minutes=5, seconds=10)).sum())"
   ]
  },
  {
   "cell_type": "code",
   "execution_count": 4,
   "metadata": {},
   "outputs": [],
   "source": [
    "# add time features\n",
    "\n",
    "def add_time_attributes(pid2data):\n",
    "    for pid in pid2data:\n",
    "        data = pid2data[pid]\n",
    "\n",
    "        temp = data.index.to_frame().loc[:, 'ts'].dt\n",
    "        \n",
    "        data['day_of_week'] = temp.dayofweek\n",
    "        data['day_of_week'] = data['day_of_week'].astype(np.float64)\n",
    "\n",
    "        data['hour'] = temp.hour\n",
    "        data['hour'] = data['hour'].astype(np.float64)\n",
    "\n",
    "        data['minute'] = temp.minute\n",
    "        data['minute'] = data['minute'].astype(np.float64)\n",
    "\n",
    "        \n",
    "        data['timestamp'] = temp.hour * 3600 +\\\n",
    "                                temp.minute * 60 +\\\n",
    "                                temp.second\n",
    "        data['timestamp'] = data['timestamp'].astype(np.float64)\n",
    "        \n",
    "        # new ————————————————————————\n",
    "        seconds_in_day = 24*60*60\n",
    "\n",
    "        data['sin_time'] = np.sin(2 * np.pi * data.timestamp / seconds_in_day)\n",
    "        data['cos_time'] = np.cos(2 * np.pi * data.timestamp / seconds_in_day)\n",
    "        data['sin_time'].astype(np.float64)\n",
    "        data['cos_time'].astype(np.float64)\n",
    "        # end ______________________\n",
    "        \n",
    "        \n",
    "    return pid2data"
   ]
  },
  {
   "cell_type": "code",
   "execution_count": 5,
   "metadata": {},
   "outputs": [],
   "source": [
    "pid2regular_df = add_time_attributes(pid2regular_df)\n"
   ]
  },
  {
   "cell_type": "code",
   "execution_count": 6,
   "metadata": {},
   "outputs": [
    {
     "data": {
      "text/plain": [
       "count    15831.000000\n",
       "mean         0.000045\n",
       "std          0.707334\n",
       "min         -0.999977\n",
       "25%         -0.712001\n",
       "50%          0.007272\n",
       "75%          0.712128\n",
       "max          0.999976\n",
       "Name: sin_time, dtype: float64"
      ]
     },
     "execution_count": 6,
     "metadata": {},
     "output_type": "execute_result"
    }
   ],
   "source": [
    "pid2regular_df[1001].sin_time.describe()"
   ]
  },
  {
   "cell_type": "code",
   "execution_count": 7,
   "metadata": {},
   "outputs": [],
   "source": [
    "# add discrete y\n",
    "\n",
    "def discrete(y):\n",
    "    if y < 70:\n",
    "        return 0\n",
    "    elif 70<= y <=180:\n",
    "        return 1\n",
    "    elif y > 180:\n",
    "        return 2\n",
    "    else:\n",
    "        return np.nan\n",
    "\n",
    "\n",
    "def add_discrete_y(pid2data):\n",
    "    for pid in pid2data:\n",
    "        data = pid2data[pid]\n",
    "        data['discrete_y'] = data['glucose_level']\n",
    "\n",
    "        data['discrete_y'] = data['discrete_y'].apply(discrete)\n",
    "        \n",
    "    return pid2data"
   ]
  },
  {
   "cell_type": "code",
   "execution_count": 8,
   "metadata": {},
   "outputs": [],
   "source": [
    "pid2regular_df = add_discrete_y(pid2regular_df)"
   ]
  },
  {
   "cell_type": "code",
   "execution_count": 9,
   "metadata": {},
   "outputs": [
    {
     "data": {
      "text/plain": [
       "Index(['glucose_level', 'basal', 'meal', 'bolus', 'correction_bolus',\n",
       "       'finger_stick', 'EDA', 'SCL', 'SCR', 'HR', 'TEMP', 'ACC', 'RMSSD',\n",
       "       'SDNN', 'medianNNI', 'CVNNI', 'CVSD', 'pNNX', 'meanHR', 'minHR',\n",
       "       'maxHR', 'VLF', 'LF', 'HF', 'LHR', 'day_of_week', 'hour', 'minute',\n",
       "       'timestamp', 'sin_time', 'cos_time', 'discrete_y'],\n",
       "      dtype='object')"
      ]
     },
     "execution_count": 9,
     "metadata": {},
     "output_type": "execute_result"
    }
   ],
   "source": [
    "pid2regular_df[1001].columns"
   ]
  },
  {
   "cell_type": "code",
   "execution_count": 10,
   "metadata": {},
   "outputs": [],
   "source": [
    "def add_indicate_for_nan(pid2data, ignore_indicate_set):\n",
    "    for pid in pid2data:\n",
    "        data = pid2data[pid]\n",
    "        for attri in data:\n",
    "            if attri in ignore_indicate_set:\n",
    "                continue\n",
    "            data[attri + '_indicate'] = 1\n",
    "            data.loc[pd.notna(data[attri]), attri + '_indicate'] = 0\n",
    "            if sum(data[attri + '_indicate']) != len(data[attri]) - sum(pd.notna(data[attri])):\n",
    "                print('error')\n",
    "    return pid2data"
   ]
  },
  {
   "cell_type": "code",
   "execution_count": 11,
   "metadata": {},
   "outputs": [],
   "source": [
    "ignore_indicate_set = ['day_of_week', 'hour', 'minute',\n",
    "       'timestamp', 'sin_time', 'cos_time',]\n",
    "pid2regular_df = add_indicate_for_nan(pid2regular_df, ignore_indicate_set)"
   ]
  },
  {
   "cell_type": "code",
   "execution_count": 12,
   "metadata": {},
   "outputs": [
    {
     "name": "stdout",
     "output_type": "stream",
     "text": [
      "1001 15142 9636 3122 3073\n",
      "1002 12882 7871 2635 2709\n",
      "1003 14223 8952 2903 3041\n",
      "1004 11165 6782 2354 2381\n",
      "1005 13888 8437 2807 2820\n",
      "1006 13062 8105 2692 2667\n",
      "1007 11905 8202 2421 2443\n",
      "1008 14200 8598 2870 2839\n",
      "1009 13671 8614 2790 2797\n",
      "1010 12736 7741 2587 2583\n",
      "1011 12690 7805 2612 2601\n",
      "1012 14334 9033 3650 3114\n"
     ]
    }
   ],
   "source": [
    "pid2train = {}\n",
    "pid2valid = {}\n",
    "pid2test = {}\n",
    "\n",
    "for pid in pid_list:\n",
    "    idxs = pid2regular_df[pid].index[pd.notna(pid2regular_df[pid]['glucose_level'])]\n",
    "\n",
    "    idxs = idxs.to_frame()\n",
    "\n",
    "    total_len = len(idxs)\n",
    "    train_end = int(total_len * 0.6)\n",
    "    valid_end = int(total_len * 0.8) \n",
    "\n",
    "    pid2train[pid] = pid2regular_df[pid].loc[:idxs.iloc[train_end][0]]\n",
    "\n",
    "    pid2valid[pid] = pid2regular_df[pid].loc[idxs.iloc[train_end + 1][0]:idxs.iloc[valid_end][0]]\n",
    "\n",
    "    pid2test[pid] = pid2regular_df[pid].loc[idxs.iloc[valid_end + 1][0]:]\n",
    "\n",
    "    print(pid, total_len, len(pid2train[pid]), len(pid2valid[pid]), len(pid2test[pid]))"
   ]
  },
  {
   "cell_type": "code",
   "execution_count": 13,
   "metadata": {},
   "outputs": [
    {
     "data": {
      "text/plain": [
       "SCL                -0.035496\n",
       "medianNNI          -0.034121\n",
       "SDNN               -0.025722\n",
       "basal              -0.025605\n",
       "VLF                -0.021262\n",
       "LF                 -0.016292\n",
       "LHR                -0.015930\n",
       "EDA                -0.012553\n",
       "timestamp          -0.011617\n",
       "RMSSD              -0.011113\n",
       "CVNNI              -0.010650\n",
       "ACC                -0.009611\n",
       "pNNX               -0.005775\n",
       "HF                 -0.002610\n",
       "CVSD               -0.000801\n",
       "SCR                 0.003909\n",
       "TEMP                0.006357\n",
       "HR                  0.007584\n",
       "maxHR               0.015800\n",
       "meanHR              0.033335\n",
       "minHR               0.033883\n",
       "meal                0.134624\n",
       "bolus               0.278311\n",
       "correction_bolus    0.484299\n",
       "finger_stick        0.934956\n",
       "glucose_level       1.000000\n",
       "Name: glucose_level, dtype: float64"
      ]
     },
     "execution_count": 13,
     "metadata": {},
     "output_type": "execute_result"
    }
   ],
   "source": [
    "# calculate pearson\n",
    "df = pd.concat(list(pid2train.values()))\n",
    "df[['glucose_level', 'basal', 'meal', 'bolus', 'correction_bolus',\n",
    "       'finger_stick', 'EDA', 'SCL', 'SCR', 'HR', 'TEMP', 'ACC', 'RMSSD', 'SDNN',\n",
    "       'medianNNI', 'CVNNI', 'CVSD', 'pNNX', 'meanHR', 'minHR', 'maxHR', 'VLF',\n",
    "       'LF', 'HF', 'LHR', 'timestamp']].corr(method ='pearson')['glucose_level'].sort_values()"
   ]
  },
  {
   "cell_type": "code",
   "execution_count": 14,
   "metadata": {},
   "outputs": [
    {
     "data": {
      "text/plain": [
       "Index(['glucose_level', 'basal', 'meal', 'bolus', 'correction_bolus',\n",
       "       'finger_stick', 'EDA', 'SCL', 'SCR', 'HR', 'TEMP', 'ACC', 'RMSSD',\n",
       "       'SDNN', 'medianNNI', 'CVNNI', 'CVSD', 'pNNX', 'meanHR', 'minHR',\n",
       "       'maxHR', 'VLF', 'LF', 'HF', 'LHR', 'day_of_week', 'hour', 'minute',\n",
       "       'timestamp', 'sin_time', 'cos_time', 'discrete_y',\n",
       "       'glucose_level_indicate', 'basal_indicate', 'meal_indicate',\n",
       "       'bolus_indicate', 'correction_bolus_indicate', 'finger_stick_indicate',\n",
       "       'EDA_indicate', 'SCL_indicate', 'SCR_indicate', 'HR_indicate',\n",
       "       'TEMP_indicate', 'ACC_indicate', 'RMSSD_indicate', 'SDNN_indicate',\n",
       "       'medianNNI_indicate', 'CVNNI_indicate', 'CVSD_indicate',\n",
       "       'pNNX_indicate', 'meanHR_indicate', 'minHR_indicate', 'maxHR_indicate',\n",
       "       'VLF_indicate', 'LF_indicate', 'HF_indicate', 'LHR_indicate',\n",
       "       'discrete_y_indicate'],\n",
       "      dtype='object')"
      ]
     },
     "execution_count": 14,
     "metadata": {},
     "output_type": "execute_result"
    }
   ],
   "source": [
    "pid2train[pid].columns"
   ]
  },
  {
   "cell_type": "code",
   "execution_count": 15,
   "metadata": {},
   "outputs": [],
   "source": [
    "pid_attri2mean_std = {}\n",
    "attris_should_norm = ['glucose_level', 'basal', 'meal', 'bolus', 'correction_bolus',\n",
    "       'finger_stick', 'EDA', 'SCL', 'SCR', 'HR', 'TEMP', 'ACC', 'RMSSD', 'SDNN',\n",
    "       'medianNNI', 'CVNNI', 'CVSD', 'pNNX', 'meanHR', 'minHR', 'maxHR', 'VLF',\n",
    "       'LF', 'HF', 'LHR', 'timestamp']\n",
    "for pid in pid_list:\n",
    "    for attri in attris_should_norm:\n",
    "        mean = pid2train[pid][attri].mean()\n",
    "        std = pid2train[pid][attri].std()\n",
    "        if std is np.NaN or std is pd.NaT or std == 0:\n",
    "            std = 1e-6\n",
    "        pid_attri2mean_std[(pid, attri)] = (mean, std)\n",
    "\n",
    "if not os.path.exists(os.path.join(data_path, process_file)):\n",
    "    os.makedirs(os.path.join(data_path, process_file))\n",
    "np.save(os.path.join(data_path, process_file, 'pid_attri2mean_std.npy'), pid_attri2mean_std)"
   ]
  },
  {
   "cell_type": "code",
   "execution_count": 16,
   "metadata": {},
   "outputs": [],
   "source": [
    "def norm_data(pid2data, pid_attri2mean_std, attris_should_norm):\n",
    "\n",
    "    new_pid2data = {}\n",
    "    for pid in pid2data:\n",
    "\n",
    "        new_pid2data[pid] = copy.deepcopy(pid2data[pid]) \n",
    "\n",
    "        for attri in attris_should_norm:\n",
    "\n",
    "            mean, std = pid_attri2mean_std[(pid, attri)]\n",
    "\n",
    "            if std <= 1e-6:\n",
    "                new_pid2data[pid][attri] = new_pid2data[pid][attri] / mean\n",
    "            else:\n",
    "                new_pid2data[pid][attri] = (new_pid2data[pid][attri] - mean) / std          \n",
    "\n",
    "    return new_pid2data"
   ]
  },
  {
   "cell_type": "code",
   "execution_count": 17,
   "metadata": {},
   "outputs": [],
   "source": [
    "pid2train_norm = norm_data(pid2train, pid_attri2mean_std, attris_should_norm)\n",
    "pid2valid_norm = norm_data(pid2valid, pid_attri2mean_std, attris_should_norm)\n",
    "pid2test_norm = norm_data(pid2test, pid_attri2mean_std, attris_should_norm)"
   ]
  },
  {
   "cell_type": "code",
   "execution_count": 18,
   "metadata": {},
   "outputs": [
    {
     "name": "stdout",
     "output_type": "stream",
     "text": [
      "                           idx\n",
      "attri                         \n",
      "basal                        0\n",
      "meal                         1\n",
      "bolus                        2\n",
      "correction_bolus             3\n",
      "finger_stick                 4\n",
      "EDA                          5\n",
      "SCL                          6\n",
      "SCR                          7\n",
      "HR                           8\n",
      "TEMP                         9\n",
      "ACC                         10\n",
      "RMSSD                       11\n",
      "SDNN                        12\n",
      "medianNNI                   13\n",
      "CVNNI                       14\n",
      "CVSD                        15\n",
      "pNNX                        16\n",
      "meanHR                      17\n",
      "minHR                       18\n",
      "maxHR                       19\n",
      "VLF                         20\n",
      "LF                          21\n",
      "HF                          22\n",
      "LHR                         23\n",
      "day_of_week                 24\n",
      "hour                        25\n",
      "minute                      26\n",
      "timestamp                   27\n",
      "sin_time                    28\n",
      "cos_time                    29\n",
      "glucose_level_indicate      30\n",
      "basal_indicate              31\n",
      "meal_indicate               32\n",
      "bolus_indicate              33\n",
      "correction_bolus_indicate   34\n",
      "finger_stick_indicate       35\n",
      "EDA_indicate                36\n",
      "SCL_indicate                37\n",
      "SCR_indicate                38\n",
      "HR_indicate                 39\n",
      "TEMP_indicate               40\n",
      "ACC_indicate                41\n",
      "RMSSD_indicate              42\n",
      "SDNN_indicate               43\n",
      "medianNNI_indicate          44\n",
      "CVNNI_indicate              45\n",
      "CVSD_indicate               46\n",
      "pNNX_indicate               47\n",
      "meanHR_indicate             48\n",
      "minHR_indicate              49\n",
      "maxHR_indicate              50\n",
      "VLF_indicate                51\n",
      "LF_indicate                 52\n",
      "HF_indicate                 53\n",
      "LHR_indicate                54\n",
      "                         attri\n",
      "idx                           \n",
      "0                        basal\n",
      "1                         meal\n",
      "2                        bolus\n",
      "3             correction_bolus\n",
      "4                 finger_stick\n",
      "5                          EDA\n",
      "6                          SCL\n",
      "7                          SCR\n",
      "8                           HR\n",
      "9                         TEMP\n",
      "10                         ACC\n",
      "11                       RMSSD\n",
      "12                        SDNN\n",
      "13                   medianNNI\n",
      "14                       CVNNI\n",
      "15                        CVSD\n",
      "16                        pNNX\n",
      "17                      meanHR\n",
      "18                       minHR\n",
      "19                       maxHR\n",
      "20                         VLF\n",
      "21                          LF\n",
      "22                          HF\n",
      "23                         LHR\n",
      "24                 day_of_week\n",
      "25                        hour\n",
      "26                      minute\n",
      "27                   timestamp\n",
      "28                    sin_time\n",
      "29                    cos_time\n",
      "30      glucose_level_indicate\n",
      "31              basal_indicate\n",
      "32               meal_indicate\n",
      "33              bolus_indicate\n",
      "34   correction_bolus_indicate\n",
      "35       finger_stick_indicate\n",
      "36                EDA_indicate\n",
      "37                SCL_indicate\n",
      "38                SCR_indicate\n",
      "39                 HR_indicate\n",
      "40               TEMP_indicate\n",
      "41                ACC_indicate\n",
      "42              RMSSD_indicate\n",
      "43               SDNN_indicate\n",
      "44          medianNNI_indicate\n",
      "45              CVNNI_indicate\n",
      "46               CVSD_indicate\n",
      "47               pNNX_indicate\n",
      "48             meanHR_indicate\n",
      "49              minHR_indicate\n",
      "50              maxHR_indicate\n",
      "51                VLF_indicate\n",
      "52                 LF_indicate\n",
      "53                 HF_indicate\n",
      "54                LHR_indicate\n"
     ]
    }
   ],
   "source": [
    "attri_list_wo_glucose = [\n",
    "    'basal', 'meal', 'bolus', 'correction_bolus',\n",
    "    'finger_stick', 'EDA', 'SCL', 'SCR', 'HR', 'TEMP', 'ACC', 'RMSSD', 'SDNN',\n",
    "    'medianNNI', 'CVNNI', 'CVSD', 'pNNX', 'meanHR', 'minHR', 'maxHR', 'VLF',\n",
    "    'LF', 'HF', 'LHR', 'day_of_week', 'hour', 'minute', 'timestamp',\n",
    "    'sin_time', 'cos_time', 'glucose_level_indicate',\n",
    "    'basal_indicate', 'meal_indicate', 'bolus_indicate',\n",
    "    'correction_bolus_indicate', 'finger_stick_indicate', 'EDA_indicate',\n",
    "    'SCL_indicate', 'SCR_indicate', 'HR_indicate', 'TEMP_indicate',\n",
    "    'ACC_indicate', 'RMSSD_indicate', 'SDNN_indicate', 'medianNNI_indicate',\n",
    "    'CVNNI_indicate', 'CVSD_indicate', 'pNNX_indicate', 'meanHR_indicate',\n",
    "    'minHR_indicate', 'maxHR_indicate', 'VLF_indicate', 'LF_indicate',\n",
    "    'HF_indicate', 'LHR_indicate' \n",
    "]\n",
    "\n",
    "temp = []\n",
    "\n",
    "for idx, attri in enumerate(attri_list_wo_glucose):\n",
    "    temp.append({'attri':attri, 'idx':idx}, )\n",
    "attri2idx = pd.DataFrame(temp).set_index('attri')\n",
    "idx2attri = pd.DataFrame(temp).set_index('idx')\n",
    "print(attri2idx)\n",
    "print(idx2attri)\n",
    "\n",
    "save_path = os.path.join(data_path, process_file)\n",
    "\n",
    "attri2idx.to_pickle(os.path.join(save_path,'attri2idx.pkl'))\n",
    "idx2attri.to_pickle(os.path.join(save_path,'idx2attri.pkl'))\n"
   ]
  },
  {
   "cell_type": "code",
   "execution_count": 19,
   "metadata": {},
   "outputs": [],
   "source": [
    "for pid in pid_list:\n",
    "    pid2train_norm[pid] = pid2train_norm[pid].fillna(0.0)\n",
    "    pid2valid_norm[pid] = pid2valid_norm[pid].fillna(0.0)\n",
    "    pid2test_norm[pid] = pid2test_norm[pid].fillna(0.0)"
   ]
  },
  {
   "cell_type": "code",
   "execution_count": 20,
   "metadata": {},
   "outputs": [],
   "source": [
    "# generate training data\n",
    "\n",
    "\n",
    "def gen_final(pid2data, attri2idx,  n_prev, pred_window, name, valid_points = 24): \n",
    "    pid2data_npy = {}\n",
    "    for pid in pid_list:\n",
    "        data = pid2data[pid]\n",
    "        \n",
    "        y_list = []\n",
    "        y_dis_list = []\n",
    "        target_cos_time_list = []\n",
    "        target_sin_time_list = []\n",
    "        target_total_seconds_list = []\n",
    "        attri_X_list = []\n",
    "        attri_X_tar_list = []\n",
    "        y_tar_list = []\n",
    "\n",
    "        glucose_level_X_list = []\n",
    "        \n",
    "        seq_st_ed_list = []\n",
    "        \n",
    "        seq_st, seq_ed = None, None\n",
    "\n",
    "\n",
    "        for idx in range(len(data) - n_prev - pred_window + 1):\n",
    "            glucose_level_y = data.iloc[idx + n_prev + pred_window - 1]['glucose_level']\n",
    "            glucose_level_y_indicate = data.iloc[idx + n_prev + pred_window - 1]['glucose_level_indicate']\n",
    "            if abs(glucose_level_y_indicate - 1) < 1e-6:\n",
    "                continue\n",
    "\n",
    "            # Resonable\n",
    "            num_valids = int(valid_points - sum(data.iloc[idx + n_prev - valid_points : idx + n_prev]['glucose_level_indicate']))\n",
    "            if num_valids == 0:\n",
    "                if seq_st is not None and seq_ed - seq_st >= 2:\n",
    "                    seq_st_ed_list.append([seq_st, seq_ed])\n",
    "                seq_st, seq_ed = None, None\n",
    "                continue\n",
    "            # end\n",
    "\n",
    "            \n",
    "            y_list.append(glucose_level_y)\n",
    "            y_dis_list.append(data.iloc[idx + n_prev + pred_window - 1]['discrete_y'])\n",
    "            target_cos_time_list.append(data.iloc[idx + n_prev + pred_window - 1]['cos_time'])\n",
    "            target_sin_time_list.append(data.iloc[idx + n_prev + pred_window - 1]['sin_time'])\n",
    "            target_total_seconds_list.append(data.iloc[idx + n_prev + pred_window - 1]['timestamp'])\n",
    "            glucose_level_X = np.array(data.iloc[idx: idx + n_prev]['glucose_level'].to_numpy(), dtype=np.float32)\n",
    "\n",
    "\n",
    "            attri_X = np.array(data.iloc[idx: idx + n_prev][list(attri2idx.index)].to_numpy(), dtype=np.float32)          \n",
    "\n",
    "            glucose_level_X_list.append(np.expand_dims(glucose_level_X, axis=0))\n",
    "\n",
    "            attri_X_list.append(np.expand_dims(attri_X, axis=0))\n",
    "            \n",
    "            \n",
    "            # new\n",
    "            attri_X_tar = np.array(data.iloc[idx + n_prev: idx + n_prev + pred_window][list(attri2idx.index)].to_numpy(), dtype=np.float32)          \n",
    "            attri_X_tar_list.append(np.expand_dims(attri_X_tar, axis=0))\n",
    "            y_tar = data.iloc[idx + n_prev: idx + n_prev + pred_window]['glucose_level']\n",
    "            y_tar_list.append(np.expand_dims(y_tar, axis=0)) \n",
    "\n",
    "\n",
    "            if seq_st is None:\n",
    "                seq_st = len(y_list) - 1\n",
    "            else:\n",
    "                seq_ed = len(y_list) - 1\n",
    "\n",
    "        if seq_st is not None and seq_ed - seq_st >= 2:\n",
    "            seq_st_ed_list.append([seq_st, seq_ed])\n",
    "\n",
    "        pid2data_npy[pid] = {}\n",
    "        pid2data_npy[pid]['glucose_level_X'] = np.concatenate(glucose_level_X_list, axis=0)\n",
    "\n",
    "        pid2data_npy[pid]['attri_X'] = np.concatenate(attri_X_list, axis=0)\n",
    "        pid2data_npy[pid]['y'] = np.array(y_list, dtype=np.float32)\n",
    "        pid2data_npy[pid]['y_dis'] = np.array(y_dis_list, dtype=np.int32)\n",
    "        pid2data_npy[pid]['target_cos_time'] = np.array(target_cos_time_list, dtype=np.float32)\n",
    "        pid2data_npy[pid]['target_sin_time'] = np.array(target_sin_time_list, dtype=np.float32)\n",
    "        pid2data_npy[pid]['target_timestamp'] = np.array(target_total_seconds_list, dtype=np.float32)\n",
    "        pid2data_npy[pid]['mean'] = pid_attri2mean_std[(pid, 'glucose_level')][0]\n",
    "        pid2data_npy[pid]['std'] = pid_attri2mean_std[(pid, 'glucose_level')][1]\n",
    "\n",
    "        pid2data_npy[pid]['seq_st_ed_list'] = np.array(seq_st_ed_list, dtype=np.int32)\n",
    "        \n",
    "        pid2data_npy[pid]['attri_X_tar'] = np.concatenate(attri_X_tar_list, axis=0) \n",
    "        pid2data_npy[pid]['y_tar'] = np.concatenate(y_tar_list, axis=0)\n",
    "\n",
    "        print(pid, pid2data_npy[pid]['glucose_level_X'].shape, pid2data_npy[pid]['attri_X'].shape)\n",
    "        print('    ',len(y_list), seq_st_ed_list)\n",
    "    save_path = os.path.join(data_path, process_file)\n",
    "    np.save(os.path.join(save_path, f'{name}_{n_prev}_{pred_window}.npy'), pid2data_npy)\n",
    "\n",
    "\n"
   ]
  },
  {
   "cell_type": "code",
   "execution_count": 21,
   "metadata": {},
   "outputs": [
    {
     "name": "stdout",
     "output_type": "stream",
     "text": [
      "1001 (9006, 48) (9006, 48, 55)\n",
      "     9006 [[0, 926], [927, 2665], [2666, 4786], [4787, 5197], [5198, 5469], [5470, 7772], [7773, 9005]]\n",
      "1002 (7679, 48) (7679, 48, 55)\n",
      "     7679 [[0, 1644], [1645, 3969], [3970, 6820], [6821, 7678]]\n",
      "1003 (8445, 48) (8445, 48, 55)\n",
      "     8445 [[0, 543], [544, 2590], [2591, 2743], [2744, 3403], [3404, 5252], [5253, 5455], [5456, 7654], [7655, 8214], [8215, 8444]]\n",
      "1004 (6639, 48) (6639, 48, 55)\n",
      "     6639 [[0, 2805], [2806, 5640], [5641, 6638]]\n",
      "1005 (8270, 48) (8270, 48, 55)\n",
      "     8270 [[0, 2511], [2512, 5216], [5217, 7865], [7866, 8269]]\n",
      "1006 (7769, 48) (7769, 48, 55)\n",
      "     7769 [[0, 1143], [1144, 2589], [2590, 3333], [3334, 5270], [5271, 7768]]\n",
      "1007 (7032, 48) (7032, 48, 55)\n",
      "     7032 [[0, 54], [55, 1660], [1661, 2541], [2542, 2757], [2758, 3243], [3244, 3742], [3743, 4144], [4145, 4423], [4424, 5179], [5180, 6739], [6740, 7031]]\n",
      "1008 (8460, 48) (8460, 48, 55)\n",
      "     8460 [[0, 2804], [2805, 5600], [5601, 8438], [8439, 8459]]\n",
      "1009 (8135, 48) (8135, 48, 55)\n",
      "     8135 [[0, 2766], [2767, 5277], [5278, 8122], [8123, 8134]]\n",
      "1010 (7582, 48) (7582, 48, 55)\n",
      "     7582 [[0, 2742], [2743, 5595], [5596, 7581]]\n",
      "1011 (7550, 48) (7550, 48, 55)\n",
      "     7550 [[0, 2792], [2793, 5630], [5631, 7549]]\n",
      "1012 (8518, 48) (8518, 48, 55)\n",
      "     8518 [[0, 2801], [2802, 2806], [2807, 4741], [4742, 5504], [5505, 8354], [8355, 8517]]\n"
     ]
    }
   ],
   "source": [
    "gen_final(pid2train_norm, attri2idx,  n_prev=48, pred_window=6, name='train_pid2data_npy', valid_points = 24)"
   ]
  },
  {
   "cell_type": "code",
   "execution_count": 22,
   "metadata": {},
   "outputs": [
    {
     "name": "stdout",
     "output_type": "stream",
     "text": [
      "1001 (8981, 48) (8981, 48, 55)\n",
      "     8981 [[0, 920], [921, 2659], [2660, 4774], [4775, 5184], [5185, 5456], [5457, 7753], [7754, 8980]]\n",
      "1002 (7669, 48) (7669, 48, 55)\n",
      "     7669 [[0, 1644], [1645, 3963], [3964, 6816], [6817, 7668]]\n",
      "1003 (8417, 48) (8417, 48, 55)\n",
      "     8417 [[0, 541], [542, 2588], [2589, 2741], [2742, 3395], [3396, 5238], [5239, 5435], [5436, 7638], [7639, 8192], [8193, 8416]]\n",
      "1004 (6627, 48) (6627, 48, 55)\n",
      "     6627 [[0, 2805], [2806, 5634], [5635, 6626]]\n",
      "1005 (8264, 48) (8264, 48, 55)\n",
      "     8264 [[0, 2511], [2512, 5216], [5217, 7865], [7866, 8263]]\n",
      "1006 (7751, 48) (7751, 48, 55)\n",
      "     7751 [[0, 1137], [1138, 2583], [2584, 3321], [3322, 5258], [5259, 7750]]\n",
      "1007 (6972, 48) (6972, 48, 55)\n",
      "     6972 [[0, 48], [49, 1648], [1649, 2523], [2524, 2733], [2734, 3213], [3214, 3706], [3707, 4102], [4103, 4375], [4376, 5125], [5126, 6685], [6686, 6971]]\n",
      "1008 (8454, 48) (8454, 48, 55)\n",
      "     8454 [[0, 2804], [2805, 5600], [5601, 8438], [8439, 8453]]\n",
      "1009 (8117, 48) (8117, 48, 55)\n",
      "     8117 [[0, 2760], [2761, 5271], [5272, 8110], [8111, 8116]]\n",
      "1010 (7570, 48) (7570, 48, 55)\n",
      "     7570 [[0, 2736], [2737, 5589], [5590, 7569]]\n",
      "1011 (7532, 48) (7532, 48, 55)\n",
      "     7532 [[0, 2786], [2787, 5618], [5619, 7531]]\n",
      "1012 (8483, 48) (8483, 48, 55)\n",
      "     8483 [[0, 2795], [2796, 4724], [4725, 5481], [5482, 8325], [8326, 8482]]\n"
     ]
    }
   ],
   "source": [
    "gen_final(pid2train_norm, attri2idx,  n_prev=48, pred_window=12, name='train_pid2data_npy', valid_points = 24)"
   ]
  },
  {
   "cell_type": "code",
   "execution_count": 23,
   "metadata": {},
   "outputs": [
    {
     "name": "stdout",
     "output_type": "stream",
     "text": [
      "1001 (2988, 48) (2988, 48, 55)\n",
      "     2988 [[0, 1492], [1493, 1960], [1961, 2987]]\n",
      "1002 (2517, 48) (2517, 48, 55)\n",
      "     2517 [[0, 1835], [1836, 2516]]\n",
      "1003 (2786, 48) (2786, 48, 55)\n",
      "     2786 [[0, 1459], [1460, 2785]]\n",
      "1004 (2169, 48) (2169, 48, 55)\n",
      "     2169 [[0, 1325], [1326, 1700], [1701, 2168]]\n",
      "1005 (2724, 48) (2724, 48, 55)\n",
      "     2724 [[0, 2270], [2271, 2723]]\n",
      "1006 (2558, 48) (2558, 48, 55)\n",
      "     2558 [[0, 242], [243, 2557]]\n",
      "1007 (2328, 48) (2328, 48, 55)\n",
      "     2328 [[0, 2327]]\n",
      "1008 (2786, 48) (2786, 48, 55)\n",
      "     2786 [[0, 2775], [2776, 2785]]\n",
      "1009 (2681, 48) (2681, 48, 55)\n",
      "     2681 [[0, 2680]]\n",
      "1010 (2492, 48) (2492, 48, 55)\n",
      "     2492 [[0, 814], [815, 2491]]\n",
      "1011 (2480, 48) (2480, 48, 55)\n",
      "     2480 [[0, 851], [852, 2479]]\n",
      "1012 (2808, 48) (2808, 48, 55)\n",
      "     2808 [[0, 2610], [2611, 2807]]\n"
     ]
    }
   ],
   "source": [
    "gen_final(pid2valid_norm, attri2idx,  n_prev=48, pred_window=6, name='valid_pid2data_npy', valid_points = 24)"
   ]
  },
  {
   "cell_type": "code",
   "execution_count": 24,
   "metadata": {},
   "outputs": [
    {
     "name": "stdout",
     "output_type": "stream",
     "text": [
      "1001 (2976, 48) (2976, 48, 55)\n",
      "     2976 [[0, 1492], [1493, 1954], [1955, 2975]]\n",
      "1002 (2505, 48) (2505, 48, 55)\n",
      "     2505 [[0, 1829], [1830, 2504]]\n",
      "1003 (2774, 48) (2774, 48, 55)\n",
      "     2774 [[0, 1453], [1454, 2773]]\n",
      "1004 (2157, 48) (2157, 48, 55)\n",
      "     2157 [[0, 1319], [1320, 1694], [1695, 2156]]\n",
      "1005 (2718, 48) (2718, 48, 55)\n",
      "     2718 [[0, 2270], [2271, 2717]]\n",
      "1006 (2553, 48) (2553, 48, 55)\n",
      "     2553 [[0, 2552]]\n",
      "1007 (2322, 48) (2322, 48, 55)\n",
      "     2322 [[0, 2321]]\n",
      "1008 (2780, 48) (2780, 48, 55)\n",
      "     2780 [[0, 2775], [2776, 2779]]\n",
      "1009 (2675, 48) (2675, 48, 55)\n",
      "     2675 [[0, 2674]]\n",
      "1010 (2488, 48) (2488, 48, 55)\n",
      "     2488 [[0, 2487]]\n",
      "1011 (2469, 48) (2469, 48, 55)\n",
      "     2469 [[0, 846], [847, 2468]]\n",
      "1012 (2796, 48) (2796, 48, 55)\n",
      "     2796 [[0, 2604], [2605, 2795]]\n"
     ]
    }
   ],
   "source": [
    "gen_final(pid2valid_norm, attri2idx,  n_prev=48, pred_window=12, name='valid_pid2data_npy', valid_points = 24)"
   ]
  },
  {
   "cell_type": "code",
   "execution_count": 25,
   "metadata": {},
   "outputs": [
    {
     "name": "stdout",
     "output_type": "stream",
     "text": [
      "1001 (2974, 48) (2974, 48, 55)\n",
      "     2974 [[0, 1130], [1131, 2973]]\n",
      "1002 (2517, 48) (2517, 48, 55)\n",
      "     2517 [[0, 385], [386, 2516]]\n",
      "1003 (2778, 48) (2778, 48, 55)\n",
      "     2778 [[0, 403], [404, 1428], [1429, 1936], [1937, 2777]]\n",
      "1004 (2167, 48) (2167, 48, 55)\n",
      "     2167 [[0, 1860], [1861, 2059], [2060, 2166]]\n",
      "1005 (2722, 48) (2722, 48, 55)\n",
      "     2722 [[0, 2317], [2318, 2721]]\n",
      "1006 (2553, 48) (2553, 48, 55)\n",
      "     2553 [[0, 432], [433, 2552]]\n",
      "1007 (2326, 48) (2326, 48, 55)\n",
      "     2326 [[0, 63], [64, 2325]]\n",
      "1008 (2786, 48) (2786, 48, 55)\n",
      "     2786 [[0, 2785]]\n",
      "1009 (2680, 48) (2680, 48, 55)\n",
      "     2680 [[0, 2679]]\n",
      "1010 (2493, 48) (2493, 48, 55)\n",
      "     2493 [[0, 877], [878, 2492]]\n",
      "1011 (2478, 48) (2478, 48, 55)\n",
      "     2478 [[0, 1164], [1165, 2477]]\n",
      "1012 (2801, 48) (2801, 48, 55)\n",
      "     2801 [[0, 2372], [2373, 2549], [2550, 2800]]\n"
     ]
    }
   ],
   "source": [
    "gen_final(pid2test_norm, attri2idx,  n_prev=48, pred_window=6, name='test_pid2data_npy', valid_points = 24)"
   ]
  },
  {
   "cell_type": "code",
   "execution_count": 26,
   "metadata": {},
   "outputs": [
    {
     "name": "stdout",
     "output_type": "stream",
     "text": [
      "1001 (2968, 48) (2968, 48, 55)\n",
      "     2968 [[0, 1130], [1131, 2967]]\n",
      "1002 (2505, 48) (2505, 48, 55)\n",
      "     2505 [[0, 379], [380, 2504]]\n",
      "1003 (2760, 48) (2760, 48, 55)\n",
      "     2760 [[0, 403], [404, 1422], [1423, 1924], [1925, 2759]]\n",
      "1004 (2149, 48) (2149, 48, 55)\n",
      "     2149 [[0, 1854], [1855, 2047], [2048, 2148]]\n",
      "1005 (2716, 48) (2716, 48, 55)\n",
      "     2716 [[0, 2317], [2318, 2715]]\n",
      "1006 (2541, 48) (2541, 48, 55)\n",
      "     2541 [[0, 426], [427, 2540]]\n",
      "1007 (2320, 48) (2320, 48, 55)\n",
      "     2320 [[0, 63], [64, 2319]]\n",
      "1008 (2780, 48) (2780, 48, 55)\n",
      "     2780 [[0, 2779]]\n",
      "1009 (2674, 48) (2674, 48, 55)\n",
      "     2674 [[0, 2673]]\n",
      "1010 (2487, 48) (2487, 48, 55)\n",
      "     2487 [[0, 877], [878, 2486]]\n",
      "1011 (2468, 48) (2468, 48, 55)\n",
      "     2468 [[0, 1160], [1161, 2467]]\n",
      "1012 (2783, 48) (2783, 48, 55)\n",
      "     2783 [[0, 2366], [2367, 2537], [2538, 2782]]\n"
     ]
    }
   ],
   "source": [
    "gen_final(pid2test_norm, attri2idx,  n_prev=48, pred_window=12, name='test_pid2data_npy', valid_points = 24)"
   ]
  }
 ],
 "metadata": {
  "kernelspec": {
   "display_name": "Python 3.9.12 ('base')",
   "language": "python",
   "name": "python3"
  },
  "language_info": {
   "codemirror_mode": {
    "name": "ipython",
    "version": 3
   },
   "file_extension": ".py",
   "mimetype": "text/x-python",
   "name": "python",
   "nbconvert_exporter": "python",
   "pygments_lexer": "ipython3",
   "version": "3.9.18"
  },
  "orig_nbformat": 4,
  "vscode": {
   "interpreter": {
    "hash": "52634da84371cba311ea128a5ea7cdc41ff074b781779e754b270ff9f8153cee"
   }
  }
 },
 "nbformat": 4,
 "nbformat_minor": 2
}
