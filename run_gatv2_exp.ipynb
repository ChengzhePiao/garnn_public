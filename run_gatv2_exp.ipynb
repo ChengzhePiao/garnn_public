{
 "cells": [
  {
   "cell_type": "code",
   "execution_count": 5,
   "metadata": {},
   "outputs": [
    {
     "name": "stderr",
     "output_type": "stream",
     "text": [
      "global_loop: 100%|██████████| 30/30 [53:12<00:00, 106.42s/it] \n"
     ]
    },
    {
     "name": "stdout",
     "output_type": "stream",
     "text": [
      " \n",
      " Results after 30 global rounds of training:\n",
      "rmse, 19.49759, 2.65559\n",
      "mape, 9.58821, 1.82588\n",
      "mae, 13.94945, 1.81730\n",
      "grmse, 24.55118, 3.38808\n",
      "time_lag, -6.77778, 4.87261\n",
      "[18.77094126792752, 18.360869287593488, 16.45497971502472, 22.995656805875186, 16.887726682416435, 20.950540336250505, 23.033152694472268, 17.22723124410567, 17.34666536589688, 21.467783366157065, 23.782516546020076, 16.692981748280847]\n"
     ]
    },
    {
     "name": "stderr",
     "output_type": "stream",
     "text": [
      "tune_loop: 100%|██████████| 30/30 [1:25:08<00:00, 170.30s/it]\n"
     ]
    },
    {
     "name": "stdout",
     "output_type": "stream",
     "text": [
      " \n",
      " Results after 30 of fine tuning:\n",
      "rmse, 18.98378, 2.46994\n",
      "mape, 9.04710, 1.79986\n",
      "mae, 13.32221, 1.70536\n",
      "grmse, 23.69964, 3.26271\n",
      "time_lag, -6.31944, 4.84503\n",
      "[18.336918613238037, 18.112109842567175, 15.737455185878657, 22.64725171525027, 17.085306987108837, 20.590717098130273, 21.88307607615272, 16.181749891189632, 17.1843693881833, 21.0022138609373, 22.49986640042801, 16.544340723067133]\n",
      "models have been saved...\n",
      "end\n"
     ]
    },
    {
     "data": {
      "text/plain": [
       "<Figure size 2160x720 with 0 Axes>"
      ]
     },
     "metadata": {},
     "output_type": "display_data"
    },
    {
     "data": {
      "text/plain": [
       "<Figure size 2160x720 with 0 Axes>"
      ]
     },
     "metadata": {},
     "output_type": "display_data"
    },
    {
     "data": {
      "text/plain": [
       "<Figure size 1440x720 with 0 Axes>"
      ]
     },
     "metadata": {},
     "output_type": "display_data"
    },
    {
     "data": {
      "text/plain": [
       "<Figure size 1440x1080 with 0 Axes>"
      ]
     },
     "metadata": {},
     "output_type": "display_data"
    },
    {
     "data": {
      "text/plain": [
       "<Figure size 1440x1080 with 0 Axes>"
      ]
     },
     "metadata": {},
     "output_type": "display_data"
    },
    {
     "data": {
      "text/plain": [
       "<Figure size 1440x1080 with 0 Axes>"
      ]
     },
     "metadata": {},
     "output_type": "display_data"
    },
    {
     "data": {
      "text/plain": [
       "<Figure size 1440x1080 with 0 Axes>"
      ]
     },
     "metadata": {},
     "output_type": "display_data"
    }
   ],
   "source": [
    "from gat_mem_org_log.train import *\n",
    "seed = 1\n",
    "random.seed(seed)\n",
    "np.random.seed(seed)\n",
    "torch.manual_seed(seed)\n",
    "torch.cuda.manual_seed(seed)\n",
    "torch.backends.cudnn.deterministic = True\n",
    "torch.backends.cudnn.benchmark = False\n",
    "os.environ['PYTHONHASHSEED'] = str(seed)\n",
    "\n",
    "dataset = 'ohio'\n",
    "version = 'nips_23'\n",
    "CONF = {\n",
    "    'data_path':f'../../code_data/{dataset}/{version}/',\n",
    "    'log_path': f'../../code_log/{version}/{dataset}',\n",
    "    'dataset': dataset,\n",
    "    'n_prev' : 48,\n",
    "    'pred_window' : 6,\n",
    "    'seq_len': 48,\n",
    "    'mix_test_and_valid_2018': False,\n",
    "\n",
    "    'attri_list': [ 'meal', 'bolus', 'basal', 'finger_stick',\n",
    "    'basis_skin_temperature', 'basis_gsr', 'basis_sleep', 'acceleration',\n",
    "    'exercise', 'sleep', 'work', 'basis_steps', 'basis_heart_rate', 'basis_air_temperature'],\n",
    "    \n",
    "    'time_attri_list' : ['timestamp'],     \n",
    "    'model_name':'gatv2_exp', \n",
    "\n",
    "    'hidden_dim': 512,\n",
    "\n",
    "    'lr': 1e-3,  # 1e-4\n",
    "    'tuning_lr':1e-5,\n",
    "    'epochs': 30,\n",
    "    'local_epochs': 500,\n",
    "    'tuning_epochs': 30, \n",
    "    'tuning_local_epochs': 80,\n",
    "\n",
    "    # 'epochs': 2,\n",
    "    # 'local_epochs': 2,\n",
    "    # 'tuning_epochs': 2, \n",
    "    # 'tuning_local_epochs': 2,\n",
    "\n",
    "    'weight_decay': 1e-4,\n",
    "    'batch_size': 128,\n",
    "    'nhead': 1,\n",
    "    'num_layers':2,\n",
    "    'device': 'cuda',\n",
    "\n",
    "\n",
    "    'print_every':2,\n",
    "    'comments': 'pred_6_all_features',\n",
    "    'save_model': True,\n",
    "    'all_edges': True,\n",
    "\n",
    "    \n",
    "    'interval': 5,\n",
    "    'log_epoch_vari_imp': True,\n",
    "}\n",
    "pid2model = train(CONF)\n",
    "print('end')\n",
    "\n",
    "\n",
    "\n",
    " \n",
    "#  Results after 30 global rounds of training:\n",
    "# rmse, 19.49759, 2.65559\n",
    "# mape, 9.58821, 1.82588\n",
    "# mae, 13.94945, 1.81730\n",
    "# grmse, 24.55118, 3.38808\n",
    "# time_lag, -6.77778, 4.87261\n",
    "# [18.77094126792752, 18.360869287593488, 16.45497971502472, 22.995656805875186, 16.887726682416435, 20.950540336250505, 23.033152694472268, 17.22723124410567, 17.34666536589688, 21.467783366157065, 23.782516546020076, 16.692981748280847]\n",
    "\n",
    "#  Results after 30 of fine tuning:\n",
    "# (10, 48, 16, 16)\n",
    "# (10, 16, 48)\n",
    "# rmse, 18.98378, 2.46994\n",
    "# mape, 9.04710, 1.79986\n",
    "# mae, 13.32221, 1.70536\n",
    "# grmse, 23.69964, 3.26271\n",
    "# time_lag, -6.31944, 4.84503\n",
    "# [18.336918613238037, 18.112109842567175, 15.737455185878657, 22.64725171525027, 17.085306987108837, 20.590717098130273, 21.88307607615272, 16.181749891189632, 17.1843693881833, 21.0022138609373, 22.49986640042801, 16.544340723067133]\n",
    "# (10, 48, 16, 16)\n",
    "# (10, 16, 48)\n"
   ]
  },
  {
   "cell_type": "code",
   "execution_count": 6,
   "metadata": {},
   "outputs": [
    {
     "name": "stderr",
     "output_type": "stream",
     "text": [
      "global_loop: 100%|██████████| 30/30 [55:30<00:00, 111.02s/it] \n"
     ]
    },
    {
     "name": "stdout",
     "output_type": "stream",
     "text": [
      " \n",
      " Results after 30 global rounds of training:\n",
      "rmse, 20.81648, 4.10161\n",
      "mape, 10.12626, 2.40033\n",
      "mae, 15.10371, 2.83200\n",
      "grmse, 26.47149, 5.59513\n",
      "time_lag, -10.52083, 6.36270\n",
      "[23.726152192286943, 20.53538696786408, 22.781563462349606, 15.261984696620647, 20.086088674800607, 23.90053419210476, 28.398323589867832, 18.723507488342445, 23.573497361062724, 16.292275237727694, 23.032083441924684, 13.486316103588052]\n"
     ]
    },
    {
     "name": "stderr",
     "output_type": "stream",
     "text": [
      "tune_loop: 100%|██████████| 30/30 [1:31:30<00:00, 183.02s/it]\n"
     ]
    },
    {
     "name": "stdout",
     "output_type": "stream",
     "text": [
      " \n",
      " Results after 30 of fine tuning:\n",
      "rmse, 20.06864, 3.88134\n",
      "mape, 9.67519, 2.31117\n",
      "mae, 14.49191, 2.64415\n",
      "grmse, 25.27129, 5.26327\n",
      "time_lag, -9.68750, 6.12638\n",
      "[22.58628677631179, 20.280560074696147, 21.780978186072993, 14.26850572895791, 19.285542756786185, 22.343665318895475, 27.320286808323637, 18.231153816542218, 23.153653595160474, 15.803264831081236, 22.290599343485514, 13.47920660202659]\n",
      "models have been saved...\n",
      "end\n"
     ]
    },
    {
     "data": {
      "text/plain": [
       "<Figure size 2160x720 with 0 Axes>"
      ]
     },
     "metadata": {},
     "output_type": "display_data"
    },
    {
     "data": {
      "text/plain": [
       "<Figure size 2160x720 with 0 Axes>"
      ]
     },
     "metadata": {},
     "output_type": "display_data"
    },
    {
     "data": {
      "text/plain": [
       "<Figure size 1440x720 with 0 Axes>"
      ]
     },
     "metadata": {},
     "output_type": "display_data"
    },
    {
     "data": {
      "text/plain": [
       "<Figure size 1440x1080 with 0 Axes>"
      ]
     },
     "metadata": {},
     "output_type": "display_data"
    },
    {
     "data": {
      "text/plain": [
       "<Figure size 1440x1080 with 0 Axes>"
      ]
     },
     "metadata": {},
     "output_type": "display_data"
    },
    {
     "data": {
      "text/plain": [
       "<Figure size 1440x1080 with 0 Axes>"
      ]
     },
     "metadata": {},
     "output_type": "display_data"
    },
    {
     "data": {
      "text/plain": [
       "<Figure size 1440x1080 with 0 Axes>"
      ]
     },
     "metadata": {},
     "output_type": "display_data"
    }
   ],
   "source": [
    "from gat_mem_org_log.train import *\n",
    "seed = 1\n",
    "random.seed(seed)\n",
    "np.random.seed(seed)\n",
    "torch.manual_seed(seed)\n",
    "torch.cuda.manual_seed(seed)\n",
    "torch.backends.cudnn.deterministic = True\n",
    "torch.backends.cudnn.benchmark = False\n",
    "os.environ['PYTHONHASHSEED'] = str(seed)\n",
    "\n",
    "dataset = 'arises'\n",
    "version = 'nips_23'\n",
    "CONF = {\n",
    "    'data_path':f'../../code_data/{dataset}/{version}/',\n",
    "    'log_path': f'../../code_log/{version}/{dataset}',\n",
    "    'dataset': dataset,\n",
    "    'n_prev' : 48,\n",
    "    'pred_window' : 6,\n",
    "    'seq_len': 48,\n",
    "    'mix_test_and_valid_2018': False,\n",
    "\n",
    "    'attri_list': [\n",
    "    'meal', 'bolus', 'basal', 'correction_bolus',\n",
    "    'finger_stick', 'EDA', 'SCL', 'SCR', 'HR', 'TEMP', 'ACC', 'RMSSD', 'SDNN',\n",
    "    'medianNNI', 'CVNNI', 'CVSD', 'pNNX', 'meanHR', 'minHR', 'maxHR', 'VLF',\n",
    "    'LF', 'HF', 'LHR', ],\n",
    "    'time_attri_list' : ['timestamp'],     \n",
    "    'model_name':'gatv2_exp', \n",
    "\n",
    "    'hidden_dim': 512,\n",
    "\n",
    "    'lr': 1e-3,  # 1e-4\n",
    "    'tuning_lr':1e-5,\n",
    "    'epochs': 30,\n",
    "    'local_epochs': 500,\n",
    "    'tuning_epochs': 30, \n",
    "    'tuning_local_epochs': 80,\n",
    "    'weight_decay': 1e-4,\n",
    "    'batch_size': 128,\n",
    "    'nhead': 1,\n",
    "    'num_layers':2,\n",
    "    'device': 'cuda',\n",
    "\n",
    "\n",
    "    'print_every':2,\n",
    "    'comments': 'pred_6_all_features',\n",
    "    'save_model': True,\n",
    "    'all_edges': True,\n",
    "\n",
    "\n",
    "    'interval': 5,\n",
    "    'log_epoch_vari_imp': True,\n",
    "}\n",
    "pid2model = train(CONF)\n",
    "print('end')"
   ]
  },
  {
   "cell_type": "code",
   "execution_count": 7,
   "metadata": {},
   "outputs": [
    {
     "name": "stderr",
     "output_type": "stream",
     "text": [
      "global_loop: 100%|██████████| 30/30 [16:52<00:00, 33.73s/it]\n"
     ]
    },
    {
     "name": "stdout",
     "output_type": "stream",
     "text": [
      " \n",
      " Results after 30 global rounds of training:\n",
      "rmse, 12.60657, 3.21524\n",
      "mape, 7.76262, 2.90776\n",
      "mae, 9.42474, 2.64313\n",
      "grmse, 14.60548, 4.09550\n",
      "time_lag, -0.90000, 3.56230\n",
      "[12.09192290784948, 9.770490584770544, 12.81472208246364, 15.28679083788006, 17.553821741001123, 14.696520563548527, 10.935303560150341, 12.899693188234592, 11.051816447514444, 11.11480451445419, 17.187091614466436, 15.622882180693674, 17.965125313758946, 11.907075948426698, 9.15690240716455, 14.556679278636793, 10.792051526918687, 15.164395564026469, 12.781876154627167, 12.954960783851599, 14.673768722635321, 17.8501196079895, 10.179712982028736, 19.2507672838156, 6.659511572996111, 10.242602027867212, 14.841514017447079, 11.291391141751118, 7.7298432608403, 11.039796452511732, 10.459080480709245, 15.524093114929954, 14.809416502302577, 13.458094229606536, 15.40524418702651, 7.132439193065261, 12.831525270656034, 14.382815152260754, 10.007535384165875, 10.149328696314837, 12.32395069538123, 13.222451992513943, 18.629797810364934, 12.888297019903064, 15.563212795862455, 12.813469380249588, 10.012277314451712, 6.3999334689496905, 12.905385725071941, 18.319250535585425, 12.278640586336808, 11.045124093252713, 14.674751365413956, 12.643711236733091, 10.550702792076851, 9.095720529897992, 10.001831268480014, 15.344929387591076, 10.672463351964412, 10.09418196093419, 8.715713026738152, 13.042088965910583, 13.13877625223331, 9.103495301750003, 14.503627980935494, 14.43711845917657, 10.784292836568529, 9.921242136558636, 12.574165355975484, 19.57242144949072, 11.441147519693242, 11.484695201743628, 11.97348462672606, 10.809864230084093, 8.912468703376852, 12.794102406831218, 15.540109728569377, 9.529494427202629, 10.839028685573245, 16.143051570681173, 10.926597174686687, 14.146255569261408, 14.293646642847511, 10.529456464137917, 14.237502657895933, 10.072738083075246, 15.194286698183681, 8.860772993067139, 9.818674659561365, 11.980359853393256, 11.730049890540547, 14.822775065571603, 8.621776475996741, 12.226775906683889, 15.44094278965499, 28.138170744240487, 10.97066261592352, 11.184247273954602, 10.063675900576088, 8.433459861720918]\n"
     ]
    },
    {
     "name": "stderr",
     "output_type": "stream",
     "text": [
      "tune_loop: 100%|██████████| 10/10 [1:12:54<00:00, 437.46s/it]\n"
     ]
    },
    {
     "name": "stdout",
     "output_type": "stream",
     "text": [
      " \n",
      " Results after 10 of fine tuning:\n",
      "rmse, 11.75492, 3.01015\n",
      "mape, 6.99603, 2.57389\n",
      "mae, 8.62780, 2.34929\n",
      "grmse, 13.60954, 3.86934\n",
      "time_lag, -0.75000, 3.26917\n",
      "[12.079505121060489, 9.219510942508988, 12.649168543574318, 14.571384323010191, 14.647839050275417, 12.795037404311657, 8.407948829270133, 12.013559310204645, 10.777546918391263, 11.028585571460706, 16.243974243354057, 15.257828501015675, 18.911570306430878, 11.85535355689506, 8.933197052708483, 13.855682397211002, 10.337179719144794, 11.627291545816087, 12.322261136124162, 11.530397792018604, 15.152526020429884, 16.69478605276678, 8.955197612002737, 18.804341825343823, 5.767911132127904, 9.16310461945567, 14.546209957273879, 10.498449665237965, 7.38883089060317, 9.125341957687205, 9.876114021913079, 13.871488659543212, 14.853156456250879, 11.534650265104757, 13.249598083158386, 6.780181097352092, 11.91272021127128, 13.962532588473328, 9.803186357942742, 10.425850037240293, 12.057611769621465, 12.800848598960759, 13.775771524800911, 12.682550677005185, 8.989251818388142, 10.800143728359481, 9.609332523407137, 5.701282945774855, 12.319677748986262, 12.539567503459923, 12.208616147112624, 10.054020122203644, 14.239357705364668, 12.89582399892803, 8.959833158574561, 8.701525447011027, 8.959813148048859, 14.423680945635354, 10.080515780498482, 9.17672907780233, 8.056871919028433, 13.072850265435614, 12.812907886990674, 9.253456913162237, 14.441724811370134, 13.753486330035333, 10.645837075866718, 9.6942327914107, 11.636339789062687, 17.904076036498033, 11.153178329105131, 11.433258103845143, 11.841020334972919, 10.525004088339838, 8.284135884244826, 12.312268869776995, 10.987127575079585, 8.817191532234812, 10.26277592574974, 16.498453703586133, 10.53612806048009, 13.503837322647346, 13.902277346884125, 10.591507125681376, 14.351182395789783, 8.74836236070161, 13.035760259080655, 8.564444439491036, 9.267059266626704, 12.015943108801128, 10.397266806399509, 14.724623235212007, 9.038360647584316, 12.228014465503167, 11.902161704794231, 26.870806131710467, 11.035179410927022, 11.192365046734112, 9.538974920897104, 8.25470761165447]\n",
      "models have been saved...\n",
      "end\n"
     ]
    },
    {
     "data": {
      "text/plain": [
       "<Figure size 2160x720 with 0 Axes>"
      ]
     },
     "metadata": {},
     "output_type": "display_data"
    },
    {
     "data": {
      "text/plain": [
       "<Figure size 2160x720 with 0 Axes>"
      ]
     },
     "metadata": {},
     "output_type": "display_data"
    },
    {
     "data": {
      "text/plain": [
       "<Figure size 1440x720 with 0 Axes>"
      ]
     },
     "metadata": {},
     "output_type": "display_data"
    },
    {
     "data": {
      "text/plain": [
       "<Figure size 1440x1080 with 0 Axes>"
      ]
     },
     "metadata": {},
     "output_type": "display_data"
    },
    {
     "data": {
      "text/plain": [
       "<Figure size 1440x1080 with 0 Axes>"
      ]
     },
     "metadata": {},
     "output_type": "display_data"
    },
    {
     "data": {
      "text/plain": [
       "<Figure size 1440x1080 with 0 Axes>"
      ]
     },
     "metadata": {},
     "output_type": "display_data"
    },
    {
     "data": {
      "text/plain": [
       "<Figure size 1440x1080 with 0 Axes>"
      ]
     },
     "metadata": {},
     "output_type": "display_data"
    }
   ],
   "source": [
    "from gat_mem_org_log.train import *\n",
    "seed = 1\n",
    "random.seed(seed)\n",
    "np.random.seed(seed)\n",
    "torch.manual_seed(seed)\n",
    "torch.cuda.manual_seed(seed)\n",
    "torch.backends.cudnn.deterministic = True\n",
    "torch.backends.cudnn.benchmark = False\n",
    "os.environ['PYTHONHASHSEED'] = str(seed)\n",
    "\n",
    "dataset = 'shanghai_t2dm'\n",
    "version = 'nips_23'\n",
    "CONF = {\n",
    "    'data_path':f'../../code_data/{dataset}/{version}/',\n",
    "    'log_path': f'../../code_log/{version}/{dataset}',\n",
    "    'dataset': dataset,\n",
    "    'n_prev' : 16,\n",
    "    'pred_window' : 2,\n",
    "    'seq_len': 16,\n",
    "\n",
    "    'attri_list': ['finger_stick', 'blood_ketone', 'meal','insulin_dose_sc', 'hypo_agents', 'insulin_bolus', 'basal','insulin_iv'], \n",
    "    'time_attri_list' : ['timestamp'],     \n",
    "    'model_name':'gatv2_exp', \n",
    "\n",
    "    'hidden_dim': 256,\n",
    "\n",
    "    'lr': 1e-3,  # 1e-4\n",
    "    'tuning_lr':1e-5,\n",
    "\n",
    "    'epochs': 30,\n",
    "    'local_epochs': 500,\n",
    "    'tuning_epochs': 10, \n",
    "    'tuning_local_epochs': 80,\n",
    "    # 'epochs': 2,\n",
    "    # 'local_epochs': 5,\n",
    "    # 'tuning_epochs': 2, \n",
    "    # 'tuning_local_epochs': 8,\n",
    "    \n",
    "    'weight_decay': 1e-4,\n",
    "    'batch_size': 128,\n",
    "    'nhead': 1,\n",
    "    'num_layers':2,\n",
    "    'device': 'cuda',\n",
    "\n",
    "\n",
    "    'print_every':2,\n",
    "    'comments': 'pred_2_all_features',\n",
    "    'save_model': True,\n",
    "    'all_edges':True,\n",
    "\n",
    "\n",
    "    'interval': 15,\n",
    "    'log_epoch_vari_imp': True,\n",
    "}\n",
    "pid2model = train(CONF)\n",
    "print('end')"
   ]
  },
  {
   "cell_type": "code",
   "execution_count": 1,
   "metadata": {},
   "outputs": [
    {
     "name": "stderr",
     "output_type": "stream",
     "text": [
      "global_loop: 100%|██████████| 20/20 [09:17<00:00, 27.87s/it]\n"
     ]
    },
    {
     "name": "stdout",
     "output_type": "stream",
     "text": [
      " \n",
      " Results after 20 global rounds of training:\n",
      "rmse, 14.48121, 3.07815\n",
      "mape, 9.12951, 3.34949\n",
      "mae, 11.08646, 2.59645\n",
      "grmse, 18.01633, 5.07913\n",
      "time_lag, -1.25000, 4.14578\n",
      "[11.799620696614971, 10.026521608169109, 12.920079984151608, 13.84792180633947, 21.559182262872355, 16.887739332015215, 12.319655454697624, 11.818032558538984, 16.396192043440777, 13.526224731726295, 14.802414691964639, 17.870933657069813]\n"
     ]
    },
    {
     "name": "stderr",
     "output_type": "stream",
     "text": [
      "tune_loop: 100%|██████████| 10/10 [08:35<00:00, 51.55s/it]\n"
     ]
    },
    {
     "name": "stdout",
     "output_type": "stream",
     "text": [
      " \n",
      " Results after 10 of fine tuning:\n",
      "rmse, 14.10408, 2.77636\n",
      "mape, 9.00086, 3.64263\n",
      "mae, 10.68774, 2.40327\n",
      "grmse, 17.07543, 4.48080\n",
      "time_lag, -1.25000, 4.14578\n",
      "[11.61666735553785, 9.937265453329774, 12.89977953818549, 13.596404980492258, 19.808988530748564, 14.294537462594977, 12.213269031249885, 11.429041335118347, 17.97863009622031, 13.864454506214186, 14.565680291644412, 17.044203789338475]\n",
      "models have been saved...\n",
      "end\n"
     ]
    },
    {
     "data": {
      "text/plain": [
       "<Figure size 2160x720 with 0 Axes>"
      ]
     },
     "metadata": {},
     "output_type": "display_data"
    },
    {
     "data": {
      "text/plain": [
       "<Figure size 2160x720 with 0 Axes>"
      ]
     },
     "metadata": {},
     "output_type": "display_data"
    },
    {
     "data": {
      "text/plain": [
       "<Figure size 1440x720 with 0 Axes>"
      ]
     },
     "metadata": {},
     "output_type": "display_data"
    },
    {
     "data": {
      "text/plain": [
       "<Figure size 1440x1080 with 0 Axes>"
      ]
     },
     "metadata": {},
     "output_type": "display_data"
    },
    {
     "data": {
      "text/plain": [
       "<Figure size 1440x1080 with 0 Axes>"
      ]
     },
     "metadata": {},
     "output_type": "display_data"
    },
    {
     "data": {
      "text/plain": [
       "<Figure size 1440x1080 with 0 Axes>"
      ]
     },
     "metadata": {},
     "output_type": "display_data"
    },
    {
     "data": {
      "text/plain": [
       "<Figure size 1440x1080 with 0 Axes>"
      ]
     },
     "metadata": {},
     "output_type": "display_data"
    }
   ],
   "source": [
    "from gat_mem_org_log.train import *\n",
    "seed = 1\n",
    "random.seed(seed)\n",
    "np.random.seed(seed)\n",
    "torch.manual_seed(seed)\n",
    "torch.cuda.manual_seed(seed)\n",
    "torch.backends.cudnn.deterministic = True\n",
    "torch.backends.cudnn.benchmark = False\n",
    "os.environ['PYTHONHASHSEED'] = str(seed)\n",
    "\n",
    "dataset = 'shanghai_t1dm'\n",
    "version = 'nips_23'\n",
    "CONF = {\n",
    "    'data_path':f'../../code_data/{dataset}/{version}/',\n",
    "    'log_path': f'../../code_log/{version}/{dataset}',\n",
    "    'dataset': dataset,\n",
    "    'n_prev' : 16,\n",
    "    'pred_window' : 2,\n",
    "    'seq_len': 16,\n",
    "\n",
    "    'attri_list': ['finger_stick', 'blood_ketone', 'meal','insulin_dose_sc', 'hypo_agents', 'insulin_bolus', 'basal','insulin_iv'], \n",
    "    'time_attri_list' : ['timestamp'],     \n",
    "    'model_name':'gatv2_exp', \n",
    "\n",
    "    'hidden_dim': 256,\n",
    "\n",
    "    'lr': 1e-3,  # 1e-4\n",
    "    'tuning_lr':1e-5,\n",
    "    'epochs': 20,\n",
    "    'local_epochs': 500,\n",
    "    'tuning_epochs': 10, \n",
    "    'tuning_local_epochs': 80,\n",
    "\n",
    "    # 'epochs': 2,\n",
    "    # 'local_epochs': 5,\n",
    "    # 'tuning_epochs': 2, \n",
    "    # 'tuning_local_epochs': 8,\n",
    "\n",
    "    'weight_decay': 1e-4,\n",
    "    'batch_size': 128,\n",
    "    'nhead': 1,\n",
    "    'num_layers':2,\n",
    "    'device': 'cuda',\n",
    "\n",
    "\n",
    "    'print_every':2,\n",
    "    'comments': 'pred_2_all_features',\n",
    "    'save_model': True,\n",
    "    'all_edges':True,\n",
    "\n",
    "\n",
    "    'interval': 15,\n",
    "    'log_epoch_vari_imp': True,\n",
    "}\n",
    "pid2model = train(CONF)\n",
    "print('end')"
   ]
  }
 ],
 "metadata": {
  "kernelspec": {
   "display_name": "base",
   "language": "python",
   "name": "python3"
  },
  "language_info": {
   "codemirror_mode": {
    "name": "ipython",
    "version": 3
   },
   "file_extension": ".py",
   "mimetype": "text/x-python",
   "name": "python",
   "nbconvert_exporter": "python",
   "pygments_lexer": "ipython3",
   "version": "3.9.18"
  },
  "orig_nbformat": 4
 },
 "nbformat": 4,
 "nbformat_minor": 2
}
