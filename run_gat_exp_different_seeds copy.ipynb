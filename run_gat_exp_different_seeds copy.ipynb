{
 "cells": [
  {
   "cell_type": "code",
   "execution_count": 1,
   "metadata": {},
   "outputs": [],
   "source": [
    "def select_conf(version, dataset, seed):\n",
    "    if dataset == 'ohio':\n",
    "        CONF = {\n",
    "            'data_path':f'../../code_data/{dataset}/{version}/',\n",
    "            'log_path': f'../../code_log/{version}/{dataset}',\n",
    "            'dataset': dataset,\n",
    "            'n_prev' : 48,\n",
    "            'pred_window' : 6,\n",
    "            'seq_len': 48,\n",
    "            'mix_test_and_valid_2018': False,\n",
    "\n",
    "            'attri_list': [ 'meal', 'bolus', 'basal', 'finger_stick',\n",
    "            'basis_skin_temperature', 'basis_gsr', 'basis_sleep', 'acceleration',\n",
    "            'exercise', 'sleep', 'work', 'basis_steps', 'basis_heart_rate', 'basis_air_temperature'],\n",
    "            \n",
    "            'time_attri_list' : ['timestamp'],     \n",
    "            'model_name':'gat_exp', \n",
    "\n",
    "            'hidden_dim': 512,\n",
    "\n",
    "            'lr': 1e-3,  # 1e-4\n",
    "            'tuning_lr':1e-5,\n",
    "            'epochs': 30,\n",
    "            'local_epochs': 500,\n",
    "            'tuning_epochs': 30, \n",
    "            'tuning_local_epochs': 80,\n",
    "\n",
    "            # 'epochs': 2,\n",
    "            # 'local_epochs': 2,\n",
    "            # 'tuning_epochs': 2, \n",
    "            # 'tuning_local_epochs': 2,\n",
    "\n",
    "            'weight_decay': 1e-4,\n",
    "            'batch_size': 128,\n",
    "            'nhead': 1,\n",
    "            'num_layers':2,\n",
    "            'device': 'cuda',\n",
    "\n",
    "\n",
    "            'print_every':2,\n",
    "            'comments': f'pred_6_all_features_seed_{seed}',\n",
    "            'save_model': True,\n",
    "            'all_edges': True,\n",
    "\n",
    "            \n",
    "            'interval': 5,\n",
    "            'log_epoch_vari_imp': False,\n",
    "        }\n",
    "    elif dataset == 'arises':\n",
    "        CONF = {\n",
    "            'data_path':f'../../code_data/{dataset}/{version}/',\n",
    "            'log_path': f'../../code_log/{version}/{dataset}',\n",
    "            'dataset': dataset,\n",
    "            'n_prev' : 48,\n",
    "            'pred_window' : 6,\n",
    "            'seq_len': 48,\n",
    "            'mix_test_and_valid_2018': False,\n",
    "\n",
    "            'attri_list': [\n",
    "            'meal', 'bolus', 'basal', 'correction_bolus',\n",
    "            'finger_stick', 'EDA', 'SCL', 'SCR', 'HR', 'TEMP', 'ACC', 'RMSSD', 'SDNN',\n",
    "            'medianNNI', 'CVNNI', 'CVSD', 'pNNX', 'meanHR', 'minHR', 'maxHR', 'VLF',\n",
    "            'LF', 'HF', 'LHR', ],\n",
    "            'time_attri_list' : ['timestamp'],     \n",
    "            'model_name':'gat_exp', \n",
    "\n",
    "            'hidden_dim': 512,\n",
    "\n",
    "            'lr': 1e-3,  # 1e-4\n",
    "            'tuning_lr':1e-5,\n",
    "            'epochs': 30,\n",
    "            'local_epochs': 500,\n",
    "            'tuning_epochs': 30, \n",
    "            'tuning_local_epochs': 80,\n",
    "            'weight_decay': 1e-4,\n",
    "            'batch_size': 128,\n",
    "            'nhead': 1,\n",
    "            'num_layers':2,\n",
    "            'device': 'cuda',\n",
    "\n",
    "\n",
    "            'print_every':2,\n",
    "            'comments': f'pred_6_all_features_seed_{seed}',\n",
    "            'save_model': True,\n",
    "            'all_edges': True,\n",
    "\n",
    "\n",
    "            'interval': 5,\n",
    "            'log_epoch_vari_imp': False,\n",
    "\n",
    "        }\n",
    "    elif dataset == 'shanghai_t2dm':\n",
    "        CONF = {\n",
    "            'data_path':f'../../code_data/{dataset}/{version}/',\n",
    "            'log_path': f'../../code_log/{version}/{dataset}',\n",
    "            'dataset': dataset,\n",
    "            'n_prev' : 16,\n",
    "            'pred_window' : 2,\n",
    "            'seq_len': 16,\n",
    "\n",
    "            'attri_list': ['finger_stick', 'blood_ketone', 'meal','insulin_dose_sc', 'hypo_agents', 'insulin_bolus', 'basal','insulin_iv'], \n",
    "            'time_attri_list' : ['timestamp'],     \n",
    "            'model_name':'gat_exp', \n",
    "\n",
    "            'hidden_dim': 256,\n",
    "\n",
    "            'lr': 1e-3,  # 1e-4\n",
    "            'tuning_lr':1e-5,\n",
    "            'epochs': 30,\n",
    "            'local_epochs': 500,\n",
    "            'tuning_epochs': 10, \n",
    "            'tuning_local_epochs': 80,\n",
    "            'weight_decay': 1e-4,\n",
    "            'batch_size': 128,\n",
    "            'nhead': 1,\n",
    "            'num_layers':2,\n",
    "            'device': 'cuda',\n",
    "\n",
    "\n",
    "            'print_every':2,\n",
    "            'comments': f'pred_2_all_features_seed_{seed}',\n",
    "            'save_model': True,\n",
    "            'all_edges':True,\n",
    "\n",
    "\n",
    "            'interval': 15,\n",
    "            'log_epoch_vari_imp': False,\n",
    "\n",
    "        }\n",
    "    elif dataset == 'shanghai_t1dm':\n",
    "\n",
    "        CONF = {\n",
    "            'data_path':f'../../code_data/{dataset}/{version}/',\n",
    "            'log_path': f'../../code_log/{version}/{dataset}',\n",
    "            'dataset': dataset,\n",
    "            'n_prev' : 16,\n",
    "            'pred_window' : 2,\n",
    "            'seq_len': 16,\n",
    "\n",
    "            'attri_list': ['finger_stick', 'blood_ketone', 'meal','insulin_dose_sc', 'hypo_agents', 'insulin_bolus', 'basal','insulin_iv'], \n",
    "            'time_attri_list' : ['timestamp'],     \n",
    "            'model_name':'gat_exp', \n",
    "\n",
    "            'hidden_dim': 256,\n",
    "\n",
    "            'lr': 1e-3,  # 1e-4\n",
    "            'tuning_lr':1e-5,\n",
    "            'epochs': 20,\n",
    "            'local_epochs': 500,\n",
    "            'tuning_epochs': 10, \n",
    "            'tuning_local_epochs': 80,\n",
    "\n",
    "            # 'epochs': 2,\n",
    "            # 'local_epochs': 5,\n",
    "            # 'tuning_epochs': 2, \n",
    "            # 'tuning_local_epochs': 8,\n",
    "\n",
    "            'weight_decay': 1e-4,\n",
    "            'batch_size': 128,\n",
    "            'nhead': 1,\n",
    "            'num_layers':2,\n",
    "            'device': 'cuda',\n",
    "\n",
    "\n",
    "            'print_every':2,\n",
    "            'comments': f'pred_2_all_features_seed_{seed}',\n",
    "            'save_model': True,\n",
    "            'all_edges':True,\n",
    "\n",
    "\n",
    "            'interval': 15,\n",
    "            'log_epoch_vari_imp': False,\n",
    "\n",
    "        }\n",
    "\n",
    "    return CONF"
   ]
  },
  {
   "cell_type": "code",
   "execution_count": 2,
   "metadata": {},
   "outputs": [
    {
     "name": "stdout",
     "output_type": "stream",
     "text": [
      "----------------seed=10--dataset='ohio'------------------------\n"
     ]
    },
    {
     "name": "stderr",
     "output_type": "stream",
     "text": [
      "global_loop: 100%|██████████| 30/30 [44:31<00:00, 89.04s/it]\n"
     ]
    },
    {
     "name": "stdout",
     "output_type": "stream",
     "text": [
      " \n",
      " Results after 30 global rounds of training:\n",
      "rmse, 20.19900, 2.32209\n",
      "mape, 9.37687, 1.46002\n",
      "mae, 14.32920, 1.49959\n",
      "grmse, 26.00004, 3.11952\n",
      "time_lag, -6.84722, 5.00530\n",
      "[20.310724081019675, 19.550222035583765, 18.957247368307538, 24.016574222864172, 18.254882995347522, 20.285213042116727, 23.174906557423537, 17.71869746878236, 17.64540336772627, 21.77887081249135, 23.533525941977302, 17.161739395302146]\n"
     ]
    },
    {
     "name": "stderr",
     "output_type": "stream",
     "text": [
      "tune_loop: 100%|██████████| 30/30 [1:22:29<00:00, 164.99s/it]\n"
     ]
    },
    {
     "name": "stdout",
     "output_type": "stream",
     "text": [
      " \n",
      " Results after 30 of fine tuning:\n",
      "rmse, 19.08058, 2.36534\n",
      "mape, 9.05640, 1.74740\n",
      "mae, 13.33743, 1.66056\n",
      "grmse, 23.84311, 3.15776\n",
      "time_lag, -6.36806, 4.57973\n",
      "[18.684124185576138, 18.679519224984418, 16.23605452542995, 22.435850119963558, 16.932237096029922, 19.993660494290122, 21.75021467431773, 16.34434843700042, 17.278107231463554, 21.22237692216785, 22.770485175269926, 16.639994119496407]\n",
      "models have been saved...\n",
      "end\n",
      "----------------seed=20--dataset='ohio'------------------------\n"
     ]
    },
    {
     "name": "stderr",
     "output_type": "stream",
     "text": [
      "global_loop: 100%|██████████| 30/30 [43:40<00:00, 87.36s/it]\n"
     ]
    },
    {
     "name": "stdout",
     "output_type": "stream",
     "text": [
      " \n",
      " Results after 30 global rounds of training:\n",
      "rmse, 19.64906, 2.46798\n",
      "mape, 9.55914, 1.69957\n",
      "mae, 14.00029, 1.58224\n",
      "grmse, 23.71382, 3.11404\n",
      "time_lag, -7.19444, 5.21342\n",
      "[19.093314457747294, 18.31813853039522, 16.82971625920159, 22.58745887300835, 17.549406227435355, 21.391588700670923, 22.249510341785474, 17.500850983773617, 17.43586094307281, 22.046809249769073, 23.846404361592178, 16.939627763606]\n"
     ]
    },
    {
     "name": "stderr",
     "output_type": "stream",
     "text": [
      "tune_loop: 100%|██████████| 30/30 [1:23:23<00:00, 166.80s/it]\n"
     ]
    },
    {
     "name": "stdout",
     "output_type": "stream",
     "text": [
      " \n",
      " Results after 30 of fine tuning:\n",
      "rmse, 19.04803, 2.36283\n",
      "mape, 9.08990, 1.74041\n",
      "mae, 13.39326, 1.63072\n",
      "grmse, 23.73897, 3.09640\n",
      "time_lag, -5.88889, 4.37180\n",
      "[18.64967953813148, 18.03491977522573, 15.960943236048896, 22.55304281001201, 17.19421033780339, 20.50689655692651, 21.835490967035398, 16.488094774324576, 17.40025985348351, 21.290177723083215, 22.177749425495772, 16.48487762118806]\n",
      "models have been saved...\n",
      "end\n",
      "----------------seed=100--dataset='ohio'------------------------\n"
     ]
    },
    {
     "name": "stderr",
     "output_type": "stream",
     "text": [
      "global_loop: 100%|██████████| 30/30 [45:55<00:00, 91.84s/it] \n"
     ]
    },
    {
     "name": "stdout",
     "output_type": "stream",
     "text": [
      " \n",
      " Results after 30 global rounds of training:\n",
      "rmse, 19.26977, 2.38739\n",
      "mape, 9.16583, 1.70925\n",
      "mae, 13.51939, 1.63907\n",
      "grmse, 23.76582, 3.00800\n",
      "time_lag, -7.02083, 4.66817\n",
      "[18.999816090547018, 17.81235437166347, 16.1758524698082, 22.31457407311314, 17.059398327287585, 20.26382388873704, 21.814096299486742, 17.702360454861044, 17.1956692233557, 21.351992712003195, 23.582580913856603, 16.964724574328123]\n"
     ]
    },
    {
     "name": "stderr",
     "output_type": "stream",
     "text": [
      "tune_loop: 100%|██████████| 30/30 [1:17:59<00:00, 155.99s/it]\n"
     ]
    },
    {
     "name": "stdout",
     "output_type": "stream",
     "text": [
      " \n",
      " Results after 30 of fine tuning:\n",
      "rmse, 19.06235, 2.38349\n",
      "mape, 9.10906, 1.78687\n",
      "mae, 13.39230, 1.67017\n",
      "grmse, 23.76808, 3.13168\n",
      "time_lag, -6.00694, 4.37301\n",
      "[18.739017779849497, 18.111043252538284, 15.701549302941265, 22.551159827607815, 16.961936074358523, 20.100090580826294, 21.61861612102591, 16.964628333740563, 17.15726922348167, 21.081852837048473, 22.899265114265948, 16.861714424401754]\n",
      "models have been saved...\n",
      "end\n",
      "----------------seed=10--dataset='shanghai_t1dm'------------------------\n"
     ]
    },
    {
     "name": "stderr",
     "output_type": "stream",
     "text": [
      "global_loop: 100%|██████████| 20/20 [09:38<00:00, 28.91s/it]\n"
     ]
    },
    {
     "name": "stdout",
     "output_type": "stream",
     "text": [
      " \n",
      " Results after 20 global rounds of training:\n",
      "rmse, 13.79015, 2.69872\n",
      "mape, 9.00960, 3.34127\n",
      "mae, 10.62765, 2.30860\n",
      "grmse, 16.79435, 4.39703\n",
      "time_lag, -1.25000, 4.14578\n",
      "[10.465200978411962, 9.95977206723867, 11.189281470962547, 14.064882068214203, 19.567616144091236, 14.408750503234245, 12.051404207966351, 12.842946865096325, 15.260867389710459, 13.679240761373315, 14.377030469709423, 17.61478295674634]\n"
     ]
    },
    {
     "name": "stderr",
     "output_type": "stream",
     "text": [
      "tune_loop: 100%|██████████| 10/10 [09:04<00:00, 54.42s/it]\n"
     ]
    },
    {
     "name": "stdout",
     "output_type": "stream",
     "text": [
      " \n",
      " Results after 10 of fine tuning:\n",
      "rmse, 13.63327, 2.72539\n",
      "mape, 8.90494, 3.66443\n",
      "mae, 10.44158, 2.35243\n",
      "grmse, 16.66292, 4.34546\n",
      "time_lag, 0.00000, 0.00000\n",
      "[10.478973771146997, 9.787534796992741, 11.316675922313234, 13.879492779789135, 19.038166461783092, 13.870013466452377, 12.15596192320132, 11.565765084812604, 17.45521088978965, 13.414332089967129, 14.11347423667528, 16.523695144267915]\n",
      "models have been saved...\n",
      "end\n",
      "----------------seed=20--dataset='shanghai_t1dm'------------------------\n"
     ]
    },
    {
     "name": "stderr",
     "output_type": "stream",
     "text": [
      "global_loop: 100%|██████████| 20/20 [09:34<00:00, 28.72s/it]\n"
     ]
    },
    {
     "name": "stdout",
     "output_type": "stream",
     "text": [
      " \n",
      " Results after 20 global rounds of training:\n",
      "rmse, 13.66476, 2.86843\n",
      "mape, 8.65711, 3.10324\n",
      "mae, 10.40441, 2.44340\n",
      "grmse, 16.69300, 4.77733\n",
      "time_lag, -1.25000, 4.14578\n",
      "[10.678385099124085, 10.137645218981453, 12.920546476068045, 13.100126402732842, 20.121444482843966, 15.486790103976013, 11.328469822338098, 11.868734855300698, 12.238137242808978, 13.639117005705042, 14.276171292488085, 18.181518829655705]\n"
     ]
    },
    {
     "name": "stderr",
     "output_type": "stream",
     "text": [
      "tune_loop: 100%|██████████| 10/10 [08:58<00:00, 53.90s/it]\n"
     ]
    },
    {
     "name": "stdout",
     "output_type": "stream",
     "text": [
      " \n",
      " Results after 10 of fine tuning:\n",
      "rmse, 13.88034, 2.69389\n",
      "mape, 8.93710, 3.54551\n",
      "mae, 10.54263, 2.37572\n",
      "grmse, 16.86513, 4.43185\n",
      "time_lag, -1.25000, 4.14578\n",
      "[10.734591064055492, 10.172473145695808, 13.442200304393529, 13.429455145423052, 19.614003593425046, 14.780956821881068, 12.022341593370873, 10.624130033892223, 15.541771991498981, 14.199268182513679, 14.689195380874338, 17.31367306918103]\n",
      "models have been saved...\n",
      "end\n",
      "----------------seed=100--dataset='shanghai_t1dm'------------------------\n"
     ]
    },
    {
     "name": "stderr",
     "output_type": "stream",
     "text": [
      "global_loop: 100%|██████████| 20/20 [09:49<00:00, 29.47s/it]\n"
     ]
    },
    {
     "name": "stdout",
     "output_type": "stream",
     "text": [
      " \n",
      " Results after 20 global rounds of training:\n",
      "rmse, 13.65758, 2.54568\n",
      "mape, 8.44066, 2.55526\n",
      "mae, 10.39046, 2.09036\n",
      "grmse, 16.08734, 3.63440\n",
      "time_lag, -1.25000, 4.14578\n",
      "[10.950099815714973, 10.097898782145379, 13.884134121285761, 13.70812270786296, 18.379476196662186, 14.38725753301473, 11.592031675433681, 11.656215309725523, 12.585099119539457, 13.173278950979233, 14.972461598656455, 18.504846711244074]\n"
     ]
    },
    {
     "name": "stderr",
     "output_type": "stream",
     "text": [
      "tune_loop: 100%|██████████| 10/10 [09:03<00:00, 54.40s/it]\n"
     ]
    },
    {
     "name": "stdout",
     "output_type": "stream",
     "text": [
      " \n",
      " Results after 10 of fine tuning:\n"
     ]
    },
    {
     "name": "stderr",
     "output_type": "stream",
     "text": [
      "c:\\code\\fornips23\\gat_mem_org_log\\log.py:106: RuntimeWarning: More than 20 figures have been opened. Figures created through the pyplot interface (`matplotlib.pyplot.figure`) are retained until explicitly closed and may consume too much memory. (To control this warning, see the rcParam `figure.max_open_warning`).\n",
      "  fig, ax = plt.subplots(figsize = (20, 15))\n"
     ]
    },
    {
     "name": "stdout",
     "output_type": "stream",
     "text": [
      "rmse, 13.97035, 2.57540\n",
      "mape, 9.03096, 3.40419\n",
      "mae, 10.63934, 2.22314\n",
      "grmse, 16.89243, 4.04235\n",
      "time_lag, 0.00000, 0.00000\n",
      "[10.992340195279166, 9.956518627692802, 14.612583203890576, 13.614826849131646, 18.959938780609317, 13.938936852259898, 11.741654049550938, 10.98650051948075, 15.588518446235769, 15.714355339787796, 14.508800598250867, 17.029197303191236]\n",
      "models have been saved...\n",
      "end\n",
      "----------------seed=10--dataset='arises'------------------------\n"
     ]
    },
    {
     "name": "stderr",
     "output_type": "stream",
     "text": [
      "global_loop: 100%|██████████| 30/30 [47:12<00:00, 94.42s/it]\n"
     ]
    },
    {
     "name": "stdout",
     "output_type": "stream",
     "text": [
      " \n",
      " Results after 30 global rounds of training:\n",
      "rmse, 20.95548, 4.46322\n",
      "mape, 10.63591, 2.51898\n",
      "mae, 15.34633, 3.13438\n",
      "grmse, 26.33263, 6.03827\n",
      "time_lag, -9.06250, 5.28177\n",
      "[23.380635444092004, 19.811395560206474, 25.710977856243016, 15.014634178092823, 19.921048542906274, 23.098885962635595, 29.565741266550802, 18.62735933043114, 23.75414103495628, 16.232235632617353, 22.817319428845465, 13.531443394078417]\n"
     ]
    },
    {
     "name": "stderr",
     "output_type": "stream",
     "text": [
      "tune_loop: 100%|██████████| 30/30 [1:30:04<00:00, 180.15s/it]\n"
     ]
    },
    {
     "name": "stdout",
     "output_type": "stream",
     "text": [
      " \n",
      " Results after 30 of fine tuning:\n",
      "rmse, 20.04953, 3.86041\n",
      "mape, 9.66192, 2.27347\n",
      "mae, 14.50199, 2.63953\n",
      "grmse, 25.24939, 5.26566\n",
      "time_lag, -9.47917, 5.89532\n",
      "[22.541907722279532, 19.907838958610075, 21.64265206548713, 14.212200693755006, 19.592637123250135, 22.337341328523255, 27.381710257772887, 18.491377187041465, 23.17778103467643, 15.568984553569859, 22.052986838875704, 13.686944262226858]\n",
      "models have been saved...\n",
      "end\n",
      "----------------seed=20--dataset='arises'------------------------\n"
     ]
    },
    {
     "name": "stderr",
     "output_type": "stream",
     "text": [
      "global_loop: 100%|██████████| 30/30 [47:57<00:00, 95.92s/it]\n"
     ]
    },
    {
     "name": "stdout",
     "output_type": "stream",
     "text": [
      " \n",
      " Results after 30 global rounds of training:\n",
      "rmse, 20.73308, 4.00493\n",
      "mape, 10.29768, 2.25568\n",
      "mae, 15.28299, 2.87686\n",
      "grmse, 26.74888, 5.55263\n",
      "time_lag, -9.06250, 5.28177\n",
      "[24.239271799360665, 20.04086325364184, 23.337211213983853, 15.959918362592742, 19.828676761678793, 22.874419658365788, 28.23145218684517, 18.799103183864332, 23.697965458969918, 15.614835072482204, 22.315919074522228, 13.857366130305424]\n"
     ]
    },
    {
     "name": "stderr",
     "output_type": "stream",
     "text": [
      "tune_loop: 100%|██████████| 30/30 [1:27:02<00:00, 174.09s/it]\n"
     ]
    },
    {
     "name": "stdout",
     "output_type": "stream",
     "text": [
      " \n",
      " Results after 30 of fine tuning:\n",
      "rmse, 19.92002, 3.98335\n",
      "mape, 9.68934, 2.30682\n",
      "mae, 14.47195, 2.75656\n",
      "grmse, 25.05830, 5.36073\n",
      "time_lag, -9.06250, 5.28177\n",
      "[23.11953192319551, 19.90320663303639, 21.598110172816263, 14.409574906950706, 19.154851218302703, 22.458061636541636, 27.608827854298365, 17.751131263466352, 22.862156999203947, 15.159822589570949, 21.58062389359304, 13.434336019221186]\n",
      "models have been saved...\n",
      "end\n",
      "----------------seed=100--dataset='arises'------------------------\n"
     ]
    },
    {
     "name": "stderr",
     "output_type": "stream",
     "text": [
      "global_loop: 100%|██████████| 30/30 [46:05<00:00, 92.18s/it]\n"
     ]
    },
    {
     "name": "stdout",
     "output_type": "stream",
     "text": [
      " \n",
      " Results after 30 global rounds of training:\n",
      "rmse, 21.59999, 4.20640\n",
      "mape, 10.19603, 2.22060\n",
      "mae, 15.72825, 2.85260\n",
      "grmse, 28.07988, 6.02601\n",
      "time_lag, -10.72917, 6.30101\n",
      "[25.13496649147048, 20.689549647095014, 22.443423198635426, 16.55301633701591, 21.15263698723334, 24.18839327323386, 30.55392042312502, 19.977117800015677, 23.977812365598403, 16.802119457429136, 23.305313434436872, 14.421648050591068]\n"
     ]
    },
    {
     "name": "stderr",
     "output_type": "stream",
     "text": [
      "tune_loop:   3%|▎         | 1/30 [05:43<2:45:55, 343.31s/it]\n"
     ]
    },
    {
     "ename": "KeyboardInterrupt",
     "evalue": "",
     "output_type": "error",
     "traceback": [
      "\u001b[1;31m---------------------------------------------------------------------------\u001b[0m",
      "\u001b[1;31mKeyboardInterrupt\u001b[0m                         Traceback (most recent call last)",
      "\u001b[1;32mc:\\code\\fornips23\\test_gat_exp_different_seeds copy.ipynb Cell 2\u001b[0m in \u001b[0;36m<cell line: 1>\u001b[1;34m()\u001b[0m\n\u001b[0;32m     <a href='vscode-notebook-cell:/c%3A/code/fornips23/test_gat_exp_different_seeds%20copy.ipynb#W1sZmlsZQ%3D%3D?line=13'>14</a>\u001b[0m version \u001b[39m=\u001b[39m \u001b[39m'\u001b[39m\u001b[39mnips_23\u001b[39m\u001b[39m'\u001b[39m\n\u001b[0;32m     <a href='vscode-notebook-cell:/c%3A/code/fornips23/test_gat_exp_different_seeds%20copy.ipynb#W1sZmlsZQ%3D%3D?line=14'>15</a>\u001b[0m CONF \u001b[39m=\u001b[39m select_conf(dataset\u001b[39m=\u001b[39mdataset, version\u001b[39m=\u001b[39mversion, seed\u001b[39m=\u001b[39mseed)\n\u001b[1;32m---> <a href='vscode-notebook-cell:/c%3A/code/fornips23/test_gat_exp_different_seeds%20copy.ipynb#W1sZmlsZQ%3D%3D?line=15'>16</a>\u001b[0m pid2model \u001b[39m=\u001b[39m train(CONF)\n\u001b[0;32m     <a href='vscode-notebook-cell:/c%3A/code/fornips23/test_gat_exp_different_seeds%20copy.ipynb#W1sZmlsZQ%3D%3D?line=16'>17</a>\u001b[0m \u001b[39mprint\u001b[39m(\u001b[39m'\u001b[39m\u001b[39mend\u001b[39m\u001b[39m'\u001b[39m)\n",
      "File \u001b[1;32mc:\\code\\fornips23\\gat_mem_org_log\\train.py:179\u001b[0m, in \u001b[0;36mtrain\u001b[1;34m(CONF)\u001b[0m\n\u001b[0;32m    177\u001b[0m eval_rmse_list \u001b[39m=\u001b[39m []\n\u001b[0;32m    178\u001b[0m \u001b[39mfor\u001b[39;00m pid \u001b[39min\u001b[39;00m pid2model:\n\u001b[1;32m--> 179\u001b[0m     update\u001b[39m.\u001b[39;49mupdate_weights(\n\u001b[0;32m    180\u001b[0m         model\u001b[39m=\u001b[39;49mpid2model[pid], local_epochs\u001b[39m=\u001b[39;49mCONF[\u001b[39m'\u001b[39;49m\u001b[39mtuning_local_epochs\u001b[39;49m\u001b[39m'\u001b[39;49m], pid \u001b[39m=\u001b[39;49m pid, lr\u001b[39m=\u001b[39;49mCONF[\u001b[39m'\u001b[39;49m\u001b[39mtuning_lr\u001b[39;49m\u001b[39m'\u001b[39;49m])\n\u001b[0;32m    183\u001b[0m     \u001b[39mif\u001b[39;00m epoch \u001b[39m%\u001b[39m CONF[\u001b[39m'\u001b[39m\u001b[39mprint_every\u001b[39m\u001b[39m'\u001b[39m] \u001b[39m==\u001b[39m \u001b[39m0\u001b[39m:                  \n\u001b[0;32m    185\u001b[0m         output_dict \u001b[39m=\u001b[39m update\u001b[39m.\u001b[39minference(pid2model[pid], pid)\n",
      "File \u001b[1;32mc:\\code\\fornips23\\gat_mem_org_log\\update.py:34\u001b[0m, in \u001b[0;36mUpdate.update_weights\u001b[1;34m(self, model, local_epochs, pid, lr)\u001b[0m\n\u001b[0;32m     28\u001b[0m G, attris, time_attris, y, _ \u001b[39m=\u001b[39m \u001b[39mself\u001b[39m\u001b[39m.\u001b[39mdata_proc\u001b[39m.\u001b[39mget_train_batch(\n\u001b[0;32m     29\u001b[0m \u001b[39mself\u001b[39m\u001b[39m.\u001b[39mCONF[\u001b[39m'\u001b[39m\u001b[39mbatch_size\u001b[39m\u001b[39m'\u001b[39m], \u001b[39mself\u001b[39m\u001b[39m.\u001b[39mCONF[\u001b[39m'\u001b[39m\u001b[39mdevice\u001b[39m\u001b[39m'\u001b[39m], \n\u001b[0;32m     30\u001b[0m \u001b[39mself\u001b[39m\u001b[39m.\u001b[39mCONF[\u001b[39m'\u001b[39m\u001b[39mseq_len\u001b[39m\u001b[39m'\u001b[39m], \u001b[39mself\u001b[39m\u001b[39m.\u001b[39mCONF[\u001b[39m'\u001b[39m\u001b[39mattri_list\u001b[39m\u001b[39m'\u001b[39m], \u001b[39mself\u001b[39m\u001b[39m.\u001b[39mCONF[\u001b[39m'\u001b[39m\u001b[39mtime_attri_list\u001b[39m\u001b[39m'\u001b[39m], pid\u001b[39m=\u001b[39mpid)\n\u001b[0;32m     32\u001b[0m model\u001b[39m.\u001b[39mzero_grad()\n\u001b[1;32m---> 34\u001b[0m output_dict \u001b[39m=\u001b[39m model(G, attris, time_attris)\n\u001b[0;32m     36\u001b[0m predicted_norm \u001b[39m=\u001b[39m output_dict[\u001b[39m'\u001b[39m\u001b[39mpred\u001b[39m\u001b[39m'\u001b[39m]\n\u001b[0;32m     38\u001b[0m loss \u001b[39m=\u001b[39m \u001b[39mself\u001b[39m\u001b[39m.\u001b[39mcriterion(predicted_norm, y) \u001b[39m# + 0.001*MAPE_LOSS(predicted_norm, y)\u001b[39;00m\n",
      "File \u001b[1;32mc:\\Python\\lib\\site-packages\\torch\\nn\\modules\\module.py:1110\u001b[0m, in \u001b[0;36mModule._call_impl\u001b[1;34m(self, *input, **kwargs)\u001b[0m\n\u001b[0;32m   1106\u001b[0m \u001b[39m# If we don't have any hooks, we want to skip the rest of the logic in\u001b[39;00m\n\u001b[0;32m   1107\u001b[0m \u001b[39m# this function, and just call forward.\u001b[39;00m\n\u001b[0;32m   1108\u001b[0m \u001b[39mif\u001b[39;00m \u001b[39mnot\u001b[39;00m (\u001b[39mself\u001b[39m\u001b[39m.\u001b[39m_backward_hooks \u001b[39mor\u001b[39;00m \u001b[39mself\u001b[39m\u001b[39m.\u001b[39m_forward_hooks \u001b[39mor\u001b[39;00m \u001b[39mself\u001b[39m\u001b[39m.\u001b[39m_forward_pre_hooks \u001b[39mor\u001b[39;00m _global_backward_hooks\n\u001b[0;32m   1109\u001b[0m         \u001b[39mor\u001b[39;00m _global_forward_hooks \u001b[39mor\u001b[39;00m _global_forward_pre_hooks):\n\u001b[1;32m-> 1110\u001b[0m     \u001b[39mreturn\u001b[39;00m forward_call(\u001b[39m*\u001b[39m\u001b[39minput\u001b[39m, \u001b[39m*\u001b[39m\u001b[39m*\u001b[39mkwargs)\n\u001b[0;32m   1111\u001b[0m \u001b[39m# Do not call functions when jit is used\u001b[39;00m\n\u001b[0;32m   1112\u001b[0m full_backward_hooks, non_full_backward_hooks \u001b[39m=\u001b[39m [], []\n",
      "File \u001b[1;32mc:\\code\\fornips23\\gat_mem_org_log\\method.py:193\u001b[0m, in \u001b[0;36mMLP_GAT_exp_MLP.forward\u001b[1;34m(self, G, attris, time_attris)\u001b[0m\n\u001b[0;32m    191\u001b[0m gnn_out \u001b[39m=\u001b[39m X_emb[:, t]\n\u001b[0;32m    192\u001b[0m \u001b[39mfor\u001b[39;00m i \u001b[39min\u001b[39;00m \u001b[39mrange\u001b[39m(\u001b[39mself\u001b[39m\u001b[39m.\u001b[39mnum_layers):\n\u001b[1;32m--> 193\u001b[0m     gnn_out, attn_probs \u001b[39m=\u001b[39m \u001b[39mself\u001b[39;49m\u001b[39m.\u001b[39;49mgat_layers[i](gnn_out, adj[:, t])\n\u001b[0;32m    194\u001b[0m     all_attn_probs[:, t, :, i, \u001b[39m.\u001b[39m\u001b[39m.\u001b[39m\u001b[39m.\u001b[39m] \u001b[39m=\u001b[39m attn_probs\n\u001b[0;32m    195\u001b[0m h \u001b[39m=\u001b[39m \u001b[39mself\u001b[39m\u001b[39m.\u001b[39mrnn(gnn_out\u001b[39m.\u001b[39mview(B, \u001b[39m-\u001b[39m\u001b[39m1\u001b[39m), h) \n",
      "File \u001b[1;32mc:\\Python\\lib\\site-packages\\torch\\nn\\modules\\module.py:1110\u001b[0m, in \u001b[0;36mModule._call_impl\u001b[1;34m(self, *input, **kwargs)\u001b[0m\n\u001b[0;32m   1106\u001b[0m \u001b[39m# If we don't have any hooks, we want to skip the rest of the logic in\u001b[39;00m\n\u001b[0;32m   1107\u001b[0m \u001b[39m# this function, and just call forward.\u001b[39;00m\n\u001b[0;32m   1108\u001b[0m \u001b[39mif\u001b[39;00m \u001b[39mnot\u001b[39;00m (\u001b[39mself\u001b[39m\u001b[39m.\u001b[39m_backward_hooks \u001b[39mor\u001b[39;00m \u001b[39mself\u001b[39m\u001b[39m.\u001b[39m_forward_hooks \u001b[39mor\u001b[39;00m \u001b[39mself\u001b[39m\u001b[39m.\u001b[39m_forward_pre_hooks \u001b[39mor\u001b[39;00m _global_backward_hooks\n\u001b[0;32m   1109\u001b[0m         \u001b[39mor\u001b[39;00m _global_forward_hooks \u001b[39mor\u001b[39;00m _global_forward_pre_hooks):\n\u001b[1;32m-> 1110\u001b[0m     \u001b[39mreturn\u001b[39;00m forward_call(\u001b[39m*\u001b[39m\u001b[39minput\u001b[39m, \u001b[39m*\u001b[39m\u001b[39m*\u001b[39mkwargs)\n\u001b[0;32m   1111\u001b[0m \u001b[39m# Do not call functions when jit is used\u001b[39;00m\n\u001b[0;32m   1112\u001b[0m full_backward_hooks, non_full_backward_hooks \u001b[39m=\u001b[39m [], []\n",
      "File \u001b[1;32mc:\\code\\fornips23\\gat_mem_org_log\\gat.py:84\u001b[0m, in \u001b[0;36mGATLayer_exp.forward\u001b[1;34m(self, node_feats, adj_matrix)\u001b[0m\n\u001b[0;32m     79\u001b[0m node_feats \u001b[39m=\u001b[39m torch\u001b[39m.\u001b[39meinsum(\u001b[39m'\u001b[39m\u001b[39mbijh,bjhc->bihc\u001b[39m\u001b[39m'\u001b[39m, attn_probs, node_feats_j) \u001b[39m# [B N_i N_j H] [B N_j H C]\u001b[39;00m\n\u001b[0;32m     83\u001b[0m \u001b[39m# new \u001b[39;00m\n\u001b[1;32m---> 84\u001b[0m importance \u001b[39m=\u001b[39m torch\u001b[39m.\u001b[39;49meinsum(\u001b[39m'\u001b[39;49m\u001b[39mbjhc, hc->bjh\u001b[39;49m\u001b[39m'\u001b[39;49m, node_feats_j, \u001b[39mself\u001b[39;49m\u001b[39m.\u001b[39;49ma_r)\n\u001b[0;32m     85\u001b[0m importance_np \u001b[39m=\u001b[39m importance\u001b[39m.\u001b[39mpermute(\u001b[39m0\u001b[39m, \u001b[39m2\u001b[39m, \u001b[39m1\u001b[39m)\u001b[39m.\u001b[39mdetach()\u001b[39m.\u001b[39mcpu()\u001b[39m.\u001b[39mnumpy() \u001b[39m# B H N_j\u001b[39;00m\n\u001b[0;32m     86\u001b[0m \u001b[39m# importance_np = np.repeat(importance_np[:, :, np.newaxis, :], importance.shape[2], 2) # [B, H, N_j, N_j]\u001b[39;00m\n\u001b[0;32m     87\u001b[0m \n\u001b[0;32m     88\u001b[0m \n\u001b[0;32m     89\u001b[0m \u001b[39m# If heads should be concatenated, we can do this by reshaping. Otherwise, take mean\u001b[39;00m\n",
      "File \u001b[1;32mc:\\Python\\lib\\site-packages\\torch\\functional.py:330\u001b[0m, in \u001b[0;36meinsum\u001b[1;34m(*args)\u001b[0m\n\u001b[0;32m    326\u001b[0m     \u001b[39m# recurse incase operands contains value that has torch function\u001b[39;00m\n\u001b[0;32m    327\u001b[0m     \u001b[39m# in the original implementation this line is omitted\u001b[39;00m\n\u001b[0;32m    328\u001b[0m     \u001b[39mreturn\u001b[39;00m einsum(equation, \u001b[39m*\u001b[39m_operands)\n\u001b[1;32m--> 330\u001b[0m \u001b[39mreturn\u001b[39;00m _VF\u001b[39m.\u001b[39;49meinsum(equation, operands)\n",
      "\u001b[1;31mKeyboardInterrupt\u001b[0m: "
     ]
    },
    {
     "data": {
      "text/plain": [
       "<Figure size 1440x1080 with 0 Axes>"
      ]
     },
     "metadata": {},
     "output_type": "display_data"
    },
    {
     "data": {
      "text/plain": [
       "<Figure size 1440x1080 with 0 Axes>"
      ]
     },
     "metadata": {},
     "output_type": "display_data"
    },
    {
     "data": {
      "text/plain": [
       "<Figure size 1440x1080 with 0 Axes>"
      ]
     },
     "metadata": {},
     "output_type": "display_data"
    },
    {
     "data": {
      "text/plain": [
       "<Figure size 1440x1080 with 0 Axes>"
      ]
     },
     "metadata": {},
     "output_type": "display_data"
    },
    {
     "data": {
      "text/plain": [
       "<Figure size 1440x1080 with 0 Axes>"
      ]
     },
     "metadata": {},
     "output_type": "display_data"
    },
    {
     "data": {
      "text/plain": [
       "<Figure size 1440x1080 with 0 Axes>"
      ]
     },
     "metadata": {},
     "output_type": "display_data"
    },
    {
     "data": {
      "text/plain": [
       "<Figure size 1440x1080 with 0 Axes>"
      ]
     },
     "metadata": {},
     "output_type": "display_data"
    },
    {
     "data": {
      "text/plain": [
       "<Figure size 1440x1080 with 0 Axes>"
      ]
     },
     "metadata": {},
     "output_type": "display_data"
    },
    {
     "data": {
      "text/plain": [
       "<Figure size 1440x1080 with 0 Axes>"
      ]
     },
     "metadata": {},
     "output_type": "display_data"
    },
    {
     "data": {
      "text/plain": [
       "<Figure size 1440x1080 with 0 Axes>"
      ]
     },
     "metadata": {},
     "output_type": "display_data"
    },
    {
     "data": {
      "text/plain": [
       "<Figure size 1440x1080 with 0 Axes>"
      ]
     },
     "metadata": {},
     "output_type": "display_data"
    },
    {
     "data": {
      "text/plain": [
       "<Figure size 1440x1080 with 0 Axes>"
      ]
     },
     "metadata": {},
     "output_type": "display_data"
    },
    {
     "data": {
      "text/plain": [
       "<Figure size 1440x1080 with 0 Axes>"
      ]
     },
     "metadata": {},
     "output_type": "display_data"
    },
    {
     "data": {
      "text/plain": [
       "<Figure size 1440x1080 with 0 Axes>"
      ]
     },
     "metadata": {},
     "output_type": "display_data"
    },
    {
     "data": {
      "text/plain": [
       "<Figure size 1440x1080 with 0 Axes>"
      ]
     },
     "metadata": {},
     "output_type": "display_data"
    },
    {
     "data": {
      "text/plain": [
       "<Figure size 1440x1080 with 0 Axes>"
      ]
     },
     "metadata": {},
     "output_type": "display_data"
    },
    {
     "data": {
      "text/plain": [
       "<Figure size 1440x1080 with 0 Axes>"
      ]
     },
     "metadata": {},
     "output_type": "display_data"
    },
    {
     "data": {
      "text/plain": [
       "<Figure size 1440x1080 with 0 Axes>"
      ]
     },
     "metadata": {},
     "output_type": "display_data"
    },
    {
     "data": {
      "text/plain": [
       "<Figure size 1440x1080 with 0 Axes>"
      ]
     },
     "metadata": {},
     "output_type": "display_data"
    },
    {
     "data": {
      "text/plain": [
       "<Figure size 1440x1080 with 0 Axes>"
      ]
     },
     "metadata": {},
     "output_type": "display_data"
    },
    {
     "data": {
      "text/plain": [
       "<Figure size 1440x1080 with 0 Axes>"
      ]
     },
     "metadata": {},
     "output_type": "display_data"
    },
    {
     "data": {
      "text/plain": [
       "<Figure size 1440x1080 with 0 Axes>"
      ]
     },
     "metadata": {},
     "output_type": "display_data"
    },
    {
     "data": {
      "text/plain": [
       "<Figure size 1440x1080 with 0 Axes>"
      ]
     },
     "metadata": {},
     "output_type": "display_data"
    },
    {
     "data": {
      "text/plain": [
       "<Figure size 1440x1080 with 0 Axes>"
      ]
     },
     "metadata": {},
     "output_type": "display_data"
    },
    {
     "data": {
      "text/plain": [
       "<Figure size 1440x1080 with 0 Axes>"
      ]
     },
     "metadata": {},
     "output_type": "display_data"
    },
    {
     "data": {
      "text/plain": [
       "<Figure size 1440x1080 with 0 Axes>"
      ]
     },
     "metadata": {},
     "output_type": "display_data"
    },
    {
     "data": {
      "text/plain": [
       "<Figure size 1440x1080 with 0 Axes>"
      ]
     },
     "metadata": {},
     "output_type": "display_data"
    },
    {
     "data": {
      "text/plain": [
       "<Figure size 1440x1080 with 0 Axes>"
      ]
     },
     "metadata": {},
     "output_type": "display_data"
    },
    {
     "data": {
      "text/plain": [
       "<Figure size 1440x1080 with 0 Axes>"
      ]
     },
     "metadata": {},
     "output_type": "display_data"
    },
    {
     "data": {
      "text/plain": [
       "<Figure size 1440x1080 with 0 Axes>"
      ]
     },
     "metadata": {},
     "output_type": "display_data"
    },
    {
     "data": {
      "text/plain": [
       "<Figure size 1440x1080 with 0 Axes>"
      ]
     },
     "metadata": {},
     "output_type": "display_data"
    },
    {
     "data": {
      "text/plain": [
       "<Figure size 1440x1080 with 0 Axes>"
      ]
     },
     "metadata": {},
     "output_type": "display_data"
    }
   ],
   "source": [
    "for dataset in ['ohio', 'shanghai_t1dm', 'arises', 'shanghai_t2dm', ]:\n",
    "    for seed in [10, 20, 100]:\n",
    "        \n",
    "        print(f'----------------{seed=}--{dataset=}------------------------')\n",
    "        from gat_mem_org_log.train import *\n",
    "        random.seed(seed)\n",
    "        np.random.seed(seed)\n",
    "        torch.manual_seed(seed)\n",
    "        torch.cuda.manual_seed(seed)\n",
    "        torch.backends.cudnn.deterministic = True\n",
    "        torch.backends.cudnn.benchmark = False\n",
    "        os.environ['PYTHONHASHSEED'] = str(seed)\n",
    "\n",
    "        version = 'nips_23'\n",
    "        CONF = select_conf(dataset=dataset, version=version, seed=seed)\n",
    "        pid2model = train(CONF)\n",
    "        print('end')"
   ]
  },
  {
   "cell_type": "code",
   "execution_count": 3,
   "metadata": {},
   "outputs": [
    {
     "name": "stdout",
     "output_type": "stream",
     "text": [
      "----------------seed=100--dataset='arises'------------------------\n"
     ]
    },
    {
     "name": "stderr",
     "output_type": "stream",
     "text": [
      "global_loop: 100%|██████████| 30/30 [48:38<00:00, 97.27s/it] \n"
     ]
    },
    {
     "name": "stdout",
     "output_type": "stream",
     "text": [
      " \n",
      " Results after 30 global rounds of training:\n",
      "rmse, 21.59999, 4.20640\n",
      "mape, 10.19603, 2.22060\n",
      "mae, 15.72825, 2.85260\n",
      "grmse, 28.07988, 6.02601\n",
      "time_lag, -10.72917, 6.30101\n",
      "[25.13496649147048, 20.689549647095014, 22.443423198635426, 16.55301633701591, 21.15263698723334, 24.18839327323386, 30.55392042312502, 19.977117800015677, 23.977812365598403, 16.802119457429136, 23.305313434436872, 14.421648050591068]\n"
     ]
    },
    {
     "name": "stderr",
     "output_type": "stream",
     "text": [
      "tune_loop: 100%|██████████| 30/30 [1:27:33<00:00, 175.10s/it]\n"
     ]
    },
    {
     "name": "stdout",
     "output_type": "stream",
     "text": [
      " \n",
      " Results after 30 of fine tuning:\n",
      "rmse, 20.15979, 3.93972\n",
      "mape, 9.72337, 2.28401\n",
      "mae, 14.56279, 2.67019\n",
      "grmse, 25.32866, 5.32828\n",
      "time_lag, -10.10417, 5.87319\n",
      "[23.06222608450139, 19.913070205024496, 21.648459350178435, 14.030651326141, 19.363096456779097, 22.350517304512145, 28.000282286174702, 18.639605843629294, 22.972143137973926, 16.0383898802583, 22.078984054191316, 13.82006518291995]\n",
      "models have been saved...\n",
      "end\n",
      "----------------seed=10--dataset='shanghai_t2dm'------------------------\n"
     ]
    },
    {
     "name": "stderr",
     "output_type": "stream",
     "text": [
      "global_loop: 100%|██████████| 30/30 [15:19<00:00, 30.67s/it]\n"
     ]
    },
    {
     "name": "stdout",
     "output_type": "stream",
     "text": [
      " \n",
      " Results after 30 global rounds of training:\n",
      "rmse, 12.39204, 3.09427\n",
      "mape, 7.52868, 2.70528\n",
      "mae, 9.21937, 2.47476\n",
      "grmse, 14.04215, 3.74198\n",
      "time_lag, -0.90000, 3.56230\n",
      "[12.391189004345234, 9.494899786108444, 13.131128823884607, 13.285509427274045, 14.678428673074883, 15.002205241542825, 9.750440929908592, 14.056401672494836, 11.468858432517038, 11.062981029332514, 16.98964869683293, 15.401883572411688, 18.51363221079858, 13.078230589664846, 9.287964315603807, 14.60206618647041, 10.543476738410268, 12.094114628304881, 12.053091857089187, 13.964149348994217, 13.401366867268907, 17.182835837314787, 9.757259307402594, 18.62812686760811, 6.5103249342495735, 9.884455535975453, 14.412808528618466, 11.06939895941753, 7.806518217782516, 9.321131041172995, 10.7487054089667, 14.154299435326456, 15.805440540636434, 12.74153963520071, 15.675421574960412, 6.923637217484458, 12.94217792654783, 14.149521868819841, 9.61514491090565, 10.124908823615323, 12.409124007865266, 12.148107159897766, 18.595041643687402, 12.547971304649398, 13.931971253130222, 11.957506600931824, 10.506657987226331, 6.373479624443257, 12.825620306826599, 16.078887061325464, 12.796746818077498, 10.767791220059435, 14.094419611483486, 13.361474729909412, 9.587141214791993, 9.392294432253944, 10.1944604978051, 15.707294514083207, 10.912784924889454, 9.655102312838881, 8.641339732956407, 13.366856457765229, 13.349896697026875, 9.07522846701479, 14.773038813367073, 14.14537536748705, 10.881754564290675, 9.754120958414793, 11.610211554020088, 18.703780925215028, 11.797704078896162, 11.585575975268167, 12.427107413120181, 11.017637850784313, 8.913217703450396, 12.80324730212973, 13.065693880057914, 9.304801062620383, 10.780064968274303, 16.132803987588552, 10.965410120748377, 13.840701488732257, 13.738998173112233, 10.9262532857452, 14.426643814755131, 10.260638786790434, 13.57112880748595, 9.341658240072606, 9.950944359212182, 12.132702455433016, 11.225827505624482, 14.876651447848781, 8.953175702708744, 12.970132997605921, 14.592270966105385, 28.568365183499957, 11.058871778781562, 11.366813648276654, 10.268753016466196, 8.489395258093744]\n"
     ]
    },
    {
     "name": "stderr",
     "output_type": "stream",
     "text": [
      "tune_loop: 100%|██████████| 10/10 [1:16:07<00:00, 456.70s/it]\n"
     ]
    },
    {
     "name": "stdout",
     "output_type": "stream",
     "text": [
      " \n",
      " Results after 10 of fine tuning:\n",
      "rmse, 11.74166, 3.04270\n",
      "mape, 7.03336, 2.71400\n",
      "mae, 8.64977, 2.39899\n",
      "grmse, 13.55643, 3.87096\n",
      "time_lag, -0.90000, 3.56230\n",
      "[12.148501557307, 9.18052481221181, 13.111251751276518, 13.015654308565441, 14.893239867470074, 13.574459867462844, 8.463702622668222, 12.210886266287272, 10.623300573535683, 10.92760643496374, 16.31646750422426, 14.829741025118082, 19.519761464897165, 12.584049701299087, 8.992899743051415, 13.849743099102337, 10.363448364888916, 10.67207338475471, 12.040583331909474, 12.378218415333254, 13.715027323607659, 16.691212901846455, 8.910666993389992, 18.591206660351304, 5.683444411160882, 9.040412030577876, 14.354412163497686, 10.402142421422926, 7.41915606035816, 8.677139801049256, 9.985217039512555, 13.737489870048586, 14.459035953448799, 11.570156881971718, 14.967304964338362, 6.4647475682044595, 12.821690087283187, 13.65561644876214, 9.539187668737549, 10.323990772052529, 11.960749967912626, 11.734697482253218, 14.733228038106638, 12.093628244501769, 10.598060473653783, 10.350200013517817, 9.482256732920884, 5.979523048900639, 12.032151067110062, 12.90883302125731, 11.90261104372495, 10.347828409642776, 14.236656500234318, 12.810427018849662, 8.588172462042955, 8.80049386806089, 8.810470888541204, 14.832107893369265, 10.239911208363859, 9.168736403337524, 8.051010106372377, 13.269950386190338, 13.10075012854852, 8.96829913664218, 14.537638254730052, 12.851233017242997, 10.64633298971668, 9.288735193849853, 11.016349779458661, 17.930655100525033, 11.243397449439145, 11.484638070966527, 11.72399231702279, 10.385752426020458, 8.254243164118824, 12.94263301139216, 11.648918894102026, 8.755016523745383, 10.378642718121197, 15.978256710292271, 10.52577968436862, 13.253012836452097, 13.394104050492876, 10.489099566540347, 13.984480293772595, 8.75977411684371, 13.05543202731805, 8.752057078926814, 9.12823429009591, 12.095605831041365, 10.391034707618, 14.534570458163541, 8.704374103865197, 13.059524416245624, 11.687296982904197, 27.38003284750529, 10.67275108215408, 11.402613397162787, 9.8462984207433, 8.277124838569351]\n",
      "models have been saved...\n",
      "end\n",
      "----------------seed=20--dataset='shanghai_t2dm'------------------------\n"
     ]
    },
    {
     "name": "stderr",
     "output_type": "stream",
     "text": [
      "global_loop: 100%|██████████| 30/30 [15:00<00:00, 30.01s/it]\n"
     ]
    },
    {
     "name": "stdout",
     "output_type": "stream",
     "text": [
      " \n",
      " Results after 30 global rounds of training:\n",
      "rmse, 12.54073, 3.21238\n",
      "mape, 7.55090, 2.60051\n",
      "mae, 9.26137, 2.55021\n",
      "grmse, 14.44949, 3.95596\n",
      "time_lag, -0.75000, 3.26917\n",
      "[12.314630779101172, 9.96081839695951, 13.112712230728564, 14.138125642378748, 16.671066822316458, 16.067503628490723, 9.913072420888357, 12.646219380669601, 11.963806884553865, 10.808539751288135, 17.39039160613825, 16.46158451208259, 17.817987607276162, 12.52834250189252, 9.199972185839197, 14.638820280476892, 11.081440546470523, 14.489420220969635, 12.823133568539383, 14.21274448207983, 15.032036203613862, 17.564207163746836, 9.938061968190466, 19.585328258873083, 6.292551378442753, 10.161676735276792, 15.380838913676866, 11.612928460206538, 7.356586551665023, 10.090522746220445, 11.036523698460476, 15.351362713394636, 14.887890783861478, 13.497014598650024, 14.510236086774926, 6.393568335792863, 12.35092935501686, 13.870830287381073, 9.916633627272846, 10.86102589744274, 12.64081813820312, 13.12817053874362, 18.574021998826495, 12.325979222517995, 14.947160860773913, 11.570942863483511, 10.358089775808613, 6.390506211648126, 13.506106655590555, 17.004333841252517, 12.646861872985527, 11.489320523163428, 13.972884485835134, 12.8352176884676, 9.953831717943629, 9.159359140424687, 9.701876303509222, 15.312203540656968, 10.550713277270864, 10.035659914010038, 8.610444544216254, 13.067039759493039, 13.331725087130627, 9.553621446302852, 14.730576479651146, 14.616942704891674, 10.70172386187023, 9.509419238852281, 11.687280663048826, 18.800977251341717, 11.560018737144201, 11.148649645406193, 11.619125358506107, 10.595366318091639, 8.987191728974064, 11.358659010705638, 13.465991664877663, 9.213261823068427, 10.68948470755201, 16.2648313477125, 10.893511921770045, 14.646008131884221, 13.722421628367192, 10.707032318838873, 14.628093685710715, 9.842618362532845, 13.650023273825454, 9.020656616265482, 10.06985754342256, 12.049088844895596, 11.461472034015676, 15.211314176608548, 9.118808683921648, 13.070265802367267, 16.84169528863744, 28.327029375875593, 11.091207551422453, 11.445622462739644, 9.822800593467397, 8.905754851915804]\n"
     ]
    },
    {
     "name": "stderr",
     "output_type": "stream",
     "text": [
      "tune_loop: 100%|██████████| 10/10 [1:16:11<00:00, 457.18s/it]\n"
     ]
    },
    {
     "name": "stdout",
     "output_type": "stream",
     "text": [
      " \n",
      " Results after 10 of fine tuning:\n",
      "rmse, 11.80305, 3.08603\n",
      "mape, 6.96409, 2.42869\n",
      "mae, 8.63032, 2.34776\n",
      "grmse, 13.65730, 3.93979\n",
      "time_lag, -0.60000, 2.93939\n",
      "[11.990460736837456, 9.179397020005121, 13.267563605219863, 12.71742245355971, 15.99310010906681, 13.914326788969504, 8.47974045770155, 11.783757193431558, 11.898617037384797, 10.634309527352265, 17.328250922389625, 15.693736990828688, 19.28743917835112, 12.393858440807739, 9.066731484499346, 14.067515924016611, 10.741473697875373, 12.693016018253834, 12.227509697734986, 13.35824248214989, 14.936844176895056, 16.28314678250568, 8.806696286071052, 19.43933293081123, 5.6782170928053946, 9.905612287241826, 15.211908012663704, 10.828898612786789, 7.215076915730167, 9.328583008018956, 9.650679379597737, 13.813296472016669, 14.665577992579948, 10.705435710879106, 10.242254540684481, 5.827617060640545, 11.858902792394122, 13.98973742769672, 9.863964626697436, 10.128466730846831, 12.119591204607392, 12.6176004914994, 16.130896148288695, 12.191301740780828, 9.627297659753342, 10.16980690741863, 9.996562366897605, 5.835185746846052, 12.460970562260213, 13.246909302894075, 12.594634448626575, 9.714967439275924, 14.025250143992531, 13.006298006804123, 8.85949857649153, 8.901669686388415, 8.949746444776034, 14.284108349588134, 10.03396522162837, 9.19066788430895, 7.98084540838984, 13.25070879497908, 13.158760755448844, 9.519286004227073, 14.283174681403718, 13.776332540151458, 10.428013310735977, 9.171388785424918, 10.763519657050608, 16.78079262790358, 11.131375318418304, 11.228740356128624, 11.72066455714576, 10.438065747672525, 8.210105846619477, 11.474663065033965, 10.98793686138242, 8.91019092839043, 10.511832699819017, 16.69215630993763, 10.857722446201597, 13.89889475867399, 13.57291585473824, 10.490909455970865, 14.579787050217417, 8.861699413300997, 12.98361053236174, 8.424853532463162, 9.030007669608237, 11.88666355146566, 10.178634436849741, 14.643811769636049, 9.28513159967279, 12.866717887605166, 12.147141208975109, 26.714198031474645, 10.876647473652591, 11.285198503403937, 9.46815655047779, 8.78008830032611]\n",
      "models have been saved...\n",
      "end\n",
      "----------------seed=100--dataset='shanghai_t2dm'------------------------\n"
     ]
    },
    {
     "name": "stderr",
     "output_type": "stream",
     "text": [
      "global_loop: 100%|██████████| 30/30 [15:21<00:00, 30.73s/it]\n"
     ]
    },
    {
     "name": "stdout",
     "output_type": "stream",
     "text": [
      " \n",
      " Results after 30 global rounds of training:\n",
      "rmse, 12.85659, 3.36113\n",
      "mape, 8.11984, 3.20849\n",
      "mae, 9.75255, 2.81024\n",
      "grmse, 14.67055, 4.02952\n",
      "time_lag, -0.90000, 3.56230\n",
      "[12.243074288837432, 9.704149471631887, 14.080038975748389, 17.518746063090443, 14.685440243702848, 16.32591193136313, 10.564351478238581, 13.319614282470384, 11.476935435780334, 11.70778002172527, 18.014102074073975, 16.02879603233174, 18.635268280251644, 12.984792764601538, 9.344357065746577, 15.023751845222815, 11.10391122453804, 12.433922027750837, 12.263990859494221, 13.782948361194123, 15.183074683210167, 18.25370521034702, 10.283046391552471, 19.283280573283395, 6.418667700071824, 11.558186484249486, 15.333024947893824, 11.47107209440849, 8.234549185776277, 10.328389451512242, 10.799560919419182, 15.547482027251078, 15.354760222778584, 13.634797939234376, 18.22883193517081, 6.150662592728514, 12.274997663012124, 14.492372282346228, 10.131277893140966, 11.308642662351044, 13.139619369219519, 16.074760299960055, 19.29199631521248, 12.490668514005078, 15.504317143868551, 13.256883092975524, 10.619785600067745, 6.533188819584487, 12.769016221641927, 18.77544903783304, 12.427506462284265, 10.896150913801081, 13.728962288446207, 13.901073804036631, 9.760130094693002, 9.416430670107513, 10.247235553397628, 15.173729953062844, 10.69832665023995, 9.733623347033419, 8.695663897464977, 13.095852120936518, 13.517344882442648, 9.413791814054493, 14.896727009176798, 15.521457709057565, 11.09918612683933, 9.785109468451045, 11.076162748243902, 20.842246303050715, 11.710400019979236, 11.42006267149609, 12.163599611857427, 11.432780975552753, 9.280080599599263, 13.858503002444023, 14.285406196541816, 9.291205105343995, 11.272099807481489, 16.446555772481474, 10.64292849172082, 14.482516567669187, 14.391574492800846, 11.339776470262004, 14.406978696321099, 10.196006920795329, 13.647796318832999, 9.300220150546588, 9.994419066438326, 12.510511937388769, 10.884451431238249, 15.279257802463464, 9.12882560070815, 13.023615588164496, 16.136130106819873, 28.606043506532956, 11.478709540060596, 11.673224068621744, 10.829212833162783, 8.651558496392653]\n"
     ]
    },
    {
     "name": "stderr",
     "output_type": "stream",
     "text": [
      "tune_loop: 100%|██████████| 10/10 [1:16:00<00:00, 456.05s/it]\n"
     ]
    },
    {
     "name": "stdout",
     "output_type": "stream",
     "text": [
      " \n",
      " Results after 10 of fine tuning:\n",
      "rmse, 11.77773, 3.10333\n",
      "mape, 6.98667, 2.55988\n",
      "mae, 8.63779, 2.42273\n",
      "grmse, 13.66485, 3.99875\n",
      "time_lag, -0.90000, 3.56230\n",
      "[11.735697380964547, 9.109294596557683, 14.02389938741434, 14.775159681977373, 15.398691176246318, 13.503962182593162, 7.998414836239624, 11.872102725301747, 10.61259328488889, 11.116028672364255, 16.604062311793047, 15.44638732350242, 18.948802835700466, 12.009905859128006, 8.971470011649254, 13.885646824838252, 10.574825160968789, 11.042779792002916, 12.184121627110374, 11.975968138994482, 15.239816736436048, 16.44029948831909, 8.780842075850991, 19.024178630327086, 5.772562624003907, 9.307208510021866, 14.474431086348005, 10.848105663403864, 7.460069791656558, 9.047936675345086, 9.90814710676802, 14.392370194801785, 14.591009826225992, 10.400930333707684, 12.843865238610148, 6.121132076997909, 12.237762566809407, 14.099261844873741, 10.037822911067186, 10.506775622633949, 12.502110417548636, 15.410393890753216, 14.752603592049121, 12.30262569531494, 9.511954164822884, 10.428812214559382, 9.151189974757466, 5.864333839146022, 11.920603353092401, 13.008041242358152, 12.15637238350188, 9.915730750105801, 14.117174529601126, 12.936930325999503, 8.132724318085815, 9.012545848206024, 8.930580288101472, 14.494397363520866, 10.12441901906637, 9.27268345120389, 7.917013809891683, 13.189993238469054, 12.880345688439846, 9.07332243743773, 14.428684994953413, 13.695928060360506, 10.816312790202042, 9.317462187931602, 11.031919118671873, 17.626288184307267, 11.291177961934105, 11.2765078735297, 11.670350573977256, 10.274445574947515, 8.266902370579169, 12.38308359324703, 10.28310389167457, 8.622621512371135, 10.44967069700195, 16.17853501146465, 10.348770997428948, 13.327991051129363, 13.977510645068664, 10.595218702924114, 14.099614650790327, 8.636200197854487, 13.159517367246687, 8.505019108539445, 8.914731347469681, 12.291231481747085, 10.03614606835081, 14.641490540216791, 8.629670578558233, 12.561209996733247, 12.088997471390307, 26.997851250941597, 10.976332431975015, 11.542582084259786, 10.285175536442228, 8.213985556100054]\n",
      "models have been saved...\n",
      "end\n"
     ]
    },
    {
     "data": {
      "text/plain": [
       "<Figure size 1440x1080 with 0 Axes>"
      ]
     },
     "metadata": {},
     "output_type": "display_data"
    },
    {
     "data": {
      "text/plain": [
       "<Figure size 1440x1080 with 0 Axes>"
      ]
     },
     "metadata": {},
     "output_type": "display_data"
    },
    {
     "data": {
      "text/plain": [
       "<Figure size 1440x1080 with 0 Axes>"
      ]
     },
     "metadata": {},
     "output_type": "display_data"
    },
    {
     "data": {
      "text/plain": [
       "<Figure size 1440x1080 with 0 Axes>"
      ]
     },
     "metadata": {},
     "output_type": "display_data"
    },
    {
     "data": {
      "text/plain": [
       "<Figure size 1440x1080 with 0 Axes>"
      ]
     },
     "metadata": {},
     "output_type": "display_data"
    },
    {
     "data": {
      "text/plain": [
       "<Figure size 1440x1080 with 0 Axes>"
      ]
     },
     "metadata": {},
     "output_type": "display_data"
    },
    {
     "data": {
      "text/plain": [
       "<Figure size 1440x1080 with 0 Axes>"
      ]
     },
     "metadata": {},
     "output_type": "display_data"
    },
    {
     "data": {
      "text/plain": [
       "<Figure size 1440x1080 with 0 Axes>"
      ]
     },
     "metadata": {},
     "output_type": "display_data"
    },
    {
     "data": {
      "text/plain": [
       "<Figure size 1440x1080 with 0 Axes>"
      ]
     },
     "metadata": {},
     "output_type": "display_data"
    },
    {
     "data": {
      "text/plain": [
       "<Figure size 1440x1080 with 0 Axes>"
      ]
     },
     "metadata": {},
     "output_type": "display_data"
    },
    {
     "data": {
      "text/plain": [
       "<Figure size 1440x1080 with 0 Axes>"
      ]
     },
     "metadata": {},
     "output_type": "display_data"
    },
    {
     "data": {
      "text/plain": [
       "<Figure size 1440x1080 with 0 Axes>"
      ]
     },
     "metadata": {},
     "output_type": "display_data"
    },
    {
     "data": {
      "text/plain": [
       "<Figure size 1440x1080 with 0 Axes>"
      ]
     },
     "metadata": {},
     "output_type": "display_data"
    },
    {
     "data": {
      "text/plain": [
       "<Figure size 1440x1080 with 0 Axes>"
      ]
     },
     "metadata": {},
     "output_type": "display_data"
    },
    {
     "data": {
      "text/plain": [
       "<Figure size 1440x1080 with 0 Axes>"
      ]
     },
     "metadata": {},
     "output_type": "display_data"
    },
    {
     "data": {
      "text/plain": [
       "<Figure size 1440x1080 with 0 Axes>"
      ]
     },
     "metadata": {},
     "output_type": "display_data"
    }
   ],
   "source": [
    "for dataset in ['arises', ]:\n",
    "    for seed in [100]:\n",
    "        \n",
    "        print(f'----------------{seed=}--{dataset=}------------------------')\n",
    "        from gat_mem_org_log.train import *\n",
    "        random.seed(seed)\n",
    "        np.random.seed(seed)\n",
    "        torch.manual_seed(seed)\n",
    "        torch.cuda.manual_seed(seed)\n",
    "        torch.backends.cudnn.deterministic = True\n",
    "        torch.backends.cudnn.benchmark = False\n",
    "        os.environ['PYTHONHASHSEED'] = str(seed)\n",
    "\n",
    "        version = 'nips_23'\n",
    "        CONF = select_conf(dataset=dataset, version=version, seed=seed)\n",
    "        pid2model = train(CONF)\n",
    "        print('end')\n",
    "\n",
    "\n",
    "\n",
    "for dataset in ['shanghai_t2dm']:\n",
    "    for seed in [10, 20, 100]:\n",
    "        \n",
    "        print(f'----------------{seed=}--{dataset=}------------------------')\n",
    "        from gat_mem_org_log.train import *\n",
    "        random.seed(seed)\n",
    "        np.random.seed(seed)\n",
    "        torch.manual_seed(seed)\n",
    "        torch.cuda.manual_seed(seed)\n",
    "        torch.backends.cudnn.deterministic = True\n",
    "        torch.backends.cudnn.benchmark = False\n",
    "        os.environ['PYTHONHASHSEED'] = str(seed)\n",
    "\n",
    "        version = 'nips_23'\n",
    "        CONF = select_conf(dataset=dataset, version=version, seed=seed)\n",
    "        pid2model = train(CONF)\n",
    "        print('end')"
   ]
  }
 ],
 "metadata": {
  "kernelspec": {
   "display_name": "base",
   "language": "python",
   "name": "python3"
  },
  "language_info": {
   "codemirror_mode": {
    "name": "ipython",
    "version": 3
   },
   "file_extension": ".py",
   "mimetype": "text/x-python",
   "name": "python",
   "nbconvert_exporter": "python",
   "pygments_lexer": "ipython3",
   "version": "3.9.18"
  },
  "orig_nbformat": 4
 },
 "nbformat": 4,
 "nbformat_minor": 2
}
